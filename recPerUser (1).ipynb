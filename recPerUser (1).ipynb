{
  "cells": [
    {
      "cell_type": "code",
      "execution_count": 1,
      "metadata": {
        "colab": {
          "base_uri": "https://localhost:8080/"
        },
        "id": "qSMhwSQ7zlQG",
        "outputId": "074cdb9f-74ac-4210-976b-ec823568ee44"
      },
      "outputs": [
        {
          "name": "stdout",
          "output_type": "stream",
          "text": [
            "Cloning into 'borges'...\n",
            "remote: Enumerating objects: 211, done.\u001b[K\n",
            "remote: Counting objects: 100% (211/211), done.\u001b[K\n",
            "remote: Compressing objects: 100% (158/158), done.\u001b[K\n",
            "remote: Total 211 (delta 89), reused 171 (delta 49), pack-reused 0\u001b[K\n",
            "Receiving objects: 100% (211/211), 2.21 MiB | 13.89 MiB/s, done.\n",
            "Resolving deltas: 100% (89/89), done.\n"
          ]
        }
      ],
      "source": [
        "!git clone https://github.com/karen-pal/borges"
      ]
    },
    {
      "cell_type": "code",
      "execution_count": 2,
      "metadata": {
        "colab": {
          "base_uri": "https://localhost:8080/"
        },
        "id": "dsRmvHEuzrsG",
        "outputId": "b6281d36-8418-467b-982e-69b48b99d94b"
      },
      "outputs": [
        {
          "name": "stdout",
          "output_type": "stream",
          "text": [
            "Collecting pickle5\n",
            "  Downloading pickle5-0.0.11.tar.gz (132 kB)\n",
            "\u001b[?25l     \u001b[90m━━━━━━━━━━━━━━━━━━━━━━━━━━━━━━━━━━━━━━━━\u001b[0m \u001b[32m0.0/132.1 kB\u001b[0m \u001b[31m?\u001b[0m eta \u001b[36m-:--:--\u001b[0m\r\u001b[2K     \u001b[91m━━━━━━━━━━━━━━━━━━━━━━━━━━━━━━━━━━━━\u001b[0m\u001b[90m╺\u001b[0m\u001b[90m━━\u001b[0m \u001b[32m122.9/132.1 kB\u001b[0m \u001b[31m4.5 MB/s\u001b[0m eta \u001b[36m0:00:01\u001b[0m\r\u001b[2K     \u001b[90m━━━━━━━━━━━━━━━━━━━━━━━━━━━━━━━━━━━━━━━\u001b[0m \u001b[32m132.1/132.1 kB\u001b[0m \u001b[31m3.4 MB/s\u001b[0m eta \u001b[36m0:00:00\u001b[0m\n",
            "\u001b[?25h  Preparing metadata (setup.py) ... \u001b[?25l\u001b[?25hdone\n",
            "Building wheels for collected packages: pickle5\n",
            "  Building wheel for pickle5 (setup.py) ... \u001b[?25l\u001b[?25hdone\n",
            "  Created wheel for pickle5: filename=pickle5-0.0.11-cp310-cp310-linux_x86_64.whl size=255315 sha256=827014ac645b1c38ef51dcb10bdd7410dfcd5f76bd8889c4a7c4e990d17ce0b5\n",
            "  Stored in directory: /root/.cache/pip/wheels/7d/14/ef/4aab19d27fa8e58772be5c71c16add0426acf9e1f64353235c\n",
            "Successfully built pickle5\n",
            "Installing collected packages: pickle5\n",
            "Successfully installed pickle5-0.0.11\n"
          ]
        }
      ],
      "source": [
        "pip install pickle5"
      ]
    },
    {
      "cell_type": "code",
      "execution_count": 3,
      "metadata": {
        "id": "fbsUDvl5ztvE"
      },
      "outputs": [],
      "source": [
        "import pickle\n",
        "from pathlib import Path\n",
        "import pandas as pd"
      ]
    },
    {
      "cell_type": "code",
      "execution_count": 4,
      "metadata": {
        "colab": {
          "base_uri": "https://localhost:8080/"
        },
        "id": "6mzfTRbIzvaE",
        "outputId": "8cfa9a1a-a641-4365-c8c1-7378c598e978"
      },
      "outputs": [
        {
          "data": {
            "text/plain": [
              "(719, 3)"
            ]
          },
          "execution_count": 4,
          "metadata": {},
          "output_type": "execute_result"
        }
      ],
      "source": [
        "df = pd.DataFrame()\n",
        "# usando el asterisco de \"wildcard\" traemos todos los archivos en formato pickle\n",
        "pkls = Path('.').glob('./borges/datasets/*texts.pkl')\n",
        "\n",
        "# leemos todos los pickles y concatenarlos en un DataFrame\n",
        "for pkl in pkls:\n",
        "    with open(pkl, 'rb') as inp:\n",
        "        df_ = pickle.load(inp)\n",
        "    df = pd.concat([df, df_])\n",
        "\n",
        "df.shape"
      ]
    },
    {
      "cell_type": "code",
      "execution_count": 5,
      "metadata": {
        "colab": {
          "base_uri": "https://localhost:8080/"
        },
        "id": "k3v4C4A40EtF",
        "outputId": "1b7a06f9-901a-4c2b-ac43-022a97443fd0"
      },
      "outputs": [
        {
          "data": {
            "text/plain": [
              "(693, 3)"
            ]
          },
          "execution_count": 5,
          "metadata": {},
          "output_type": "execute_result"
        }
      ],
      "source": [
        "df = df.drop_duplicates(subset=[c for c in df.columns if c != 'text_metadata'])\n",
        "df = df.reset_index(drop=True)\n",
        "df.shape"
      ]
    },
    {
      "cell_type": "code",
      "execution_count": 6,
      "metadata": {
        "id": "ZhPYf2BUuyhD"
      },
      "outputs": [],
      "source": [
        "df['title'] = df['text_metadata'].apply(lambda x: x['title'])\n",
        "df['author'] = df['text_metadata'].apply(lambda x: x['author'])"
      ]
    },
    {
      "cell_type": "code",
      "execution_count": 7,
      "metadata": {
        "colab": {
          "base_uri": "https://localhost:8080/",
          "height": 175
        },
        "id": "sev5t40WO3_J",
        "outputId": "7df5f676-93ab-4339-8bf4-02370be13e6e"
      },
      "outputs": [
        {
          "data": {
            "text/html": [
              "\n",
              "  <div id=\"df-787951fc-a346-40b3-a069-858827329198\" class=\"colab-df-container\">\n",
              "    <div>\n",
              "<style scoped>\n",
              "    .dataframe tbody tr th:only-of-type {\n",
              "        vertical-align: middle;\n",
              "    }\n",
              "\n",
              "    .dataframe tbody tr th {\n",
              "        vertical-align: top;\n",
              "    }\n",
              "\n",
              "    .dataframe thead th {\n",
              "        text-align: right;\n",
              "    }\n",
              "</style>\n",
              "<table border=\"1\" class=\"dataframe\">\n",
              "  <thead>\n",
              "    <tr style=\"text-align: right;\">\n",
              "      <th></th>\n",
              "      <th>link</th>\n",
              "      <th>text_metadata</th>\n",
              "      <th>text</th>\n",
              "      <th>title</th>\n",
              "      <th>author</th>\n",
              "    </tr>\n",
              "  </thead>\n",
              "  <tbody>\n",
              "    <tr>\n",
              "      <th>0</th>\n",
              "      <td>https://ciudadseva.com/texto/el-antropofago/</td>\n",
              "      <td>{'title': 'El antropófago', 'metadata': '[Cuen...</td>\n",
              "      <td>Allí está, en la penitenciaría, asomando por e...</td>\n",
              "      <td>El antropófago</td>\n",
              "      <td>Pablo Palacio</td>\n",
              "    </tr>\n",
              "    <tr>\n",
              "      <th>1</th>\n",
              "      <td>https://ciudadseva.com/texto/la-doble-y-unica-...</td>\n",
              "      <td>{'title': 'La doble y única mujer', 'metadata'...</td>\n",
              "      <td>(Ha sido preciso que me adapte a una serie de ...</td>\n",
              "      <td>La doble y única mujer</td>\n",
              "      <td>Pablo Palacio</td>\n",
              "    </tr>\n",
              "    <tr>\n",
              "      <th>2</th>\n",
              "      <td>https://ciudadseva.com/texto/revolucion-palacio/</td>\n",
              "      <td>{'title': 'Revolución', 'metadata': '[Minicuen...</td>\n",
              "      <td>Pesas, pesas tanto. Pues salta sobre un platil...</td>\n",
              "      <td>Revolución</td>\n",
              "      <td>Pablo Palacio</td>\n",
              "    </tr>\n",
              "    <tr>\n",
              "      <th>3</th>\n",
              "      <td>https://ciudadseva.com/texto/senora-palacio/</td>\n",
              "      <td>{'title': 'Señora', 'metadata': '[Cuento - Tex...</td>\n",
              "      <td>–Usted fue, sí, usted fue. –¿Señora…? –Le digo...</td>\n",
              "      <td>Señora</td>\n",
              "      <td>Pablo Palacio</td>\n",
              "    </tr>\n",
              "  </tbody>\n",
              "</table>\n",
              "</div>\n",
              "    <div class=\"colab-df-buttons\">\n",
              "\n",
              "  <div class=\"colab-df-container\">\n",
              "    <button class=\"colab-df-convert\" onclick=\"convertToInteractive('df-787951fc-a346-40b3-a069-858827329198')\"\n",
              "            title=\"Convert this dataframe to an interactive table.\"\n",
              "            style=\"display:none;\">\n",
              "\n",
              "  <svg xmlns=\"http://www.w3.org/2000/svg\" height=\"24px\" viewBox=\"0 -960 960 960\">\n",
              "    <path d=\"M120-120v-720h720v720H120Zm60-500h600v-160H180v160Zm220 220h160v-160H400v160Zm0 220h160v-160H400v160ZM180-400h160v-160H180v160Zm440 0h160v-160H620v160ZM180-180h160v-160H180v160Zm440 0h160v-160H620v160Z\"/>\n",
              "  </svg>\n",
              "    </button>\n",
              "\n",
              "  <style>\n",
              "    .colab-df-container {\n",
              "      display:flex;\n",
              "      gap: 12px;\n",
              "    }\n",
              "\n",
              "    .colab-df-convert {\n",
              "      background-color: #E8F0FE;\n",
              "      border: none;\n",
              "      border-radius: 50%;\n",
              "      cursor: pointer;\n",
              "      display: none;\n",
              "      fill: #1967D2;\n",
              "      height: 32px;\n",
              "      padding: 0 0 0 0;\n",
              "      width: 32px;\n",
              "    }\n",
              "\n",
              "    .colab-df-convert:hover {\n",
              "      background-color: #E2EBFA;\n",
              "      box-shadow: 0px 1px 2px rgba(60, 64, 67, 0.3), 0px 1px 3px 1px rgba(60, 64, 67, 0.15);\n",
              "      fill: #174EA6;\n",
              "    }\n",
              "\n",
              "    .colab-df-buttons div {\n",
              "      margin-bottom: 4px;\n",
              "    }\n",
              "\n",
              "    [theme=dark] .colab-df-convert {\n",
              "      background-color: #3B4455;\n",
              "      fill: #D2E3FC;\n",
              "    }\n",
              "\n",
              "    [theme=dark] .colab-df-convert:hover {\n",
              "      background-color: #434B5C;\n",
              "      box-shadow: 0px 1px 3px 1px rgba(0, 0, 0, 0.15);\n",
              "      filter: drop-shadow(0px 1px 2px rgba(0, 0, 0, 0.3));\n",
              "      fill: #FFFFFF;\n",
              "    }\n",
              "  </style>\n",
              "\n",
              "    <script>\n",
              "      const buttonEl =\n",
              "        document.querySelector('#df-787951fc-a346-40b3-a069-858827329198 button.colab-df-convert');\n",
              "      buttonEl.style.display =\n",
              "        google.colab.kernel.accessAllowed ? 'block' : 'none';\n",
              "\n",
              "      async function convertToInteractive(key) {\n",
              "        const element = document.querySelector('#df-787951fc-a346-40b3-a069-858827329198');\n",
              "        const dataTable =\n",
              "          await google.colab.kernel.invokeFunction('convertToInteractive',\n",
              "                                                    [key], {});\n",
              "        if (!dataTable) return;\n",
              "\n",
              "        const docLinkHtml = 'Like what you see? Visit the ' +\n",
              "          '<a target=\"_blank\" href=https://colab.research.google.com/notebooks/data_table.ipynb>data table notebook</a>'\n",
              "          + ' to learn more about interactive tables.';\n",
              "        element.innerHTML = '';\n",
              "        dataTable['output_type'] = 'display_data';\n",
              "        await google.colab.output.renderOutput(dataTable, element);\n",
              "        const docLink = document.createElement('div');\n",
              "        docLink.innerHTML = docLinkHtml;\n",
              "        element.appendChild(docLink);\n",
              "      }\n",
              "    </script>\n",
              "  </div>\n",
              "\n",
              "\n",
              "<div id=\"df-cbc921bc-7968-4bcf-a87f-5c140bd11ed9\">\n",
              "  <button class=\"colab-df-quickchart\" onclick=\"quickchart('df-cbc921bc-7968-4bcf-a87f-5c140bd11ed9')\"\n",
              "            title=\"Suggest charts.\"\n",
              "            style=\"display:none;\">\n",
              "\n",
              "<svg xmlns=\"http://www.w3.org/2000/svg\" height=\"24px\"viewBox=\"0 0 24 24\"\n",
              "     width=\"24px\">\n",
              "    <g>\n",
              "        <path d=\"M19 3H5c-1.1 0-2 .9-2 2v14c0 1.1.9 2 2 2h14c1.1 0 2-.9 2-2V5c0-1.1-.9-2-2-2zM9 17H7v-7h2v7zm4 0h-2V7h2v10zm4 0h-2v-4h2v4z\"/>\n",
              "    </g>\n",
              "</svg>\n",
              "  </button>\n",
              "\n",
              "<style>\n",
              "  .colab-df-quickchart {\n",
              "      --bg-color: #E8F0FE;\n",
              "      --fill-color: #1967D2;\n",
              "      --hover-bg-color: #E2EBFA;\n",
              "      --hover-fill-color: #174EA6;\n",
              "      --disabled-fill-color: #AAA;\n",
              "      --disabled-bg-color: #DDD;\n",
              "  }\n",
              "\n",
              "  [theme=dark] .colab-df-quickchart {\n",
              "      --bg-color: #3B4455;\n",
              "      --fill-color: #D2E3FC;\n",
              "      --hover-bg-color: #434B5C;\n",
              "      --hover-fill-color: #FFFFFF;\n",
              "      --disabled-bg-color: #3B4455;\n",
              "      --disabled-fill-color: #666;\n",
              "  }\n",
              "\n",
              "  .colab-df-quickchart {\n",
              "    background-color: var(--bg-color);\n",
              "    border: none;\n",
              "    border-radius: 50%;\n",
              "    cursor: pointer;\n",
              "    display: none;\n",
              "    fill: var(--fill-color);\n",
              "    height: 32px;\n",
              "    padding: 0;\n",
              "    width: 32px;\n",
              "  }\n",
              "\n",
              "  .colab-df-quickchart:hover {\n",
              "    background-color: var(--hover-bg-color);\n",
              "    box-shadow: 0 1px 2px rgba(60, 64, 67, 0.3), 0 1px 3px 1px rgba(60, 64, 67, 0.15);\n",
              "    fill: var(--button-hover-fill-color);\n",
              "  }\n",
              "\n",
              "  .colab-df-quickchart-complete:disabled,\n",
              "  .colab-df-quickchart-complete:disabled:hover {\n",
              "    background-color: var(--disabled-bg-color);\n",
              "    fill: var(--disabled-fill-color);\n",
              "    box-shadow: none;\n",
              "  }\n",
              "\n",
              "  .colab-df-spinner {\n",
              "    border: 2px solid var(--fill-color);\n",
              "    border-color: transparent;\n",
              "    border-bottom-color: var(--fill-color);\n",
              "    animation:\n",
              "      spin 1s steps(1) infinite;\n",
              "  }\n",
              "\n",
              "  @keyframes spin {\n",
              "    0% {\n",
              "      border-color: transparent;\n",
              "      border-bottom-color: var(--fill-color);\n",
              "      border-left-color: var(--fill-color);\n",
              "    }\n",
              "    20% {\n",
              "      border-color: transparent;\n",
              "      border-left-color: var(--fill-color);\n",
              "      border-top-color: var(--fill-color);\n",
              "    }\n",
              "    30% {\n",
              "      border-color: transparent;\n",
              "      border-left-color: var(--fill-color);\n",
              "      border-top-color: var(--fill-color);\n",
              "      border-right-color: var(--fill-color);\n",
              "    }\n",
              "    40% {\n",
              "      border-color: transparent;\n",
              "      border-right-color: var(--fill-color);\n",
              "      border-top-color: var(--fill-color);\n",
              "    }\n",
              "    60% {\n",
              "      border-color: transparent;\n",
              "      border-right-color: var(--fill-color);\n",
              "    }\n",
              "    80% {\n",
              "      border-color: transparent;\n",
              "      border-right-color: var(--fill-color);\n",
              "      border-bottom-color: var(--fill-color);\n",
              "    }\n",
              "    90% {\n",
              "      border-color: transparent;\n",
              "      border-bottom-color: var(--fill-color);\n",
              "    }\n",
              "  }\n",
              "</style>\n",
              "\n",
              "  <script>\n",
              "    async function quickchart(key) {\n",
              "      const quickchartButtonEl =\n",
              "        document.querySelector('#' + key + ' button');\n",
              "      quickchartButtonEl.disabled = true;  // To prevent multiple clicks.\n",
              "      quickchartButtonEl.classList.add('colab-df-spinner');\n",
              "      try {\n",
              "        const charts = await google.colab.kernel.invokeFunction(\n",
              "            'suggestCharts', [key], {});\n",
              "      } catch (error) {\n",
              "        console.error('Error during call to suggestCharts:', error);\n",
              "      }\n",
              "      quickchartButtonEl.classList.remove('colab-df-spinner');\n",
              "      quickchartButtonEl.classList.add('colab-df-quickchart-complete');\n",
              "    }\n",
              "    (() => {\n",
              "      let quickchartButtonEl =\n",
              "        document.querySelector('#df-cbc921bc-7968-4bcf-a87f-5c140bd11ed9 button');\n",
              "      quickchartButtonEl.style.display =\n",
              "        google.colab.kernel.accessAllowed ? 'block' : 'none';\n",
              "    })();\n",
              "  </script>\n",
              "</div>\n",
              "    </div>\n",
              "  </div>\n"
            ],
            "text/plain": [
              "                                                link  \\\n",
              "0       https://ciudadseva.com/texto/el-antropofago/   \n",
              "1  https://ciudadseva.com/texto/la-doble-y-unica-...   \n",
              "2   https://ciudadseva.com/texto/revolucion-palacio/   \n",
              "3       https://ciudadseva.com/texto/senora-palacio/   \n",
              "\n",
              "                                       text_metadata  \\\n",
              "0  {'title': 'El antropófago', 'metadata': '[Cuen...   \n",
              "1  {'title': 'La doble y única mujer', 'metadata'...   \n",
              "2  {'title': 'Revolución', 'metadata': '[Minicuen...   \n",
              "3  {'title': 'Señora', 'metadata': '[Cuento - Tex...   \n",
              "\n",
              "                                                text                   title  \\\n",
              "0  Allí está, en la penitenciaría, asomando por e...          El antropófago   \n",
              "1  (Ha sido preciso que me adapte a una serie de ...  La doble y única mujer   \n",
              "2  Pesas, pesas tanto. Pues salta sobre un platil...              Revolución   \n",
              "3  –Usted fue, sí, usted fue. –¿Señora…? –Le digo...                  Señora   \n",
              "\n",
              "          author  \n",
              "0  Pablo Palacio  \n",
              "1  Pablo Palacio  \n",
              "2  Pablo Palacio  \n",
              "3  Pablo Palacio  "
            ]
          },
          "execution_count": 7,
          "metadata": {},
          "output_type": "execute_result"
        }
      ],
      "source": [
        "df.head(4)"
      ]
    },
    {
      "cell_type": "code",
      "execution_count": 8,
      "metadata": {
        "id": "kwS1KT7q0H1l"
      },
      "outputs": [],
      "source": [
        "from sklearn.feature_extraction.text import TfidfVectorizer, CountVectorizer\n",
        "from sklearn.metrics.pairwise import linear_kernel\n",
        "from pprint import pprint\n",
        "from sklearn.metrics.pairwise import cosine_similarity"
      ]
    },
    {
      "cell_type": "code",
      "execution_count": 9,
      "metadata": {
        "colab": {
          "base_uri": "https://localhost:8080/"
        },
        "id": "rrfSvAR80JrV",
        "outputId": "d689deb0-bc8f-42c7-94bf-4979947bffcf"
      },
      "outputs": [
        {
          "name": "stderr",
          "output_type": "stream",
          "text": [
            "[nltk_data] Downloading package stopwords to /root/nltk_data...\n",
            "[nltk_data]   Unzipping corpora/stopwords.zip.\n"
          ]
        }
      ],
      "source": [
        "import nltk\n",
        "from nltk.corpus import stopwords\n",
        "nltk.download('stopwords')\n",
        "\n",
        "stop = list(stopwords.words('spanish'))\n",
        "# eliminamos las \"stop words\", palabras comunes no informativas\n",
        "tf = TfidfVectorizer(stop_words=stop)"
      ]
    },
    {
      "cell_type": "code",
      "execution_count": 10,
      "metadata": {
        "colab": {
          "base_uri": "https://localhost:8080/"
        },
        "id": "BI9ahyF50ME1",
        "outputId": "45fca96d-2e22-4e57-9c27-6e2d09395802"
      },
      "outputs": [
        {
          "name": "stdout",
          "output_type": "stream",
          "text": [
            "                                                  link  \\\n",
            "0         https://ciudadseva.com/texto/el-antropofago/   \n",
            "1    https://ciudadseva.com/texto/la-doble-y-unica-...   \n",
            "2     https://ciudadseva.com/texto/revolucion-palacio/   \n",
            "3         https://ciudadseva.com/texto/senora-palacio/   \n",
            "4    https://ciudadseva.com/texto/un-hombre-muerto-...   \n",
            "..                                                 ...   \n",
            "688  https://ciudadseva.com/texto/tlon-uqbar-orbis-...   \n",
            "689  https://ciudadseva.com/texto/tres-versiones-de...   \n",
            "690          https://ciudadseva.com/texto/un-problema/   \n",
            "691           https://ciudadseva.com/texto/un-sueno-2/   \n",
            "692  https://ciudadseva.com/texto/utopia-de-un-homb...   \n",
            "\n",
            "                                         text_metadata  \\\n",
            "0    {'title': 'El antropófago', 'metadata': '[Cuen...   \n",
            "1    {'title': 'La doble y única mujer', 'metadata'...   \n",
            "2    {'title': 'Revolución', 'metadata': '[Minicuen...   \n",
            "3    {'title': 'Señora', 'metadata': '[Cuento - Tex...   \n",
            "4    {'title': 'Un hombre muerto a puntapiés', 'met...   \n",
            "..                                                 ...   \n",
            "688  {'title': 'Tlön, Uqbar, Orbis Tertius', 'metad...   \n",
            "689  {'title': 'Tres versiones de Judas', 'metadata...   \n",
            "690  {'title': 'Un problema', 'metadata': '[Minicue...   \n",
            "691  {'title': 'Un sueño', 'metadata': '[Minicuento...   \n",
            "692  {'title': 'Utopía de un hombre que está cansad...   \n",
            "\n",
            "                                                  text  \\\n",
            "0    Allí está, en la penitenciaría, asomando por e...   \n",
            "1    (Ha sido preciso que me adapte a una serie de ...   \n",
            "2    Pesas, pesas tanto. Pues salta sobre un platil...   \n",
            "3    –Usted fue, sí, usted fue. –¿Señora…? –Le digo...   \n",
            "4    “Anoche, a las doce y media próximamente, el c...   \n",
            "..                                                 ...   \n",
            "688  I Debo a la conjunción de un espejo y de una e...   \n",
            "689  En el Asia Menor o en Alejandría, en el segund...   \n",
            "690  Imaginemos que en Toledo se descubre un papel ...   \n",
            "691  En un desierto lugar del Irán hay una no muy a...   \n",
            "692  No hay dos cerros iguales, pero en cualquier l...   \n",
            "\n",
            "                                    title             author  \\\n",
            "0                          El antropófago      Pablo Palacio   \n",
            "1                  La doble y única mujer      Pablo Palacio   \n",
            "2                              Revolución      Pablo Palacio   \n",
            "3                                  Señora      Pablo Palacio   \n",
            "4            Un hombre muerto a puntapiés      Pablo Palacio   \n",
            "..                                    ...                ...   \n",
            "688            Tlön, Uqbar, Orbis Tertius  Jorge Luis Borges   \n",
            "689               Tres versiones de Judas  Jorge Luis Borges   \n",
            "690                           Un problema  Jorge Luis Borges   \n",
            "691                              Un sueño  Jorge Luis Borges   \n",
            "692  Utopía de un hombre que está cansado  Jorge Luis Borges   \n",
            "\n",
            "                                 Palabra clave  \n",
            "0            Desarrollador de aplicaciones web  \n",
            "1                          Desarrollador de UI  \n",
            "2                          Científico de datos  \n",
            "3            Desarrollador de realidad virtual  \n",
            "4                          Desarrollador de UI  \n",
            "..                                         ...  \n",
            "688                        Científico de datos  \n",
            "689  Especialista en automatización de pruebas  \n",
            "690                    Desarrollador front-end  \n",
            "691                         Ingeniero de redes  \n",
            "692          Desarrollador de realidad virtual  \n",
            "\n",
            "[693 rows x 6 columns]\n"
          ]
        }
      ],
      "source": [
        "import random\n",
        "keywords = [\n",
        "    \"Desarrollador de UI\",\n",
        "    \"Científico de datos\",\n",
        "    \"Ingeniero de software\",\n",
        "    \"Desarrollador móvil\",\n",
        "    \"Ingeniero de seguridad informática\",\n",
        "    \"Analista de sistemas\",\n",
        "    \"Desarrollador front-end\",\n",
        "    \"Desarrollador back-end\",\n",
        "    \"Arquitecto de software\",\n",
        "    \"Ingeniero de redes\",\n",
        "    \"Especialista en aprendizaje automático\",\n",
        "    \"Ingeniero de sistemas embebidos\",\n",
        "    \"Desarrollador de videojuegos\",\n",
        "    \"Desarrollador de realidad virtual\",\n",
        "    \"Desarrollador de aplicaciones web\",\n",
        "    \"Ingeniero de calidad de software\",\n",
        "    \"Especialista en automatización de pruebas\",\n",
        "    \"Analista de datos\",\n",
        "    \"Desarrollador de blockchain\",\n",
        "    \"Ingeniero de DevOps\"\n",
        "]\n",
        "\n",
        "for i in range(len(df)):\n",
        "    # Generamos una palabra clave aleatoria\n",
        "    keyword = keywords[random.randint(0, len(keywords) - 1)]\n",
        "    # Agregamos la palabra clave a la fila\n",
        "    df.loc[i, \"Palabra clave\"] = keyword\n",
        "\n",
        "print(df)"
      ]
    },
    {
      "cell_type": "code",
      "execution_count": 11,
      "metadata": {
        "id": "kYEg34NWKkje"
      },
      "outputs": [],
      "source": [
        "# calculamos los features para cada ítem (texto y gustos)\n",
        "tfidf_text = tf.fit_transform(df['text'])\n",
        "tfidf_gustos = tf.transform(df[\"Palabra clave\"])"
      ]
    },
    {
      "cell_type": "code",
      "execution_count": 12,
      "metadata": {
        "colab": {
          "base_uri": "https://localhost:8080/",
          "height": 157
        },
        "id": "-423yAzc1ADW",
        "outputId": "b8ec7ac8-232d-4582-96c5-06884b20bf48"
      },
      "outputs": [
        {
          "name": "stdout",
          "output_type": "stream",
          "text": [
            "[[0.         0.16226028 0.18443355 ... 0.         0.31844079 0.13992744]\n",
            " [0.         0.24415324 0.2294901  ... 0.         0.38197665 0.17574735]\n",
            " [0.         0.04870466 0.20311989 ... 0.         0.10996655 0.06146484]\n",
            " ...\n",
            " [0.         0.08094989 0.10486559 ... 0.         0.20050322 0.06580247]\n",
            " [0.         0.07988934 0.0839281  ... 0.         0.2640234  0.09009743]\n",
            " [0.         0.1675367  0.19909593 ... 0.         0.37538985 0.24986211]]\n"
          ]
        },
        {
          "data": {
            "application/vnd.google.colaboratory.intrinsic+json": {
              "type": "string"
            },
            "text/plain": [
              "' print(epico) '"
            ]
          },
          "execution_count": 12,
          "metadata": {},
          "output_type": "execute_result"
        }
      ],
      "source": [
        "cosine = cosine_similarity(tfidf_text,tfidf_text)\n",
        "cosine2 = cosine_similarity(tfidf_gustos, tfidf_gustos)\n",
        "n = 6\n",
        "\n",
        "result = cosine_similarity(cosine,cosine2)\n",
        "\n",
        "print(result)\n",
        "\n",
        "''' print(cosine) '''\n",
        "''' print(kernel) '''\n",
        "''' print(epico) '''"
      ]
    },
    {
      "cell_type": "code",
      "execution_count": 13,
      "metadata": {
        "id": "1cInA2gpK_Dd"
      },
      "outputs": [],
      "source": [
        "results = {}\n",
        "for idx, row in df.iterrows():\n",
        "    # guardamos los indices similares basados en la similitud coseno. Los ordenamos en modo ascendente, siendo 0 nada de similitud y 1 total\n",
        "    similar_indices = result[idx].argsort()[:-n-2:-1]\n",
        "    # guardamos los N más cercanos\n",
        "    similar_items = [(f\"{df['author'][i]} - {df['title'][i]}\", round(result[idx][i], 3)) for i in similar_indices]\n",
        "    results[f\"{row['author']} - {row['title']}\"] = similar_items[1:]"
      ]
    },
    {
      "cell_type": "code",
      "execution_count": 14,
      "metadata": {
        "colab": {
          "base_uri": "https://localhost:8080/"
        },
        "id": "7JC0XeqpuULR",
        "outputId": "1704e325-e68d-41fe-d26a-f3b0b44ce282"
      },
      "outputs": [
        {
          "name": "stdout",
          "output_type": "stream",
          "text": [
            "[('Mario Benedetti - Cleopatra', 0.38),\n",
            " ('José María Arguedas - La muerte de los Arango', 0.38),\n",
            " ('Rubén Darío - Huitzilopoxtli', 0.38),\n",
            " ('Álvaro Mutis - Sueño del fraile', 0.38),\n",
            " ('Andrés Rivera - Bailé', 0.38),\n",
            " ('Baldomero Lillo - Irredención', 0.38)]\n"
          ]
        }
      ],
      "source": [
        "pprint(results['Manuel A. Alonso - El jíbaro en la capital'])"
      ]
    },
    {
      "cell_type": "code",
      "execution_count": 15,
      "metadata": {
        "id": "CImaC-gMvEHX"
      },
      "outputs": [],
      "source": [
        "def recomendar(autor, titulo):\n",
        "    pprint(results[f\"{autor} - {titulo}\"])"
      ]
    },
    {
      "cell_type": "code",
      "execution_count": 16,
      "metadata": {
        "colab": {
          "base_uri": "https://localhost:8080/"
        },
        "id": "j-BM1vPp0SzS",
        "outputId": "33e6c654-945d-419d-ee44-fb48f893de8a"
      },
      "outputs": [
        {
          "name": "stdout",
          "output_type": "stream",
          "text": [
            "[('Augusto Monterroso - El grillo maestro', 0.333),\n",
            " ('Enrique Anderson Imbert - Sententia Nominum', 0.333),\n",
            " ('Rubén Darío - Amar hasta fracasar (solo la vocal “a”)', 0.333),\n",
            " ('Andrés Rivera - El corrector', 0.333),\n",
            " ('Manuel Romero de Terreros - La puerta de bronce', 0.333),\n",
            " ('Roberto Arlt - Los hombres fieras', 0.333)]\n"
          ]
        }
      ],
      "source": [
        "recomendar('Santiago Dabove', 'El tren')"
      ]
    }
  ],
  "metadata": {
    "colab": {
      "provenance": []
    },
    "kernelspec": {
      "display_name": "Python 3.6.5 64-bit",
      "language": "python",
      "name": "python3"
    },
    "language_info": {
      "name": "python",
      "version": "3.6.5"
    },
    "vscode": {
      "interpreter": {
        "hash": "f4e9cda46bb2d9d7fe6ecdff0f8336a934348bf06cb492f2f42f60739b3403b4"
      }
    }
  },
  "nbformat": 4,
  "nbformat_minor": 0
}
