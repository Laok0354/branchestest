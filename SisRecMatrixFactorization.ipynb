{
  "cells": [
    {
      "cell_type": "markdown",
      "metadata": {
        "id": "j9BM25HLx8Px"
      },
      "source": [
        "###Importacion de librerias a utilizar"
      ]
    },
    {
      "cell_type": "code",
      "execution_count": 1,
      "metadata": {
        "id": "VH2_HGoIeKhS"
      },
      "outputs": [],
      "source": [
        "import abc\n",
        "import os\n",
        "from zipfile import ZipFile\n",
        "from pathlib import Path\n",
        "import numpy as np\n",
        "from scipy.sparse import coo_matrix\n",
        "from sklearn.model_selection import train_test_split\n",
        "import pandas as pd\n",
        "import tensorflow as tf\n",
        "import matplotlib.pyplot as plt"
      ]
    },
    {
      "cell_type": "code",
      "execution_count": 2,
      "metadata": {
        "id": "z-nKaaPienb_"
      },
      "outputs": [],
      "source": [
        "pd.set_option('display.max_columns', None)"
      ]
    },
    {
      "cell_type": "markdown",
      "metadata": {
        "id": "80MjL3_hyEWe"
      },
      "source": [
        "###Descargo el dataset del siguiente link:\n",
        "\n",
        "http://files.grouplens.org/datasets/movielens/ml-1m.zip\n"
      ]
    },
    {
      "cell_type": "code",
      "execution_count": 3,
      "metadata": {
        "colab": {
          "base_uri": "https://localhost:8080/"
        },
        "id": "XUUQs8UseslH",
        "outputId": "ea9c1522-cdc5-4865-8ae1-370e131bd868"
      },
      "outputs": [
        {
          "name": "stdout",
          "output_type": "stream",
          "text": [
            "Downloading data from https://files.grouplens.org/datasets/movielens/ml-1m.zip\n",
            "5922816/5917549 [==============================] - 32s 5us/step\n",
            "5931008/5917549 [==============================] - 32s 5us/step\n",
            "Listo\n"
          ]
        }
      ],
      "source": [
        "movielens_data_file_url = \"https://files.grouplens.org/datasets/movielens/ml-1m.zip\"\n",
        "\n",
        "\n",
        "movielens_zipped_file = tf.keras.utils.get_file(\"ml-1m.zip\", movielens_data_file_url, extract=False)\n",
        "\n",
        "keras_datasets_path = Path(movielens_zipped_file).parents[0]\n",
        "movielens_dir = keras_datasets_path / \"ml-1m\"\n",
        "\n",
        "if not movielens_dir.exists():\n",
        "    with ZipFile(movielens_zipped_file, \"r\") as zip:\n",
        "        zip.extractall(path=keras_datasets_path)\n",
        "        print(\"Listo\")"
      ]
    },
    {
      "cell_type": "markdown",
      "metadata": {
        "id": "So7WwxJkzaFh"
      },
      "source": [
        "#Familarizandome con el dataset"
      ]
    },
    {
      "cell_type": "code",
      "execution_count": 4,
      "metadata": {
        "colab": {
          "base_uri": "https://localhost:8080/",
          "height": 261
        },
        "id": "qyXaiMG7ewOM",
        "outputId": "0e4b9ed2-5e29-46ba-cb05-fe47a2967ea2"
      },
      "outputs": [
        {
          "name": "stderr",
          "output_type": "stream",
          "text": [
            "c:\\Program Files\\Python36\\lib\\site-packages\\ipykernel_launcher.py:3: ParserWarning: Falling back to the 'python' engine because the 'c' engine does not support regex separators (separators > 1 char and different from '\\s+' are interpreted as regex); you can avoid this warning by specifying engine='python'.\n",
            "  This is separate from the ipykernel package so we can avoid doing imports until\n"
          ]
        },
        {
          "data": {
            "text/html": [
              "<div>\n",
              "<style scoped>\n",
              "    .dataframe tbody tr th:only-of-type {\n",
              "        vertical-align: middle;\n",
              "    }\n",
              "\n",
              "    .dataframe tbody tr th {\n",
              "        vertical-align: top;\n",
              "    }\n",
              "\n",
              "    .dataframe thead th {\n",
              "        text-align: right;\n",
              "    }\n",
              "</style>\n",
              "<table border=\"1\" class=\"dataframe\">\n",
              "  <thead>\n",
              "    <tr style=\"text-align: right;\">\n",
              "      <th></th>\n",
              "      <th>user_id</th>\n",
              "      <th>item_id</th>\n",
              "      <th>rating</th>\n",
              "      <th>timestamp</th>\n",
              "    </tr>\n",
              "  </thead>\n",
              "  <tbody>\n",
              "    <tr>\n",
              "      <th>0</th>\n",
              "      <td>1</td>\n",
              "      <td>1193</td>\n",
              "      <td>5</td>\n",
              "      <td>978300760</td>\n",
              "    </tr>\n",
              "    <tr>\n",
              "      <th>1</th>\n",
              "      <td>1</td>\n",
              "      <td>661</td>\n",
              "      <td>3</td>\n",
              "      <td>978302109</td>\n",
              "    </tr>\n",
              "    <tr>\n",
              "      <th>2</th>\n",
              "      <td>1</td>\n",
              "      <td>914</td>\n",
              "      <td>3</td>\n",
              "      <td>978301968</td>\n",
              "    </tr>\n",
              "    <tr>\n",
              "      <th>3</th>\n",
              "      <td>1</td>\n",
              "      <td>3408</td>\n",
              "      <td>4</td>\n",
              "      <td>978300275</td>\n",
              "    </tr>\n",
              "    <tr>\n",
              "      <th>4</th>\n",
              "      <td>1</td>\n",
              "      <td>2355</td>\n",
              "      <td>5</td>\n",
              "      <td>978824291</td>\n",
              "    </tr>\n",
              "  </tbody>\n",
              "</table>\n",
              "</div>"
            ],
            "text/plain": [
              "   user_id  item_id  rating  timestamp\n",
              "0        1     1193       5  978300760\n",
              "1        1      661       3  978302109\n",
              "2        1      914       3  978301968\n",
              "3        1     3408       4  978300275\n",
              "4        1     2355       5  978824291"
            ]
          },
          "execution_count": 4,
          "metadata": {},
          "output_type": "execute_result"
        }
      ],
      "source": [
        "columns = ['user_id', 'item_id', 'rating', 'timestamp']\n",
        "movielens_file = os.path.join(movielens_dir, \"ratings.dat\")\n",
        "df = pd.read_csv(movielens_file, sep='::', names=columns)\n",
        "df.head()"
      ]
    },
    {
      "cell_type": "code",
      "execution_count": 5,
      "metadata": {
        "id": "CxyQly-Me5wk"
      },
      "outputs": [],
      "source": [
        "items_id_file = os.path.join(movielens_dir, \"movies.dat\")"
      ]
    },
    {
      "cell_type": "code",
      "execution_count": 6,
      "metadata": {
        "colab": {
          "base_uri": "https://localhost:8080/",
          "height": 261
        },
        "id": "pUnca3OMfDsf",
        "outputId": "820ffd30-89b4-4386-e9b4-6c554399de1f"
      },
      "outputs": [
        {
          "name": "stderr",
          "output_type": "stream",
          "text": [
            "c:\\Program Files\\Python36\\lib\\site-packages\\ipykernel_launcher.py:2: ParserWarning: Falling back to the 'python' engine because the 'c' engine does not support regex separators (separators > 1 char and different from '\\s+' are interpreted as regex); you can avoid this warning by specifying engine='python'.\n",
            "  \n"
          ]
        },
        {
          "data": {
            "text/html": [
              "<div>\n",
              "<style scoped>\n",
              "    .dataframe tbody tr th:only-of-type {\n",
              "        vertical-align: middle;\n",
              "    }\n",
              "\n",
              "    .dataframe tbody tr th {\n",
              "        vertical-align: top;\n",
              "    }\n",
              "\n",
              "    .dataframe thead th {\n",
              "        text-align: right;\n",
              "    }\n",
              "</style>\n",
              "<table border=\"1\" class=\"dataframe\">\n",
              "  <thead>\n",
              "    <tr style=\"text-align: right;\">\n",
              "      <th></th>\n",
              "      <th>item_id</th>\n",
              "      <th>movie_title</th>\n",
              "    </tr>\n",
              "  </thead>\n",
              "  <tbody>\n",
              "    <tr>\n",
              "      <th>0</th>\n",
              "      <td>1</td>\n",
              "      <td>Toy Story (1995)</td>\n",
              "    </tr>\n",
              "    <tr>\n",
              "      <th>1</th>\n",
              "      <td>2</td>\n",
              "      <td>Jumanji (1995)</td>\n",
              "    </tr>\n",
              "    <tr>\n",
              "      <th>2</th>\n",
              "      <td>3</td>\n",
              "      <td>Grumpier Old Men (1995)</td>\n",
              "    </tr>\n",
              "    <tr>\n",
              "      <th>3</th>\n",
              "      <td>4</td>\n",
              "      <td>Waiting to Exhale (1995)</td>\n",
              "    </tr>\n",
              "    <tr>\n",
              "      <th>4</th>\n",
              "      <td>5</td>\n",
              "      <td>Father of the Bride Part II (1995)</td>\n",
              "    </tr>\n",
              "  </tbody>\n",
              "</table>\n",
              "</div>"
            ],
            "text/plain": [
              "   item_id                         movie_title\n",
              "0        1                    Toy Story (1995)\n",
              "1        2                      Jumanji (1995)\n",
              "2        3             Grumpier Old Men (1995)\n",
              "3        4            Waiting to Exhale (1995)\n",
              "4        5  Father of the Bride Part II (1995)"
            ]
          },
          "execution_count": 6,
          "metadata": {},
          "output_type": "execute_result"
        }
      ],
      "source": [
        "columns = ['item_id', 'movie_title', 'Genres']\n",
        "df_item_info = pd.read_csv(items_id_file, sep='::', names=columns, encoding = \"latin\")\n",
        "df_item_info = df_item_info[['item_id', 'movie_title']].drop_duplicates()\n",
        "df_item_info.head()"
      ]
    },
    {
      "cell_type": "markdown",
      "metadata": {
        "id": "UMNCZeAVzkQz"
      },
      "source": [
        "###Conociendo los valores unicos"
      ]
    },
    {
      "cell_type": "code",
      "execution_count": 7,
      "metadata": {
        "colab": {
          "base_uri": "https://localhost:8080/"
        },
        "id": "fVfnVkd5fGMv",
        "outputId": "a82e0741-3693-4399-c764-fd4a578f0503"
      },
      "outputs": [
        {
          "data": {
            "text/plain": [
              "(3883, 3883, 3883)"
            ]
          },
          "execution_count": 7,
          "metadata": {},
          "output_type": "execute_result"
        }
      ],
      "source": [
        "len(df_item_info), len(df_item_info.item_id.unique()), len(df_item_info.movie_title.unique())"
      ]
    },
    {
      "cell_type": "markdown",
      "metadata": {
        "id": "s2SaZj6azogk"
      },
      "source": [
        "Conociendo los mas rateados del dataset"
      ]
    },
    {
      "cell_type": "code",
      "execution_count": 8,
      "metadata": {
        "colab": {
          "base_uri": "https://localhost:8080/",
          "height": 206
        },
        "id": "jaX8Kt7XfI9r",
        "outputId": "6d5792c3-1bd3-4a97-91a2-18c27f051ec2"
      },
      "outputs": [
        {
          "data": {
            "text/html": [
              "<div>\n",
              "<style scoped>\n",
              "    .dataframe tbody tr th:only-of-type {\n",
              "        vertical-align: middle;\n",
              "    }\n",
              "\n",
              "    .dataframe tbody tr th {\n",
              "        vertical-align: top;\n",
              "    }\n",
              "\n",
              "    .dataframe thead th {\n",
              "        text-align: right;\n",
              "    }\n",
              "</style>\n",
              "<table border=\"1\" class=\"dataframe\">\n",
              "  <thead>\n",
              "    <tr style=\"text-align: right;\">\n",
              "      <th></th>\n",
              "      <th>item_id</th>\n",
              "      <th>user_id</th>\n",
              "    </tr>\n",
              "  </thead>\n",
              "  <tbody>\n",
              "    <tr>\n",
              "      <th>0</th>\n",
              "      <td>1</td>\n",
              "      <td>2077</td>\n",
              "    </tr>\n",
              "    <tr>\n",
              "      <th>1</th>\n",
              "      <td>2</td>\n",
              "      <td>701</td>\n",
              "    </tr>\n",
              "    <tr>\n",
              "      <th>2</th>\n",
              "      <td>3</td>\n",
              "      <td>478</td>\n",
              "    </tr>\n",
              "    <tr>\n",
              "      <th>3</th>\n",
              "      <td>4</td>\n",
              "      <td>170</td>\n",
              "    </tr>\n",
              "    <tr>\n",
              "      <th>4</th>\n",
              "      <td>5</td>\n",
              "      <td>296</td>\n",
              "    </tr>\n",
              "  </tbody>\n",
              "</table>\n",
              "</div>"
            ],
            "text/plain": [
              "   item_id  user_id\n",
              "0        1     2077\n",
              "1        2      701\n",
              "2        3      478\n",
              "3        4      170\n",
              "4        5      296"
            ]
          },
          "execution_count": 8,
          "metadata": {},
          "output_type": "execute_result"
        }
      ],
      "source": [
        "mostRated = df.groupby('item_id')['user_id'].count().reset_index()\n",
        "mostRated.head()"
      ]
    },
    {
      "cell_type": "markdown",
      "metadata": {
        "id": "aQ_G0v1m0Bvt"
      },
      "source": [
        "Unificando los dataframes"
      ]
    },
    {
      "cell_type": "code",
      "execution_count": 9,
      "metadata": {
        "colab": {
          "base_uri": "https://localhost:8080/",
          "height": 363
        },
        "id": "oMpGFPMzfLie",
        "outputId": "5bb2a702-2a67-4f7b-cdcd-2f6724fa69e7"
      },
      "outputs": [
        {
          "data": {
            "text/html": [
              "<div>\n",
              "<style scoped>\n",
              "    .dataframe tbody tr th:only-of-type {\n",
              "        vertical-align: middle;\n",
              "    }\n",
              "\n",
              "    .dataframe tbody tr th {\n",
              "        vertical-align: top;\n",
              "    }\n",
              "\n",
              "    .dataframe thead th {\n",
              "        text-align: right;\n",
              "    }\n",
              "</style>\n",
              "<table border=\"1\" class=\"dataframe\">\n",
              "  <thead>\n",
              "    <tr style=\"text-align: right;\">\n",
              "      <th></th>\n",
              "      <th>item_id</th>\n",
              "      <th>user_id</th>\n",
              "      <th>movie_title</th>\n",
              "    </tr>\n",
              "  </thead>\n",
              "  <tbody>\n",
              "    <tr>\n",
              "      <th>2651</th>\n",
              "      <td>2858</td>\n",
              "      <td>3428</td>\n",
              "      <td>American Beauty (1999)</td>\n",
              "    </tr>\n",
              "    <tr>\n",
              "      <th>253</th>\n",
              "      <td>260</td>\n",
              "      <td>2991</td>\n",
              "      <td>Star Wars: Episode IV - A New Hope (1977)</td>\n",
              "    </tr>\n",
              "    <tr>\n",
              "      <th>1106</th>\n",
              "      <td>1196</td>\n",
              "      <td>2990</td>\n",
              "      <td>Star Wars: Episode V - The Empire Strikes Back...</td>\n",
              "    </tr>\n",
              "    <tr>\n",
              "      <th>1120</th>\n",
              "      <td>1210</td>\n",
              "      <td>2883</td>\n",
              "      <td>Star Wars: Episode VI - Return of the Jedi (1983)</td>\n",
              "    </tr>\n",
              "    <tr>\n",
              "      <th>466</th>\n",
              "      <td>480</td>\n",
              "      <td>2672</td>\n",
              "      <td>Jurassic Park (1993)</td>\n",
              "    </tr>\n",
              "    <tr>\n",
              "      <th>1848</th>\n",
              "      <td>2028</td>\n",
              "      <td>2653</td>\n",
              "      <td>Saving Private Ryan (1998)</td>\n",
              "    </tr>\n",
              "    <tr>\n",
              "      <th>575</th>\n",
              "      <td>589</td>\n",
              "      <td>2649</td>\n",
              "      <td>Terminator 2: Judgment Day (1991)</td>\n",
              "    </tr>\n",
              "    <tr>\n",
              "      <th>2374</th>\n",
              "      <td>2571</td>\n",
              "      <td>2590</td>\n",
              "      <td>Matrix, The (1999)</td>\n",
              "    </tr>\n",
              "    <tr>\n",
              "      <th>1178</th>\n",
              "      <td>1270</td>\n",
              "      <td>2583</td>\n",
              "      <td>Back to the Future (1985)</td>\n",
              "    </tr>\n",
              "    <tr>\n",
              "      <th>579</th>\n",
              "      <td>593</td>\n",
              "      <td>2578</td>\n",
              "      <td>Silence of the Lambs, The (1991)</td>\n",
              "    </tr>\n",
              "  </tbody>\n",
              "</table>\n",
              "</div>"
            ],
            "text/plain": [
              "      item_id  user_id                                        movie_title\n",
              "2651     2858     3428                             American Beauty (1999)\n",
              "253       260     2991          Star Wars: Episode IV - A New Hope (1977)\n",
              "1106     1196     2990  Star Wars: Episode V - The Empire Strikes Back...\n",
              "1120     1210     2883  Star Wars: Episode VI - Return of the Jedi (1983)\n",
              "466       480     2672                               Jurassic Park (1993)\n",
              "1848     2028     2653                         Saving Private Ryan (1998)\n",
              "575       589     2649                  Terminator 2: Judgment Day (1991)\n",
              "2374     2571     2590                                 Matrix, The (1999)\n",
              "1178     1270     2583                          Back to the Future (1985)\n",
              "579       593     2578                   Silence of the Lambs, The (1991)"
            ]
          },
          "execution_count": 9,
          "metadata": {},
          "output_type": "execute_result"
        }
      ],
      "source": [
        "mostRated = pd.merge(mostRated, df_item_info, on=['item_id'], how='inner').sort_values(by='user_id', ascending=False)\n",
        "mostRated.head(10)"
      ]
    },
    {
      "cell_type": "markdown",
      "metadata": {
        "id": "CKDFWKJy0K4J"
      },
      "source": [
        "Separando los datos de prueba y los de entrenamiento en dos variables llamadas TRAIN y TEST"
      ]
    },
    {
      "cell_type": "code",
      "execution_count": 10,
      "metadata": {
        "colab": {
          "base_uri": "https://localhost:8080/"
        },
        "id": "aSyxpm5PfPYQ",
        "outputId": "801dbbf7-b277-4787-99ce-79cfb68e4bf2"
      },
      "outputs": [
        {
          "name": "stdout",
          "output_type": "stream",
          "text": [
            "Hay 6040 usuarios, 3685 items y 800167 pares en el set de entrenamiento\n"
          ]
        }
      ],
      "source": [
        "train, test = train_test_split(df, test_size=0.2)\n",
        "\n",
        "df_users = train.drop_duplicates(subset=['user_id'])[['user_id']]\n",
        "df_users['user'] = np.arange(len(df_users))\n",
        "df_items = train.drop_duplicates(subset=['item_id'])[['item_id']]\n",
        "df_items['item'] = np.arange(len(df_items))\n",
        "num_users = len(df_users)\n",
        "num_items = len(df_items)\n",
        "num_pairs = train.shape[0]\n",
        "print('Hay %s usuarios, %s items y %s pares en el set de entrenamiento' \\\n",
        "      %(num_users, num_items, num_pairs))\n",
        "\n",
        "train = pd.merge(train, df_users, on=['user_id'])\n",
        "train = pd.merge(train, df_items, on=['item_id'])\n",
        "\n",
        "x_train, y_train = train[['user', 'item']], train[['rating']].astype(float)"
      ]
    },
    {
      "cell_type": "markdown",
      "metadata": {
        "id": "IyvNfamQ03r7"
      },
      "source": [
        "Replicamos lo mismo de arriba, pero con los datos de prueba"
      ]
    },
    {
      "cell_type": "code",
      "execution_count": 11,
      "metadata": {
        "colab": {
          "base_uri": "https://localhost:8080/"
        },
        "id": "eZmhi-NkfTD-",
        "outputId": "92cbea0a-727b-422a-968a-0bc62d9e6ee8"
      },
      "outputs": [
        {
          "name": "stdout",
          "output_type": "stream",
          "text": [
            "Hay 6038 usuarios, 3446 items y 200017 pares del set de prueba\n"
          ]
        }
      ],
      "source": [
        "test = pd.merge(test, df_users, on=['user_id'], how='inner')\n",
        "test = pd.merge(test, df_items, on=['item_id'], how='inner')\n",
        "print('Hay %s usuarios, %s items y %s pares del set de prueba' \\\n",
        "      %(len(test['user_id'].unique()), len(test['item_id'].unique()), test.shape[0]))\n",
        "\n",
        "x_test, y_test = test[['user', 'item']], test[['rating']].astype(float)"
      ]
    },
    {
      "cell_type": "markdown",
      "metadata": {
        "id": "uo3krt7n1t31"
      },
      "source": [
        "#Factorizacion de Matrices (Algebra Lineal)"
      ]
    },
    {
      "cell_type": "markdown",
      "metadata": {
        "id": "xuHlj4Vu167V"
      },
      "source": [
        "La factorizacion de matrices es una funcion algebraica la cual nos va a servir para poder hacer predicciones de las calificaciones de los usuarios para elementos que aun no ah evaluado, y esto lo que nos permite a nosotros desde StartApp, es poder realizar recomendaciones personalizadas.\n",
        "\n",
        "Entrenamos el modelo de factorización de matrices minimizando el error cuadrático medio entre las calificaciones predichas y las calificaciones reales. La función objetivo se define de la siguiente manera:\n",
        "\n",
        "Formula:\n",
        "\n",
        "![image.png](data:image/png;base64,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)\n",
        "\n",
        "Los parámetros del modelo se pueden aprender con un algoritmo de optimización, como Descenso de Gradiente, entre otros. En resumen, la función objetivo busca ajustar los parámetros del modelo de manera que la diferencia entre las calificaciones reales y las predicciones sea mínima."
      ]
    },
    {
      "cell_type": "code",
      "execution_count": 12,
      "metadata": {
        "id": "P7KH8OtIfV5W"
      },
      "outputs": [],
      "source": [
        "class MatrixFactorization(tf.keras.Model):\n",
        "    def __init__(self, num_users, num_items, embedding_size, **kwargs):\n",
        "        super(MatrixFactorization, self).__init__(**kwargs)\n",
        "        self.num_users = num_users\n",
        "        self.num_items = num_items\n",
        "        self.embedding_size = embedding_size\n",
        "        self.user_embedding = tf.keras.layers.Embedding(\n",
        "            self.num_users,\n",
        "            embedding_size,\n",
        "            embeddings_regularizer=tf.keras.regularizers.l2(1e-6),\n",
        "        )\n",
        "        self.user_bias = tf.keras.layers.Embedding(self.num_users, 1)\n",
        "        self.item_embedding = tf.keras.layers.Embedding(\n",
        "            self.num_items,\n",
        "            embedding_size,\n",
        "            embeddings_regularizer=tf.keras.regularizers.l2(1e-6),\n",
        "        )\n",
        "        self.item_bias = tf.keras.layers.Embedding(self.num_items, 1)\n",
        "\n",
        "    def call(self, inputs):\n",
        "        user_vector = self.user_embedding(inputs[:, 0])\n",
        "        user_bias = self.user_bias(inputs[:, 0])\n",
        "        item_vector = self.item_embedding(inputs[:, 1])\n",
        "        item_bias = self.item_bias(inputs[:, 1])\n",
        "        dot_user_item = tf.tensordot(user_vector, item_vector, 2)\n",
        "        # Add all the components (including bias)\n",
        "        output = dot_user_item + user_bias + item_bias\n",
        "        return output"
      ]
    },
    {
      "cell_type": "markdown",
      "metadata": {
        "id": "7s97_oQsODwx"
      },
      "source": [
        "Utilizamos \"embedding\", el cual se utiliza para la representación numérica de datos, como palabras o frases, como vectores. O sea, convierte las palabras o fraces, en vectores, los cuales, son un conjunto de escalares, o sea, un conjunto de numeros. Todo esto, para luego utilizarlos para poder capturar la semantica y las relaciones entre los datos."
      ]
    },
    {
      "cell_type": "code",
      "execution_count": 13,
      "metadata": {
        "id": "NA9skB8ZfYrT"
      },
      "outputs": [],
      "source": [
        "EMBEDDING_SIZE = 10"
      ]
    },
    {
      "cell_type": "markdown",
      "metadata": {
        "id": "Fl9FywGUk2Sk"
      },
      "source": [
        "Realizando la Factorizacion de Matriz con los parametros dados y ademas se compilan los algoritmos aplicados para poder optimizar a el modelo. Ya sea a traves del MeanSquaredError y a traves del Adam\n",
        "\n",
        "\n",
        "**MeanSquaredError:**\n",
        "\n",
        "Busca minimizar el error cuadrático medio entre las predicciones del modelo y los valores reales\n",
        "\n",
        "**Adam:**\n",
        "\n",
        "es un algoritmo de optimización popular que se utiliza para ajustar los pesos de un modelo durante el entrenamiento."
      ]
    },
    {
      "cell_type": "code",
      "execution_count": 14,
      "metadata": {
        "colab": {
          "base_uri": "https://localhost:8080/"
        },
        "id": "DDfroMY-faim",
        "outputId": "84f7cc88-5559-4466-aa43-1f12b56638ae"
      },
      "outputs": [
        {
          "name": "stderr",
          "output_type": "stream",
          "text": [
            "c:\\Program Files\\Python36\\lib\\site-packages\\keras\\optimizer_v2\\optimizer_v2.py:356: UserWarning: The `lr` argument is deprecated, use `learning_rate` instead.\n",
            "  \"The `lr` argument is deprecated, use `learning_rate` instead.\")\n"
          ]
        }
      ],
      "source": [
        "model = MatrixFactorization(num_users, num_items, EMBEDDING_SIZE)\n",
        "model.compile(loss=tf.keras.losses.MeanSquaredError(), optimizer=tf.keras.optimizers.Adam(lr=1e-4))"
      ]
    },
    {
      "cell_type": "markdown",
      "metadata": {
        "id": "_OVC9Ul7mYjZ"
      },
      "source": [
        "Se entrena el modelo"
      ]
    },
    {
      "cell_type": "code",
      "execution_count": 16,
      "metadata": {
        "colab": {
          "base_uri": "https://localhost:8080/"
        },
        "id": "wCpSOFJefcHy",
        "outputId": "fb238210-a4dd-4933-bb4a-684697573855"
      },
      "outputs": [
        {
          "name": "stdout",
          "output_type": "stream",
          "text": [
            "Epoch 1/30\n",
            "12503/12503 [==============================] - 10s 782us/step - loss: 9.9077 - val_loss: 2.1972\n",
            "Epoch 2/30\n",
            "12503/12503 [==============================] - 10s 779us/step - loss: 1.1802 - val_loss: 1.6645\n",
            "Epoch 3/30\n",
            "12503/12503 [==============================] - 9s 690us/step - loss: 1.0629 - val_loss: 1.2992\n",
            "Epoch 4/30\n",
            "12503/12503 [==============================] - 9s 689us/step - loss: 0.9890 - val_loss: 1.1270\n",
            "Epoch 5/30\n",
            "12503/12503 [==============================] - 9s 707us/step - loss: 0.9413 - val_loss: 1.0375\n",
            "Epoch 6/30\n",
            "12503/12503 [==============================] - 8s 653us/step - loss: 0.9098 - val_loss: 0.9864\n",
            "Epoch 7/30\n",
            "12503/12503 [==============================] - 9s 743us/step - loss: 0.8873 - val_loss: 0.9567\n",
            "Epoch 8/30\n",
            "12503/12503 [==============================] - 10s 762us/step - loss: 0.8716 - val_loss: 0.9364\n",
            "Epoch 9/30\n",
            "12503/12503 [==============================] - 10s 761us/step - loss: 0.8600 - val_loss: 0.9236\n",
            "Epoch 10/30\n",
            "12503/12503 [==============================] - 9s 731us/step - loss: 0.8511 - val_loss: 0.9126\n",
            "Epoch 11/30\n",
            "12503/12503 [==============================] - 9s 729us/step - loss: 0.8440 - val_loss: 0.9084\n",
            "Epoch 12/30\n",
            "12503/12503 [==============================] - 8s 673us/step - loss: 0.8389 - val_loss: 0.8983\n",
            "Epoch 13/30\n",
            "12503/12503 [==============================] - 8s 670us/step - loss: 0.8341 - val_loss: 0.8984\n",
            "Epoch 14/30\n",
            "12503/12503 [==============================] - 8s 675us/step - loss: 0.8310 - val_loss: 0.8957\n",
            "Epoch 15/30\n",
            "12503/12503 [==============================] - 8s 671us/step - loss: 0.8282 - val_loss: 0.8930\n",
            "Epoch 16/30\n",
            "12503/12503 [==============================] - 9s 704us/step - loss: 0.8252 - val_loss: 0.8919\n",
            "Epoch 17/30\n",
            "12503/12503 [==============================] - 8s 670us/step - loss: 0.8234 - val_loss: 0.8896\n",
            "Epoch 18/30\n",
            "12503/12503 [==============================] - 9s 694us/step - loss: 0.8217 - val_loss: 0.8847\n",
            "Epoch 19/30\n",
            "12503/12503 [==============================] - 9s 684us/step - loss: 0.8204 - val_loss: 0.8862\n",
            "Epoch 20/30\n",
            "12503/12503 [==============================] - 9s 724us/step - loss: 0.8189 - val_loss: 0.8841\n",
            "Epoch 21/30\n",
            "12503/12503 [==============================] - 9s 713us/step - loss: 0.8176 - val_loss: 0.8854\n",
            "Epoch 22/30\n",
            "12503/12503 [==============================] - 9s 700us/step - loss: 0.8169 - val_loss: 0.8809\n",
            "Epoch 23/30\n",
            "12503/12503 [==============================] - 9s 699us/step - loss: 0.8159 - val_loss: 0.8833\n",
            "Epoch 24/30\n",
            "12503/12503 [==============================] - 8s 659us/step - loss: 0.8154 - val_loss: 0.8832\n",
            "Epoch 25/30\n",
            "12503/12503 [==============================] - 9s 698us/step - loss: 0.8147 - val_loss: 0.8845\n",
            "Epoch 26/30\n",
            "12503/12503 [==============================] - 9s 734us/step - loss: 0.8139 - val_loss: 0.8842\n",
            "Epoch 27/30\n",
            "12503/12503 [==============================] - 8s 676us/step - loss: 0.8136 - val_loss: 0.8821\n",
            "Epoch 28/30\n",
            "12503/12503 [==============================] - 9s 694us/step - loss: 0.8130 - val_loss: 0.8841\n",
            "Epoch 29/30\n",
            "12503/12503 [==============================] - 9s 747us/step - loss: 0.8129 - val_loss: 0.8822\n",
            "Epoch 30/30\n",
            "12503/12503 [==============================] - 9s 688us/step - loss: 0.8124 - val_loss: 0.8777\n"
          ]
        }
      ],
      "source": [
        "history = model.fit(\n",
        "    x=x_train,\n",
        "    y=y_train,\n",
        "    batch_size=64,\n",
        "    epochs=30,\n",
        "    verbose=1,\n",
        "    validation_data=(x_test, y_test)\n",
        ")"
      ]
    },
    {
      "cell_type": "markdown",
      "metadata": {
        "id": "O3ogthgzmfKe"
      },
      "source": [
        "Vemos a traves de un grafico, el LOSS que tuve durante el entrenamiento y la prueba"
      ]
    },
    {
      "cell_type": "code",
      "execution_count": null,
      "metadata": {
        "colab": {
          "base_uri": "https://localhost:8080/",
          "height": 472
        },
        "id": "Ajq7zVhtfds4",
        "outputId": "11e84aaf-305a-47dd-f2b9-641c2ab49277"
      },
      "outputs": [
        {
          "data": {
            "image/png": "[encoded data removed]",
            "text/plain": [
              "<Figure size 640x480 with 1 Axes>"
            ]
          },
          "metadata": {},
          "output_type": "display_data"
        }
      ],
      "source": [
        "plt.plot(history.history[\"loss\"])\n",
        "plt.plot(history.history[\"val_loss\"], '--')\n",
        "plt.title(\"model loss\")\n",
        "plt.ylabel(\"loss\")\n",
        "plt.xlabel(\"epoch\")\n",
        "plt.legend([\"train\", \"test\"], loc=\"upper left\")\n",
        "plt.grid()\n",
        "plt.show()"
      ]
    },
    {
      "cell_type": "markdown",
      "metadata": {
        "id": "nkKA_47pml5F"
      },
      "source": [
        "#Funcion de Recomendacion"
      ]
    },
    {
      "cell_type": "markdown",
      "metadata": {
        "id": "bC1sxgw1PEA4"
      },
      "source": [
        "- Creamos una funcion llamada \"Recommend\" el cual toma como parametros el user_id, que se encuentra en el dataset, la variable train, la cual son los datos de entrenamiento, la variable test, la cual es la variable con los datos de prueba, y por ultimo dataframes auxiliares los cuales nos ayudaran a realizar la recomendacion mas precisa."
      ]
    },
    {
      "cell_type": "code",
      "execution_count": null,
      "metadata": {
        "id": "kWcY8cQzp6zf"
      },
      "outputs": [],
      "source": [
        "def recommend(user_id, train, test, df_items, df_aux):\n",
        "\n",
        "  ''' Se crea un dataframe llamado \"movies_watched_by_user\" que contiene las películas que el usuario ha visto según el set de entrenamiento. '''\n",
        "  movies_watched_by_user = train[train.user == user_id]\n",
        "\n",
        "\n",
        "  ''' Se crea un nuevo dataframe (df_items_aux) que contiene solo la columna 'item' del dataframe df_items y\n",
        "  despues agrego la columna de usuarios la cual, es el user_id de cada usuario '''\n",
        "  df_items_aux = df_items[['item']]\n",
        "  df_items_aux['user'] = user_id\n",
        "\n",
        "\n",
        "  movies_not_watched = pd.merge(df_items_aux, movies_watched_by_user, on=['user', 'item'], how='left')\n",
        "  movies_not_watched = movies_not_watched[movies_not_watched.rating.isnull()][['user', 'item']]\n",
        "\n",
        "\n",
        "  ''' Hacemos una prediccion con el modelo que entrenamos anteriormente, para luego hacer una nueva columna que sea \"predicted_rating\" la cual es ordenada de manera\n",
        "  descendente para saber cual es el rating mas alto, de los que predijo el modelo '''\n",
        "  ratings = model.predict(movies_not_watched).flatten()\n",
        "  movies_not_watched['predicted_rating'] = ratings\n",
        "  top_ratings_items = movies_not_watched.sort_values(by='predicted_rating', ascending=False)\n",
        "\n",
        "\n",
        "\n",
        "  ''' Le damos una especie de estilo al OUTPUT que daremos luego '''\n",
        "\n",
        "  print(\"Mostrando recomendaciones para el usuario: {}\".format(user_id))\n",
        "  print(\"====\" * 9)\n",
        "  print(\"Peliculas altamente rankeadas por el usuario\")\n",
        "  print(\"----\" * 8)\n",
        "\n",
        "\n",
        "  ''' Se recomienda las peliculas que fueron rankeadas por el usuario. Para esto, unificamos los dataframes de las peliculas vistas por el usuario y los datos auxiliares.\n",
        "  Luego, ordenamos el dataframe por el rating dado, de forma descendiente para que el mejor rankeado, salga primero y el peor, ultimo. Luego, se muestran los primeros 20 '''\n",
        "  movies_watched_by_user = pd.merge(movies_watched_by_user, df_aux, on=['item_id'])\n",
        "  top_movies_user = movies_watched_by_user.sort_values(by='rating', ascending=False)[['user', 'item', 'rating', 'movie_title']]\n",
        "  print(top_movies_user.head(10))\n",
        "\n",
        "  print(\"====\" * 9)\n",
        "  print(\"Rating de las pelicas vistas en el set de prueba\")\n",
        "  print(\"----\" * 8)\n",
        "\n",
        "  ''' Ahora hacemos lo mismo pero, con las peliculas que estan en el set de prueba, no en el de entrenamiento '''\n",
        "  movies_watched_by_user_test = test[test.user == user_id]\n",
        "  movies_watched_by_user_test = pd.merge(movies_watched_by_user_test, df_aux, on=['item_id'])\n",
        "  movies_watched_by_user_test = pd.merge(movies_watched_by_user_test, movies_not_watched, on=['user', 'item'])\n",
        "  movies_user_test = movies_watched_by_user_test.sort_values(by='rating', ascending=False)[['user', 'item', 'rating', 'predicted_rating', 'movie_title']]\n",
        "  print(movies_user_test.head(10))\n",
        "\n",
        "  print(\"----\" * 8)\n",
        "  print(\"Top 10 peliculas recomendadas\")\n",
        "  print(\"----\" * 8)\n",
        "\n",
        "  ''' Finalmente, recomendamos 10 peliculas al usuario '''\n",
        "  top_movies_recommended = pd.merge(top_ratings_items, df_items, on=['item'])\n",
        "  top_movies_recommended = pd.merge(top_movies_recommended, df_aux, on=['item_id'])\n",
        "  print(top_movies_recommended[['item', 'predicted_rating', 'movie_title']].head(10))\n"
      ]
    },
    {
      "cell_type": "code",
      "execution_count": 26,
      "metadata": {},
      "outputs": [
        {
          "ename": "ValueError",
          "evalue": "Found input variables with inconsistent numbers of samples: [800167, 200017]",
          "output_type": "error",
          "traceback": [
            "\u001b[1;31m---------------------------------------------------------------------------\u001b[0m",
            "\u001b[1;31mValueError\u001b[0m                                Traceback (most recent call last)",
            "\u001b[1;32m<ipython-input-26-0516ccf47e07>\u001b[0m in \u001b[0;36m<module>\u001b[1;34m\u001b[0m\n\u001b[0;32m      1\u001b[0m \u001b[1;32mfrom\u001b[0m \u001b[0msklearn\u001b[0m\u001b[1;33m.\u001b[0m\u001b[0mmodel_selection\u001b[0m \u001b[1;32mimport\u001b[0m \u001b[0mcross_val_score\u001b[0m\u001b[1;33m\u001b[0m\u001b[0m\n\u001b[0;32m      2\u001b[0m \u001b[0mmodel\u001b[0m\u001b[1;33m.\u001b[0m\u001b[0mpredict\u001b[0m\u001b[1;33m(\u001b[0m\u001b[0mx_test\u001b[0m\u001b[1;33m)\u001b[0m\u001b[1;33m\u001b[0m\u001b[0m\n\u001b[1;32m----> 3\u001b[1;33m \u001b[0mcross_val_score\u001b[0m\u001b[1;33m(\u001b[0m\u001b[0mmodel\u001b[0m\u001b[1;33m,\u001b[0m \u001b[0mtrain\u001b[0m\u001b[1;33m,\u001b[0m \u001b[0mtest\u001b[0m\u001b[1;33m,\u001b[0m \u001b[0mcv\u001b[0m\u001b[1;33m=\u001b[0m\u001b[1;36m3\u001b[0m\u001b[1;33m,\u001b[0m \u001b[0mscoring\u001b[0m\u001b[1;33m=\u001b[0m\u001b[1;34m\"accuracy\"\u001b[0m\u001b[1;33m)\u001b[0m\u001b[1;33m\u001b[0m\u001b[0m\n\u001b[0m",
            "\u001b[1;32mc:\\Program Files\\Python36\\lib\\site-packages\\sklearn\\utils\\validation.py\u001b[0m in \u001b[0;36minner_f\u001b[1;34m(*args, **kwargs)\u001b[0m\n\u001b[0;32m     61\u001b[0m             \u001b[0mextra_args\u001b[0m \u001b[1;33m=\u001b[0m \u001b[0mlen\u001b[0m\u001b[1;33m(\u001b[0m\u001b[0margs\u001b[0m\u001b[1;33m)\u001b[0m \u001b[1;33m-\u001b[0m \u001b[0mlen\u001b[0m\u001b[1;33m(\u001b[0m\u001b[0mall_args\u001b[0m\u001b[1;33m)\u001b[0m\u001b[1;33m\u001b[0m\u001b[0m\n\u001b[0;32m     62\u001b[0m             \u001b[1;32mif\u001b[0m \u001b[0mextra_args\u001b[0m \u001b[1;33m<=\u001b[0m \u001b[1;36m0\u001b[0m\u001b[1;33m:\u001b[0m\u001b[1;33m\u001b[0m\u001b[0m\n\u001b[1;32m---> 63\u001b[1;33m                 \u001b[1;32mreturn\u001b[0m \u001b[0mf\u001b[0m\u001b[1;33m(\u001b[0m\u001b[1;33m*\u001b[0m\u001b[0margs\u001b[0m\u001b[1;33m,\u001b[0m \u001b[1;33m**\u001b[0m\u001b[0mkwargs\u001b[0m\u001b[1;33m)\u001b[0m\u001b[1;33m\u001b[0m\u001b[0m\n\u001b[0m\u001b[0;32m     64\u001b[0m \u001b[1;33m\u001b[0m\u001b[0m\n\u001b[0;32m     65\u001b[0m             \u001b[1;31m# extra_args > 0\u001b[0m\u001b[1;33m\u001b[0m\u001b[1;33m\u001b[0m\u001b[0m\n",
            "\u001b[1;32mc:\\Program Files\\Python36\\lib\\site-packages\\sklearn\\model_selection\\_validation.py\u001b[0m in \u001b[0;36mcross_val_score\u001b[1;34m(estimator, X, y, groups, scoring, cv, n_jobs, verbose, fit_params, pre_dispatch, error_score)\u001b[0m\n\u001b[0;32m    448\u001b[0m                                 \u001b[0mfit_params\u001b[0m\u001b[1;33m=\u001b[0m\u001b[0mfit_params\u001b[0m\u001b[1;33m,\u001b[0m\u001b[1;33m\u001b[0m\u001b[0m\n\u001b[0;32m    449\u001b[0m                                 \u001b[0mpre_dispatch\u001b[0m\u001b[1;33m=\u001b[0m\u001b[0mpre_dispatch\u001b[0m\u001b[1;33m,\u001b[0m\u001b[1;33m\u001b[0m\u001b[0m\n\u001b[1;32m--> 450\u001b[1;33m                                 error_score=error_score)\n\u001b[0m\u001b[0;32m    451\u001b[0m     \u001b[1;32mreturn\u001b[0m \u001b[0mcv_results\u001b[0m\u001b[1;33m[\u001b[0m\u001b[1;34m'test_score'\u001b[0m\u001b[1;33m]\u001b[0m\u001b[1;33m\u001b[0m\u001b[0m\n\u001b[0;32m    452\u001b[0m \u001b[1;33m\u001b[0m\u001b[0m\n",
            "\u001b[1;32mc:\\Program Files\\Python36\\lib\\site-packages\\sklearn\\utils\\validation.py\u001b[0m in \u001b[0;36minner_f\u001b[1;34m(*args, **kwargs)\u001b[0m\n\u001b[0;32m     61\u001b[0m             \u001b[0mextra_args\u001b[0m \u001b[1;33m=\u001b[0m \u001b[0mlen\u001b[0m\u001b[1;33m(\u001b[0m\u001b[0margs\u001b[0m\u001b[1;33m)\u001b[0m \u001b[1;33m-\u001b[0m \u001b[0mlen\u001b[0m\u001b[1;33m(\u001b[0m\u001b[0mall_args\u001b[0m\u001b[1;33m)\u001b[0m\u001b[1;33m\u001b[0m\u001b[0m\n\u001b[0;32m     62\u001b[0m             \u001b[1;32mif\u001b[0m \u001b[0mextra_args\u001b[0m \u001b[1;33m<=\u001b[0m \u001b[1;36m0\u001b[0m\u001b[1;33m:\u001b[0m\u001b[1;33m\u001b[0m\u001b[0m\n\u001b[1;32m---> 63\u001b[1;33m                 \u001b[1;32mreturn\u001b[0m \u001b[0mf\u001b[0m\u001b[1;33m(\u001b[0m\u001b[1;33m*\u001b[0m\u001b[0margs\u001b[0m\u001b[1;33m,\u001b[0m \u001b[1;33m**\u001b[0m\u001b[0mkwargs\u001b[0m\u001b[1;33m)\u001b[0m\u001b[1;33m\u001b[0m\u001b[0m\n\u001b[0m\u001b[0;32m     64\u001b[0m \u001b[1;33m\u001b[0m\u001b[0m\n\u001b[0;32m     65\u001b[0m             \u001b[1;31m# extra_args > 0\u001b[0m\u001b[1;33m\u001b[0m\u001b[1;33m\u001b[0m\u001b[0m\n",
            "\u001b[1;32mc:\\Program Files\\Python36\\lib\\site-packages\\sklearn\\model_selection\\_validation.py\u001b[0m in \u001b[0;36mcross_validate\u001b[1;34m(estimator, X, y, groups, scoring, cv, n_jobs, verbose, fit_params, pre_dispatch, return_train_score, return_estimator, error_score)\u001b[0m\n\u001b[0;32m    233\u001b[0m \u001b[1;33m\u001b[0m\u001b[0m\n\u001b[0;32m    234\u001b[0m     \"\"\"\n\u001b[1;32m--> 235\u001b[1;33m     \u001b[0mX\u001b[0m\u001b[1;33m,\u001b[0m \u001b[0my\u001b[0m\u001b[1;33m,\u001b[0m \u001b[0mgroups\u001b[0m \u001b[1;33m=\u001b[0m \u001b[0mindexable\u001b[0m\u001b[1;33m(\u001b[0m\u001b[0mX\u001b[0m\u001b[1;33m,\u001b[0m \u001b[0my\u001b[0m\u001b[1;33m,\u001b[0m \u001b[0mgroups\u001b[0m\u001b[1;33m)\u001b[0m\u001b[1;33m\u001b[0m\u001b[0m\n\u001b[0m\u001b[0;32m    236\u001b[0m \u001b[1;33m\u001b[0m\u001b[0m\n\u001b[0;32m    237\u001b[0m     \u001b[0mcv\u001b[0m \u001b[1;33m=\u001b[0m \u001b[0mcheck_cv\u001b[0m\u001b[1;33m(\u001b[0m\u001b[0mcv\u001b[0m\u001b[1;33m,\u001b[0m \u001b[0my\u001b[0m\u001b[1;33m,\u001b[0m \u001b[0mclassifier\u001b[0m\u001b[1;33m=\u001b[0m\u001b[0mis_classifier\u001b[0m\u001b[1;33m(\u001b[0m\u001b[0mestimator\u001b[0m\u001b[1;33m)\u001b[0m\u001b[1;33m)\u001b[0m\u001b[1;33m\u001b[0m\u001b[0m\n",
            "\u001b[1;32mc:\\Program Files\\Python36\\lib\\site-packages\\sklearn\\utils\\validation.py\u001b[0m in \u001b[0;36mindexable\u001b[1;34m(*iterables)\u001b[0m\n\u001b[0;32m    354\u001b[0m     \"\"\"\n\u001b[0;32m    355\u001b[0m     \u001b[0mresult\u001b[0m \u001b[1;33m=\u001b[0m \u001b[1;33m[\u001b[0m\u001b[0m_make_indexable\u001b[0m\u001b[1;33m(\u001b[0m\u001b[0mX\u001b[0m\u001b[1;33m)\u001b[0m \u001b[1;32mfor\u001b[0m \u001b[0mX\u001b[0m \u001b[1;32min\u001b[0m \u001b[0miterables\u001b[0m\u001b[1;33m]\u001b[0m\u001b[1;33m\u001b[0m\u001b[0m\n\u001b[1;32m--> 356\u001b[1;33m     \u001b[0mcheck_consistent_length\u001b[0m\u001b[1;33m(\u001b[0m\u001b[1;33m*\u001b[0m\u001b[0mresult\u001b[0m\u001b[1;33m)\u001b[0m\u001b[1;33m\u001b[0m\u001b[0m\n\u001b[0m\u001b[0;32m    357\u001b[0m     \u001b[1;32mreturn\u001b[0m \u001b[0mresult\u001b[0m\u001b[1;33m\u001b[0m\u001b[0m\n\u001b[0;32m    358\u001b[0m \u001b[1;33m\u001b[0m\u001b[0m\n",
            "\u001b[1;32mc:\\Program Files\\Python36\\lib\\site-packages\\sklearn\\utils\\validation.py\u001b[0m in \u001b[0;36mcheck_consistent_length\u001b[1;34m(*arrays)\u001b[0m\n\u001b[0;32m    318\u001b[0m     \u001b[1;32mif\u001b[0m \u001b[0mlen\u001b[0m\u001b[1;33m(\u001b[0m\u001b[0muniques\u001b[0m\u001b[1;33m)\u001b[0m \u001b[1;33m>\u001b[0m \u001b[1;36m1\u001b[0m\u001b[1;33m:\u001b[0m\u001b[1;33m\u001b[0m\u001b[0m\n\u001b[0;32m    319\u001b[0m         raise ValueError(\"Found input variables with inconsistent numbers of\"\n\u001b[1;32m--> 320\u001b[1;33m                          \" samples: %r\" % [int(l) for l in lengths])\n\u001b[0m\u001b[0;32m    321\u001b[0m \u001b[1;33m\u001b[0m\u001b[0m\n\u001b[0;32m    322\u001b[0m \u001b[1;33m\u001b[0m\u001b[0m\n",
            "\u001b[1;31mValueError\u001b[0m: Found input variables with inconsistent numbers of samples: [800167, 200017]"
          ]
        }
      ],
      "source": [
        "from sklearn.model_selection import cross_val_score\n",
        "model.predict(x_test)\n",
        "cross_val_score(model, train, test, cv=3, scoring=\"accuracy\")\n"
      ]
    },
    {
      "cell_type": "markdown",
      "metadata": {
        "id": "JGMYiQd1m4mb"
      },
      "source": [
        "Se recomienda"
      ]
    },
    {
      "cell_type": "code",
      "execution_count": null,
      "metadata": {
        "colab": {
          "base_uri": "https://localhost:8080/"
        },
        "id": "YrgZeb3qp_KO",
        "outputId": "bf988e43-2a68-44eb-be44-7bc01a8a7d58"
      },
      "outputs": [
        {
          "name": "stdout",
          "output_type": "stream",
          "text": [
            "108/108 [==============================] - 1s 7ms/step\n",
            "Mostrando recomendaciones para el usuario: 3103\n",
            "====================================\n",
            "Peliculas altamente rankeadas por el usuario\n",
            "--------------------------------\n",
            "     user  item  rating                                        movie_title\n",
            "0    3103   557       5                     Raiders of the Lost Ark (1981)\n",
            "33   3103   103       5                     Godfather: Part II, The (1974)\n",
            "39   3103   419       5                               Groundhog Day (1993)\n",
            "210  3103   844       5                               Birdcage, The (1996)\n",
            "223  3103   258       5               Bridge on the River Kwai, The (1957)\n",
            "222  3103    37       5                                      Grease (1978)\n",
            "45   3103   325       5                      French Connection, The (1971)\n",
            "194  3103  1248       5                                    Vacation (1983)\n",
            "47   3103    84       5                           Good Will Hunting (1997)\n",
            "49   3103   260       5                   Shawshank Redemption, The (1994)\n",
            "221  3103   526       5                          Mr. Holland's Opus (1995)\n",
            "197  3103  1082       5                                  Braveheart (1995)\n",
            "108  3103   505       5  Star Wars: Episode V - The Empire Strikes Back...\n",
            "58   3103   319       5                                  GoodFellas (1990)\n",
            "107  3103    19       5                                   Airplane! (1980)\n",
            "106  3103  1314       5                                  Get Shorty (1995)\n",
            "104  3103   216       5                           Full Metal Jacket (1987)\n",
            "201  3103   493       5                        Fish Called Wanda, A (1988)\n",
            "65   3103    64       5                                Pulp Fiction (1994)\n",
            "99   3103   672       5             Monty Python and the Holy Grail (1974)\n",
            "====================================\n",
            "Rating de las pelicas vistas en el set de prueba\n",
            "--------------------------------\n",
            "    user  item  rating  predicted_rating  \\\n",
            "23  3103    83       5          2.100281   \n",
            "2   3103   185       5          2.823306   \n",
            "40  3103  1515       5          2.371356   \n",
            "38  3103    55       5          2.304931   \n",
            "13  3103   132       5          2.933992   \n",
            "33  3103   388       5          2.548350   \n",
            "34  3103  1788       4          2.559512   \n",
            "1   3103   290       4          1.613356   \n",
            "24  3103   198       4          2.402950   \n",
            "28  3103   128       4          2.188567   \n",
            "30  3103   277       4          2.063485   \n",
            "37  3103   955       4          2.863116   \n",
            "36  3103   933       4          2.557300   \n",
            "19  3103   453       4          2.215520   \n",
            "39  3103   217       4          2.672875   \n",
            "43  3103  1837       4          1.599146   \n",
            "44  3103  1318       4          2.753408   \n",
            "45  3103    45       4          1.900725   \n",
            "21  3103    32       4          2.738678   \n",
            "0   3103  1595       4          2.984360   \n",
            "\n",
            "                                    movie_title  \n",
            "23                                   JFK (1991)  \n",
            "2                        American Beauty (1999)  \n",
            "40                    As Good As It Gets (1997)  \n",
            "38                          Animal House (1978)  \n",
            "13                        Godfather, The (1972)  \n",
            "33                    This Is Spinal Tap (1984)  \n",
            "34                 Bullets Over Broadway (1994)  \n",
            "1                       Private Benjamin (1980)  \n",
            "24                                Casino (1995)  \n",
            "28  South Park: Bigger, Longer and Uncut (1999)  \n",
            "30                             Halloween (1978)  \n",
            "37                      Midnight Express (1978)  \n",
            "36                                 Rocky (1976)  \n",
            "19                          Philadelphia (1993)  \n",
            "39                             Apollo 13 (1995)  \n",
            "43                        101 Dalmatians (1961)  \n",
            "44                              Hoosiers (1986)  \n",
            "45                    That Thing You Do! (1996)  \n",
            "21             Streetcar Named Desire, A (1951)  \n",
            "0                            Rear Window (1954)  \n",
            "--------------------------------\n",
            "Top 10 peliculas recomendadas\n",
            "--------------------------------\n",
            "    item  predicted_rating                                        movie_title\n",
            "0   2723          3.637868                            Apple, The (Sib) (1998)\n",
            "1   1149          3.434528      Sunset Blvd. (a.k.a. Sunset Boulevard) (1950)\n",
            "2   2713          3.405330        Time of the Gypsies (Dom za vesanje) (1989)\n",
            "3   2492          3.401644  Wonderful, Horrible Life of Leni Riefenstahl, ...\n",
            "4    952          3.383812                            Double Indemnity (1944)\n",
            "5   1172          3.343019                                 City Lights (1931)\n",
            "6   1239          3.342584                           Great Escape, The (1963)\n",
            "7   1919          3.328438                             For All Mankind (1989)\n",
            "8   1383          3.312257                       To Kill a Mockingbird (1962)\n",
            "9   2923          3.298113                                      Baraka (1992)\n",
            "10  1964          3.284020     Nights of Cabiria (Le Notti di Cabiria) (1957)\n",
            "11  1782          3.277939        Grand Illusion (Grande illusion, La) (1937)\n",
            "12  1238          3.258294                           On the Waterfront (1954)\n",
            "13   941          3.238516                                           M (1931)\n",
            "14  2510          3.236753  Children of Paradise (Les enfants du paradis) ...\n",
            "15   413          3.216121     400 Blows, The (Les Quatre cents coups) (1959)\n",
            "16   929          3.205095  Seven Samurai (The Magnificent Seven) (Shichin...\n",
            "17  1373          3.186303                                     Henry V (1989)\n",
            "18  1288          3.186109                           Creature Comforts (1990)\n",
            "19  2384          3.181976         Nobody Loves Me (Keiner liebt mich) (1994)\n"
          ]
        }
      ],
      "source": [
        "user_id = test.user.sample(97).iloc[0]\n",
        "recommend(user_id, train, test, df_items, df_item_info)"
      ]
    },
    {
      "cell_type": "code",
      "execution_count": 27,
      "metadata": {
        "id": "kCvQzEAErcJM"
      },
      "outputs": [
        {
          "name": "stdout",
          "output_type": "stream",
          "text": [
            "INFO:tensorflow:Assets written to: proyecto/modeloGod.tf\\assets\n"
          ]
        }
      ],
      "source": [
        "model.save('proyecto/modeloGod.tf')"
      ]
    },
    {
      "cell_type": "code",
      "execution_count": null,
      "metadata": {},
      "outputs": [],
      "source": []
    }
  ],
  "metadata": {
    "colab": {
      "provenance": []
    },
    "kernelspec": {
      "display_name": "Python 3.6.5 64-bit",
      "language": "python",
      "name": "python3"
    },
    "language_info": {
      "codemirror_mode": {
        "name": "ipython",
        "version": 3
      },
      "file_extension": ".py",
      "mimetype": "text/x-python",
      "name": "python",
      "nbconvert_exporter": "python",
      "pygments_lexer": "ipython3",
      "version": "3.6.5"
    },
    "vscode": {
      "interpreter": {
        "hash": "f4e9cda46bb2d9d7fe6ecdff0f8336a934348bf06cb492f2f42f60739b3403b4"
      }
    }
  },
  "nbformat": 4,
  "nbformat_minor": 0
}
