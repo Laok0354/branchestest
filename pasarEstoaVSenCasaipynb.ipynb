{
  "cells": [
    {
      "cell_type": "code",
      "execution_count": 1,
      "metadata": {},
      "outputs": [
        {
          "name": "stdout",
          "output_type": "stream",
          "text": [
            "Requirement already satisfied: pandas in c:\\users\\47295973\\appdata\\local\\programs\\python\\python311\\lib\\site-packages (2.1.3)Note: you may need to restart the kernel to use updated packages.\n"
          ]
        },
        {
          "name": "stderr",
          "output_type": "stream",
          "text": [
            "\n",
            "[notice] A new release of pip available: 22.3.1 -> 23.3.1\n",
            "[notice] To update, run: python.exe -m pip install --upgrade pip\n"
          ]
        },
        {
          "name": "stdout",
          "output_type": "stream",
          "text": [
            "\n",
            "Requirement already satisfied: numpy<2,>=1.23.2 in c:\\users\\47295973\\appdata\\local\\programs\\python\\python311\\lib\\site-packages (from pandas) (1.24.3)\n",
            "Requirement already satisfied: python-dateutil>=2.8.2 in c:\\users\\47295973\\appdata\\roaming\\python\\python311\\site-packages (from pandas) (2.8.2)\n",
            "Requirement already satisfied: pytz>=2020.1 in c:\\users\\47295973\\appdata\\local\\programs\\python\\python311\\lib\\site-packages (from pandas) (2023.3.post1)\n",
            "Requirement already satisfied: tzdata>=2022.1 in c:\\users\\47295973\\appdata\\local\\programs\\python\\python311\\lib\\site-packages (from pandas) (2023.3)\n",
            "Requirement already satisfied: six>=1.5 in c:\\users\\47295973\\appdata\\roaming\\python\\python311\\site-packages (from python-dateutil>=2.8.2->pandas) (1.16.0)\n",
            "Requirement already satisfied: requests in c:\\users\\47295973\\appdata\\local\\programs\\python\\python311\\lib\\site-packages (2.31.0)\n",
            "Requirement already satisfied: charset-normalizer<4,>=2 in c:\\users\\47295973\\appdata\\local\\programs\\python\\python311\\lib\\site-packages (from requests) (3.1.0)\n",
            "Requirement already satisfied: idna<4,>=2.5 in c:\\users\\47295973\\appdata\\local\\programs\\python\\python311\\lib\\site-packages (from requests) (3.4)\n",
            "Requirement already satisfied: urllib3<3,>=1.21.1 in c:\\users\\47295973\\appdata\\local\\programs\\python\\python311\\lib\\site-packages (from requests) (2.0.3)\n",
            "Requirement already satisfied: certifi>=2017.4.17 in c:\\users\\47295973\\appdata\\local\\programs\\python\\python311\\lib\\site-packages (from requests) (2023.5.7)\n",
            "Note: you may need to restart the kernel to use updated packages.\n"
          ]
        },
        {
          "name": "stderr",
          "output_type": "stream",
          "text": [
            "\n",
            "[notice] A new release of pip available: 22.3.1 -> 23.3.1\n",
            "[notice] To update, run: python.exe -m pip install --upgrade pip\n"
          ]
        }
      ],
      "source": [
        "%pip install pandas\n",
        "%pip install requests\n",
        "%pip install numpy\n",
        "%pip install tensorflow"
      ]
    },
    {
      "cell_type": "code",
      "execution_count": null,
      "metadata": {},
      "outputs": [
        {
          "name": "stdout",
          "output_type": "stream",
          "text": [
            "WARNING:tensorflow:From c:\\Users\\47295973\\AppData\\Local\\Programs\\Python\\Python311\\Lib\\site-packages\\keras\\src\\losses.py:2976: The name tf.losses.sparse_softmax_cross_entropy is deprecated. Please use tf.compat.v1.losses.sparse_softmax_cross_entropy instead.\n",
            "\n"
          ]
        }
      ],
      "source": [
        "import pandas as pd\n",
        "import requests\n",
        "import numpy as np\n",
        "import tensorflow as tf\n",
        "from tensorflow import keras"
      ]
    },
    {
      "cell_type": "code",
      "execution_count": null,
      "metadata": {
        "colab": {
          "base_uri": "https://localhost:8080/",
          "height": 686
        },
        "id": "Z412hWtbIW4z",
        "outputId": "e049673b-0e66-48ac-c328-c6a3691a1caf"
      },
      "outputs": [
        {
          "name": "stdout",
          "output_type": "stream",
          "text": [
            "dog aaaa holaaa siii siii dog dog dog cat wow dog dog a ab a aB ab abc abc poll abc a a a a a a a a a a a a a a a a a a a a a a a a a a a a a a a a a a a a a a a a a a a abc abc abc abc abc abc abc abc abc abc abc abc abc abc abc abc abc abc abc abc a a a a a a a a a a a a abc a abc a abc abc abc abc abc abc abc abc abc abc abc abc abc abc abc abc abc abc abc abc abc abc abc abc abc abc abc a abc abc ab abc abc abc abc abc abc abc abc abc abc abc abc abc abc abc abc abc abc abc abc abc a a a a a a a a a a a a a a a a a a a a a a a a a a a a a a a a a a a a a a a a a a a a a a a a a a a a a a a a a a a a a a a a a a a a a a a a a a a a a a a a a a a a a a a a a a a a a a a a a a a a a a a a a a a a a a a a a a a a a a a a a a a a a a a a a a a a a a a a a a a a a a a a a a a a a a a a a a a a a a a a a a a a a a a a a a a a a a a a a a a a a a a a a a a a a a a a a a a a a a a a a a a a abc abc abc abc abc abc abc abc abc abc abc abc abc abc abc abc abc abc abc abc abc abc abc abc abc abc abc abc abc abc abc abc abc abc abc abc abc abc abc abc abc abc abc abc abc abc abc abc abc abc abc abc abc abc abc abc abc abc abc abc abc abc abc abc abc abc abc abc abc abc abc abc abc abc abc abc abc abc abc abc abc abc abc abc abc abc abc abc abc abc abc abc abc abc abc abc abc abc abc abc abc abc abc abc abc abc abc abc abc abc abc abc abc abc abc abc abc abc abc abc abc abc abc abc abc abc abc abc abc abc abc abc abc abc abc abc abc abc abc abc abc abc abc abc abc abc abc abc abc abc abc abc abc abc abc abc abc abc abc abc abc abc abc abc abc abc abc abc abc abc abc abc abc abc abc abc abc abc abc abc abc abc abc abc abc abc a ab abc ab ab abc abc a a abc ab abc abc ab abc ab abc ab a b red cat abc abc aa ab a ab a wow a al allpr al sape adtgyfuyui \n",
            "dog cat dog cat cat doggf cat cat cat cat cat cat cat cat uuuuuu cat cat cat cat cat cat cat ggg ggg\n",
            "[{'id': 1, 'name': 'cat', 'description': 'blue', 'creatorId': 2, 'createdAt': '2023-10-30T13:39:26.619Z', 'updatedAt': '2023-10-30T13:39:26.619Z'}, {'id': 2, 'name': 'dog', 'description': 'red', 'creatorId': 2, 'createdAt': '2023-10-30T13:39:46.698Z', 'updatedAt': '2023-10-30T13:39:46.698Z'}, {'id': 3, 'name': 'doggf', 'description': 'red', 'creatorId': 56, 'createdAt': '2023-11-01T21:16:53.796Z', 'updatedAt': '2023-11-03T01:05:23.711Z'}, {'id': 4, 'name': 'catff', 'description': 'blue', 'creatorId': 56, 'createdAt': '2023-11-01T21:17:02.209Z', 'updatedAt': '2023-11-03T01:06:51.653Z'}, {'id': 5, 'name': 'lemur', 'description': 'grey', 'creatorId': 56, 'createdAt': '2023-11-01T21:17:15.554Z', 'updatedAt': '2023-11-01T21:17:15.554Z'}, {'id': 6, 'name': 'ppo', 'description': 'ppo', 'creatorId': 56, 'createdAt': '2023-11-01T22:23:22.617Z', 'updatedAt': '2023-11-01T22:23:22.617Z'}, {'id': 7, 'name': 'ddd', 'description': 'ddd', 'creatorId': 56, 'createdAt': '2023-11-02T00:15:59.937Z', 'updatedAt': '2023-11-02T00:15:59.937Z'}, {'id': 8, 'name': 'sssss', 'description': 'sss', 'creatorId': 56, 'createdAt': '2023-11-02T00:16:07.463Z', 'updatedAt': '2023-11-03T01:05:23.711Z'}, {'id': 9, 'name': 'sss', 'description': 'sss', 'creatorId': 56, 'createdAt': '2023-11-02T00:16:12.692Z', 'updatedAt': '2023-11-02T00:16:12.692Z'}, {'id': 10, 'name': 'ggg', 'description': 'ggg', 'creatorId': 56, 'createdAt': '2023-11-02T00:16:20.825Z', 'updatedAt': '2023-11-02T00:16:20.825Z'}, {'id': 15, 'name': 'modified bruuhhh', 'description': 'modified testinggg', 'creatorId': 56, 'createdAt': '2023-11-07T17:11:23.205Z', 'updatedAt': '2023-11-08T12:01:22.303Z'}, {'id': 17, 'name': 's', 'description': 's', 'creatorId': 56, 'createdAt': '2023-11-07T17:30:10.962Z', 'updatedAt': '2023-11-08T23:36:30.931Z'}, {'id': 20, 'name': 'proyecto pepe', 'description': 'que tal soy sech', 'creatorId': 56, 'createdAt': '2023-11-08T21:27:01.009Z', 'updatedAt': '2023-11-08T21:27:01.009Z'}, {'id': 21, 'name': 'allprojects test', 'description': 'sape', 'creatorId': 56, 'createdAt': '2023-11-08T23:06:27.831Z', 'updatedAt': '2023-11-08T23:06:27.831Z'}, {'id': 24, 'name': 'getallprojects test', 'description': 'sest', 'creatorId': 56, 'createdAt': '2023-11-08T23:07:54.004Z', 'updatedAt': '2023-11-08T23:07:54.004Z'}, {'id': 25, 'name': 'otro test', 'description': 'bra', 'creatorId': 56, 'createdAt': '2023-11-08T23:32:51.191Z', 'updatedAt': '2023-11-08T23:32:51.191Z'}, {'id': 27, 'name': 'pollogange', 'description': 'si', 'creatorId': 56, 'createdAt': '2023-11-08T23:35:46.512Z', 'updatedAt': '2023-11-08T23:35:46.512Z'}, {'id': 28, 'name': 'cache de mierda', 'description': \":'v\", 'creatorId': 56, 'createdAt': '2023-11-08T23:55:10.884Z', 'updatedAt': '2023-11-08T23:55:10.884Z'}, {'id': 29, 'name': 'proyecto FUNCA!!!!!!!!!!!!!!!!!!!!!!!!!!', 'description': 'muchas gracias ignarcio vigilante html y mas', 'creatorId': 56, 'createdAt': '2023-11-08T23:59:11.467Z', 'updatedAt': '2023-11-08T23:59:11.467Z'}, {'id': 30, 'name': 'mentira no funca nada', 'description': '', 'creatorId': 56, 'createdAt': '2023-11-09T00:00:20.124Z', 'updatedAt': '2023-11-09T00:00:20.124Z'}, {'id': 31, 'name': 'pp', 'description': 'pp', 'creatorId': 56, 'createdAt': '2023-11-09T00:01:10.881Z', 'updatedAt': '2023-11-09T00:01:10.881Z'}, {'id': 32, 'name': 'papu', 'description': 'papu', 'creatorId': 56, 'createdAt': '2023-11-09T00:06:39.579Z', 'updatedAt': '2023-11-09T00:06:39.579Z'}, {'id': 33, 'name': 'nachao vigiialte', 'description': 'aornowicz.,', 'creatorId': 56, 'createdAt': '2023-11-09T00:11:14.720Z', 'updatedAt': '2023-11-09T00:11:14.720Z'}, {'id': 34, 'name': 'ninjafornte', 'description': '', 'creatorId': 56, 'createdAt': '2023-11-09T00:14:33.717Z', 'updatedAt': '2023-11-09T00:14:33.717Z'}, {'id': 35, 'name': 'lal', 'description': 'lel', 'creatorId': 56, 'createdAt': '2023-11-09T00:15:56.519Z', 'updatedAt': '2023-11-09T00:15:56.519Z'}, {'id': 36, 'name': 'gagner', 'description': 'nedgange', 'creatorId': 56, 'createdAt': '2023-11-09T00:19:06.388Z', 'updatedAt': '2023-11-09T00:19:06.388Z'}, {'id': 37, 'name': 'cache matat', 'description': 'e', 'creatorId': 56, 'createdAt': '2023-11-09T00:28:49.422Z', 'updatedAt': '2023-11-09T00:28:49.422Z'}, {'id': 38, 'name': 'asdfasca', 'description': '', 'creatorId': 56, 'createdAt': '2023-11-09T00:36:33.909Z', 'updatedAt': '2023-11-09T00:36:33.909Z'}, {'id': 39, 'name': 'sasa', 'description': '', 'creatorId': 56, 'createdAt': '2023-11-09T00:41:50.553Z', 'updatedAt': '2023-11-09T00:41:50.553Z'}, {'id': 40, 'name': 'seses', 'description': '', 'creatorId': 56, 'createdAt': '2023-11-09T00:46:57.171Z', 'updatedAt': '2023-11-09T00:46:57.171Z'}, {'id': 41, 'name': 'sisis', 'description': '', 'creatorId': 56, 'createdAt': '2023-11-09T00:47:06.374Z', 'updatedAt': '2023-11-09T00:47:06.374Z'}, {'id': 42, 'name': 'sus', 'description': '', 'creatorId': 56, 'createdAt': '2023-11-09T13:58:25.363Z', 'updatedAt': '2023-11-09T13:58:25.363Z'}, {'id': 43, 'name': 'modified pipi', 'description': 'modified vigi', 'creatorId': 62, 'createdAt': '2023-11-12T23:20:48.995Z', 'updatedAt': '2023-11-14T11:15:38.837Z'}, {'id': 44, 'name': 'modified popo', 'description': 'modified vigi', 'creatorId': 62, 'createdAt': '2023-11-13T12:49:29.609Z', 'updatedAt': '2023-11-13T13:38:07.482Z'}, {'id': 45, 'name': 'pollines', 'description': 'pollones', 'creatorId': 56, 'createdAt': '2023-11-13T13:22:06.322Z', 'updatedAt': '2023-11-13T13:22:06.322Z'}, {'id': 47, 'name': 'pollones', 'description': 'pollines', 'creatorId': 56, 'createdAt': '2023-11-13T13:25:37.078Z', 'updatedAt': '2023-11-13T13:25:37.078Z'}, {'id': 49, 'name': 'modified cosmo', 'description': 'modified cosmo', 'creatorId': 62, 'createdAt': '2023-11-13T13:40:51.109Z', 'updatedAt': '2023-11-13T13:41:33.097Z'}, {'id': 50, 'name': 'modified jero', 'description': 'modified jero', 'creatorId': 62, 'createdAt': '2023-11-13T13:43:37.270Z', 'updatedAt': '2023-11-13T13:56:04.170Z'}, {'id': 51, 'name': 'modified jero2', 'description': 'modified jero', 'creatorId': 62, 'createdAt': '2023-11-13T13:50:21.990Z', 'updatedAt': '2023-11-13T13:57:10.333Z'}, {'id': 52, 'name': 'aaaaaaaa', 'description': 'aaaaaaaa', 'creatorId': 62, 'createdAt': '2023-11-13T14:01:32.695Z', 'updatedAt': '2023-11-13T14:38:59.714Z'}, {'id': 53, 'name': 'llllll', 'description': 'lllllll', 'creatorId': 62, 'createdAt': '2023-11-13T14:24:20.204Z', 'updatedAt': '2023-11-13T14:24:20.204Z'}, {'id': 54, 'name': 'uuuuuu', 'description': 'iiiiii', 'creatorId': 62, 'createdAt': '2023-11-13T14:40:22.117Z', 'updatedAt': '2023-11-13T14:48:40.450Z'}, {'id': 55, 'name': 'ffffff', 'description': 'fffffff', 'creatorId': 62, 'createdAt': '2023-11-13T14:45:23.269Z', 'updatedAt': '2023-11-13T14:45:23.269Z'}, {'id': 56, 'name': 'holaa', 'description': 'nacho vigi', 'creatorId': 62, 'createdAt': '2023-11-14T11:07:05.419Z', 'updatedAt': '2023-11-14T11:07:05.419Z'}, {'id': 60, 'name': 'modified baub', 'description': 'modified vigi', 'creatorId': 62, 'createdAt': '2023-11-14T11:14:45.028Z', 'updatedAt': '2023-11-14T11:16:08.583Z'}, {'id': 62, 'name': 'ae ', 'description': 'pollo', 'creatorId': 62, 'createdAt': '2023-11-14T23:36:19.681Z', 'updatedAt': '2023-11-14T23:36:19.681Z'}, {'id': 63, 'name': 'statustes', 'description': 't', 'creatorId': 56, 'createdAt': '2023-11-15T00:09:29.312Z', 'updatedAt': '2023-11-15T00:09:29.312Z'}, {'id': 64, 'name': 'sapeee', 'description': 'sape pollo', 'creatorId': 56, 'createdAt': '2023-11-15T00:41:04.606Z', 'updatedAt': '2023-11-15T00:41:04.606Z'}, {'id': 65, 'name': 'a', 'description': 'ae', 'creatorId': 56, 'createdAt': '2023-11-18T23:39:42.168Z', 'updatedAt': '2023-11-18T23:39:42.168Z'}, {'id': 66, 'name': 'ujklasd', 'description': 'ajskl', 'creatorId': 56, 'createdAt': '2023-11-19T00:21:07.112Z', 'updatedAt': '2023-11-19T00:21:07.112Z'}, {'id': 67, 'name': 'abc', 'description': 'proyecto real', 'creatorId': 56, 'createdAt': '2023-11-19T17:35:24.889Z', 'updatedAt': '2023-11-19T17:35:24.889Z'}, {'id': 68, 'name': 'abcde', 'description': 'fghij', 'creatorId': 56, 'createdAt': '2023-11-19T19:41:32.864Z', 'updatedAt': '2023-11-19T19:41:32.864Z'}, {'id': 69, 'name': 'kjjjjjjjjjjjjjjjjjjjjjjjjjjjjjj', 'description': 'kjk.jkljkljkjkljjjjkjkjkjkjkjkkjjkjkjkjkjkjkjkjkjk', 'creatorId': 56, 'createdAt': '2023-11-21T11:24:47.801Z', 'updatedAt': '2023-11-21T11:24:47.801Z'}]\n"
          ]
        }
      ],
      "source": [
        "search_history_url = \"http://localhost:3000/userData/searchHistory\"\n",
        "headers = {\n",
        "    \"Authorization\": \"Bearer\",\n",
        "    \"Content-Type\": \"application/json\",\n",
        "    \"x-api-key\": \"REYDEREDES\"\n",
        "}\n",
        "payload = {\n",
        "    \"userId\": \"2\"\n",
        "}\n",
        "response_search_history = requests.get(search_history_url, headers=headers, json=payload)\n",
        "search_history_data = response_search_history.json()\n",
        "\n",
        "\n",
        "visit_history_url = \"http://localhost:3000/userData/visitHistory\"\n",
        "response_visit_history = requests.get(visit_history_url, headers=headers, json=payload)\n",
        "visit_history_data = response_visit_history.json()\n",
        "\n",
        "\n",
        "get_all_projects_url = \"http://localhost:3000/userData/getAllProjects\"\n",
        "headers_projects = {\n",
        "    \"x-api-key\": \"REYDEREDES\"\n",
        "}\n",
        "response_all_projects = requests.get(get_all_projects_url, headers=headers_projects)\n",
        "all_projects_data = response_all_projects.json()\n",
        "\n",
        "\n",
        "print(search_history_data)\n",
        "print(visit_history_data)\n",
        "print(all_projects_data)\n"
      ]
    },
    {
      "cell_type": "code",
      "execution_count": null,
      "metadata": {},
      "outputs": [
        {
          "name": "stdout",
          "output_type": "stream",
          "text": [
            "<class 'str'>\n",
            "<class 'str'>\n",
            "<class 'list'>\n"
          ]
        },
        {
          "data": {
            "text/plain": [
              "{'id': 2,\n",
              " 'name': 'dog',\n",
              " 'description': 'red',\n",
              " 'creatorId': 2,\n",
              " 'createdAt': '2023-10-30T13:39:46.698Z',\n",
              " 'updatedAt': '2023-10-30T13:39:46.698Z'}"
            ]
          },
          "execution_count": 4,
          "metadata": {},
          "output_type": "execute_result"
        }
      ],
      "source": [
        "print(type(search_history_data))\n",
        "print(type(visit_history_data))\n",
        "print(type(all_projects_data))\n",
        "\n",
        "\n",
        "lista1 = search_history_data.split()\n",
        "lista2 = visit_history_data.split()\n",
        "\n",
        "all_projects_data[1]"
      ]
    },
    {
      "cell_type": "code",
      "execution_count": null,
      "metadata": {},
      "outputs": [],
      "source": [
        "df1 = pd.DataFrame({\n",
        "    'Palabra': lista1\n",
        "})\n",
        "\n",
        "df2 = pd.DataFrame({\n",
        "    'Palabra': lista2\n",
        "})\n",
        "df3 = pd.DataFrame(all_projects_data)"
      ]
    },
    {
      "cell_type": "code",
      "execution_count": null,
      "metadata": {},
      "outputs": [
        {
          "name": "stdout",
          "output_type": "stream",
          "text": [
            "        Palabra\n",
            "0           dog\n",
            "1          aaaa\n",
            "2        holaaa\n",
            "3          siii\n",
            "4          siii\n",
            "..          ...\n",
            "573          al\n",
            "574       allpr\n",
            "575          al\n",
            "576        sape\n",
            "577  adtgyfuyui\n",
            "\n",
            "[578 rows x 1 columns]\n",
            "--------------------------------------------\n",
            "\n",
            "   Palabra\n",
            "0      dog\n",
            "1      cat\n",
            "2      dog\n",
            "3      cat\n",
            "4      cat\n",
            "5    doggf\n",
            "6      cat\n",
            "7      cat\n",
            "8      cat\n",
            "9      cat\n",
            "10     cat\n",
            "11     cat\n",
            "12     cat\n",
            "13     cat\n",
            "14  uuuuuu\n",
            "15     cat\n",
            "16     cat\n",
            "17     cat\n",
            "18     cat\n",
            "19     cat\n",
            "20     cat\n",
            "21     cat\n",
            "22     ggg\n",
            "23     ggg\n",
            "--------------------------------------------\n",
            "\n",
            "    id                                      name  \\\n",
            "0    1                                       cat   \n",
            "1    2                                       dog   \n",
            "2    3                                     doggf   \n",
            "3    4                                     catff   \n",
            "4    5                                     lemur   \n",
            "5    6                                       ppo   \n",
            "6    7                                       ddd   \n",
            "7    8                                     sssss   \n",
            "8    9                                       sss   \n",
            "9   10                                       ggg   \n",
            "10  15                          modified bruuhhh   \n",
            "11  17                                         s   \n",
            "12  20                             proyecto pepe   \n",
            "13  21                          allprojects test   \n",
            "14  24                       getallprojects test   \n",
            "15  25                                 otro test   \n",
            "16  27                                pollogange   \n",
            "17  28                           cache de mierda   \n",
            "18  29  proyecto FUNCA!!!!!!!!!!!!!!!!!!!!!!!!!!   \n",
            "19  30                     mentira no funca nada   \n",
            "20  31                                        pp   \n",
            "21  32                                      papu   \n",
            "22  33                          nachao vigiialte   \n",
            "23  34                               ninjafornte   \n",
            "24  35                                       lal   \n",
            "25  36                                    gagner   \n",
            "26  37                               cache matat   \n",
            "27  38                                  asdfasca   \n",
            "28  39                                      sasa   \n",
            "29  40                                     seses   \n",
            "30  41                                     sisis   \n",
            "31  42                                       sus   \n",
            "32  43                             modified pipi   \n",
            "33  44                             modified popo   \n",
            "34  45                                  pollines   \n",
            "35  47                                  pollones   \n",
            "36  49                            modified cosmo   \n",
            "37  50                             modified jero   \n",
            "38  51                            modified jero2   \n",
            "39  52                                  aaaaaaaa   \n",
            "40  53                                    llllll   \n",
            "41  54                                    uuuuuu   \n",
            "42  55                                    ffffff   \n",
            "43  56                                     holaa   \n",
            "44  60                             modified baub   \n",
            "45  62                                       ae    \n",
            "46  63                                 statustes   \n",
            "47  64                                    sapeee   \n",
            "48  65                                         a   \n",
            "49  66                                   ujklasd   \n",
            "50  67                                       abc   \n",
            "51  68                                     abcde   \n",
            "52  69           kjjjjjjjjjjjjjjjjjjjjjjjjjjjjjj   \n",
            "\n",
            "                                          description  creatorId  \\\n",
            "0                                                blue          2   \n",
            "1                                                 red          2   \n",
            "2                                                 red         56   \n",
            "3                                                blue         56   \n",
            "4                                                grey         56   \n",
            "5                                                 ppo         56   \n",
            "6                                                 ddd         56   \n",
            "7                                                 sss         56   \n",
            "8                                                 sss         56   \n",
            "9                                                 ggg         56   \n",
            "10                                 modified testinggg         56   \n",
            "11                                                  s         56   \n",
            "12                                   que tal soy sech         56   \n",
            "13                                               sape         56   \n",
            "14                                               sest         56   \n",
            "15                                                bra         56   \n",
            "16                                                 si         56   \n",
            "17                                                :'v         56   \n",
            "18       muchas gracias ignarcio vigilante html y mas         56   \n",
            "19                                                            56   \n",
            "20                                                 pp         56   \n",
            "21                                               papu         56   \n",
            "22                                        aornowicz.,         56   \n",
            "23                                                            56   \n",
            "24                                                lel         56   \n",
            "25                                           nedgange         56   \n",
            "26                                                  e         56   \n",
            "27                                                            56   \n",
            "28                                                            56   \n",
            "29                                                            56   \n",
            "30                                                            56   \n",
            "31                                                            56   \n",
            "32                                      modified vigi         62   \n",
            "33                                      modified vigi         62   \n",
            "34                                           pollones         56   \n",
            "35                                           pollines         56   \n",
            "36                                     modified cosmo         62   \n",
            "37                                      modified jero         62   \n",
            "38                                      modified jero         62   \n",
            "39                                           aaaaaaaa         62   \n",
            "40                                            lllllll         62   \n",
            "41                                             iiiiii         62   \n",
            "42                                            fffffff         62   \n",
            "43                                         nacho vigi         62   \n",
            "44                                      modified vigi         62   \n",
            "45                                              pollo         62   \n",
            "46                                                  t         56   \n",
            "47                                         sape pollo         56   \n",
            "48                                                 ae         56   \n",
            "49                                              ajskl         56   \n",
            "50                                      proyecto real         56   \n",
            "51                                              fghij         56   \n",
            "52  kjk.jkljkljkjkljjjjkjkjkjkjkjkkjjkjkjkjkjkjkjk...         56   \n",
            "\n",
            "                   createdAt                 updatedAt  \n",
            "0   2023-10-30T13:39:26.619Z  2023-10-30T13:39:26.619Z  \n",
            "1   2023-10-30T13:39:46.698Z  2023-10-30T13:39:46.698Z  \n",
            "2   2023-11-01T21:16:53.796Z  2023-11-03T01:05:23.711Z  \n",
            "3   2023-11-01T21:17:02.209Z  2023-11-03T01:06:51.653Z  \n",
            "4   2023-11-01T21:17:15.554Z  2023-11-01T21:17:15.554Z  \n",
            "5   2023-11-01T22:23:22.617Z  2023-11-01T22:23:22.617Z  \n",
            "6   2023-11-02T00:15:59.937Z  2023-11-02T00:15:59.937Z  \n",
            "7   2023-11-02T00:16:07.463Z  2023-11-03T01:05:23.711Z  \n",
            "8   2023-11-02T00:16:12.692Z  2023-11-02T00:16:12.692Z  \n",
            "9   2023-11-02T00:16:20.825Z  2023-11-02T00:16:20.825Z  \n",
            "10  2023-11-07T17:11:23.205Z  2023-11-08T12:01:22.303Z  \n",
            "11  2023-11-07T17:30:10.962Z  2023-11-08T23:36:30.931Z  \n",
            "12  2023-11-08T21:27:01.009Z  2023-11-08T21:27:01.009Z  \n",
            "13  2023-11-08T23:06:27.831Z  2023-11-08T23:06:27.831Z  \n",
            "14  2023-11-08T23:07:54.004Z  2023-11-08T23:07:54.004Z  \n",
            "15  2023-11-08T23:32:51.191Z  2023-11-08T23:32:51.191Z  \n",
            "16  2023-11-08T23:35:46.512Z  2023-11-08T23:35:46.512Z  \n",
            "17  2023-11-08T23:55:10.884Z  2023-11-08T23:55:10.884Z  \n",
            "18  2023-11-08T23:59:11.467Z  2023-11-08T23:59:11.467Z  \n",
            "19  2023-11-09T00:00:20.124Z  2023-11-09T00:00:20.124Z  \n",
            "20  2023-11-09T00:01:10.881Z  2023-11-09T00:01:10.881Z  \n",
            "21  2023-11-09T00:06:39.579Z  2023-11-09T00:06:39.579Z  \n",
            "22  2023-11-09T00:11:14.720Z  2023-11-09T00:11:14.720Z  \n",
            "23  2023-11-09T00:14:33.717Z  2023-11-09T00:14:33.717Z  \n",
            "24  2023-11-09T00:15:56.519Z  2023-11-09T00:15:56.519Z  \n",
            "25  2023-11-09T00:19:06.388Z  2023-11-09T00:19:06.388Z  \n",
            "26  2023-11-09T00:28:49.422Z  2023-11-09T00:28:49.422Z  \n",
            "27  2023-11-09T00:36:33.909Z  2023-11-09T00:36:33.909Z  \n",
            "28  2023-11-09T00:41:50.553Z  2023-11-09T00:41:50.553Z  \n",
            "29  2023-11-09T00:46:57.171Z  2023-11-09T00:46:57.171Z  \n",
            "30  2023-11-09T00:47:06.374Z  2023-11-09T00:47:06.374Z  \n",
            "31  2023-11-09T13:58:25.363Z  2023-11-09T13:58:25.363Z  \n",
            "32  2023-11-12T23:20:48.995Z  2023-11-14T11:15:38.837Z  \n",
            "33  2023-11-13T12:49:29.609Z  2023-11-13T13:38:07.482Z  \n",
            "34  2023-11-13T13:22:06.322Z  2023-11-13T13:22:06.322Z  \n",
            "35  2023-11-13T13:25:37.078Z  2023-11-13T13:25:37.078Z  \n",
            "36  2023-11-13T13:40:51.109Z  2023-11-13T13:41:33.097Z  \n",
            "37  2023-11-13T13:43:37.270Z  2023-11-13T13:56:04.170Z  \n",
            "38  2023-11-13T13:50:21.990Z  2023-11-13T13:57:10.333Z  \n",
            "39  2023-11-13T14:01:32.695Z  2023-11-13T14:38:59.714Z  \n",
            "40  2023-11-13T14:24:20.204Z  2023-11-13T14:24:20.204Z  \n",
            "41  2023-11-13T14:40:22.117Z  2023-11-13T14:48:40.450Z  \n",
            "42  2023-11-13T14:45:23.269Z  2023-11-13T14:45:23.269Z  \n",
            "43  2023-11-14T11:07:05.419Z  2023-11-14T11:07:05.419Z  \n",
            "44  2023-11-14T11:14:45.028Z  2023-11-14T11:16:08.583Z  \n",
            "45  2023-11-14T23:36:19.681Z  2023-11-14T23:36:19.681Z  \n",
            "46  2023-11-15T00:09:29.312Z  2023-11-15T00:09:29.312Z  \n",
            "47  2023-11-15T00:41:04.606Z  2023-11-15T00:41:04.606Z  \n",
            "48  2023-11-18T23:39:42.168Z  2023-11-18T23:39:42.168Z  \n",
            "49  2023-11-19T00:21:07.112Z  2023-11-19T00:21:07.112Z  \n",
            "50  2023-11-19T17:35:24.889Z  2023-11-19T17:35:24.889Z  \n",
            "51  2023-11-19T19:41:32.864Z  2023-11-19T19:41:32.864Z  \n",
            "52  2023-11-21T11:24:47.801Z  2023-11-21T11:24:47.801Z  \n"
          ]
        }
      ],
      "source": [
        "print(df1)\n",
        "print(\"--------------------------------------------\" + \"\\n\")\n",
        "print(df2)\n",
        "print(\"--------------------------------------------\" + \"\\n\")\n",
        "print(df3)"
      ]
    },
    {
      "cell_type": "code",
      "execution_count": null,
      "metadata": {},
      "outputs": [
        {
          "data": {
            "text/html": [
              "<div>\n",
              "<style scoped>\n",
              "    .dataframe tbody tr th:only-of-type {\n",
              "        vertical-align: middle;\n",
              "    }\n",
              "\n",
              "    .dataframe tbody tr th {\n",
              "        vertical-align: top;\n",
              "    }\n",
              "\n",
              "    .dataframe thead th {\n",
              "        text-align: right;\n",
              "    }\n",
              "</style>\n",
              "<table border=\"1\" class=\"dataframe\">\n",
              "  <thead>\n",
              "    <tr style=\"text-align: right;\">\n",
              "      <th></th>\n",
              "      <th>id</th>\n",
              "      <th>name</th>\n",
              "      <th>description</th>\n",
              "      <th>creatorId</th>\n",
              "      <th>createdAt</th>\n",
              "      <th>updatedAt</th>\n",
              "    </tr>\n",
              "  </thead>\n",
              "  <tbody>\n",
              "    <tr>\n",
              "      <th>0</th>\n",
              "      <td>1</td>\n",
              "      <td>cat</td>\n",
              "      <td>blue</td>\n",
              "      <td>2</td>\n",
              "      <td>2023-10-30T13:39:26.619Z</td>\n",
              "      <td>2023-10-30T13:39:26.619Z</td>\n",
              "    </tr>\n",
              "    <tr>\n",
              "      <th>1</th>\n",
              "      <td>2</td>\n",
              "      <td>dog</td>\n",
              "      <td>red</td>\n",
              "      <td>2</td>\n",
              "      <td>2023-10-30T13:39:46.698Z</td>\n",
              "      <td>2023-10-30T13:39:46.698Z</td>\n",
              "    </tr>\n",
              "    <tr>\n",
              "      <th>2</th>\n",
              "      <td>3</td>\n",
              "      <td>doggf</td>\n",
              "      <td>red</td>\n",
              "      <td>56</td>\n",
              "      <td>2023-11-01T21:16:53.796Z</td>\n",
              "      <td>2023-11-03T01:05:23.711Z</td>\n",
              "    </tr>\n",
              "    <tr>\n",
              "      <th>3</th>\n",
              "      <td>4</td>\n",
              "      <td>catff</td>\n",
              "      <td>blue</td>\n",
              "      <td>56</td>\n",
              "      <td>2023-11-01T21:17:02.209Z</td>\n",
              "      <td>2023-11-03T01:06:51.653Z</td>\n",
              "    </tr>\n",
              "    <tr>\n",
              "      <th>4</th>\n",
              "      <td>5</td>\n",
              "      <td>lemur</td>\n",
              "      <td>grey</td>\n",
              "      <td>56</td>\n",
              "      <td>2023-11-01T21:17:15.554Z</td>\n",
              "      <td>2023-11-01T21:17:15.554Z</td>\n",
              "    </tr>\n",
              "    <tr>\n",
              "      <th>5</th>\n",
              "      <td>6</td>\n",
              "      <td>ppo</td>\n",
              "      <td>ppo</td>\n",
              "      <td>56</td>\n",
              "      <td>2023-11-01T22:23:22.617Z</td>\n",
              "      <td>2023-11-01T22:23:22.617Z</td>\n",
              "    </tr>\n",
              "    <tr>\n",
              "      <th>6</th>\n",
              "      <td>7</td>\n",
              "      <td>ddd</td>\n",
              "      <td>ddd</td>\n",
              "      <td>56</td>\n",
              "      <td>2023-11-02T00:15:59.937Z</td>\n",
              "      <td>2023-11-02T00:15:59.937Z</td>\n",
              "    </tr>\n",
              "    <tr>\n",
              "      <th>7</th>\n",
              "      <td>8</td>\n",
              "      <td>sssss</td>\n",
              "      <td>sss</td>\n",
              "      <td>56</td>\n",
              "      <td>2023-11-02T00:16:07.463Z</td>\n",
              "      <td>2023-11-03T01:05:23.711Z</td>\n",
              "    </tr>\n",
              "    <tr>\n",
              "      <th>8</th>\n",
              "      <td>9</td>\n",
              "      <td>sss</td>\n",
              "      <td>sss</td>\n",
              "      <td>56</td>\n",
              "      <td>2023-11-02T00:16:12.692Z</td>\n",
              "      <td>2023-11-02T00:16:12.692Z</td>\n",
              "    </tr>\n",
              "    <tr>\n",
              "      <th>9</th>\n",
              "      <td>10</td>\n",
              "      <td>ggg</td>\n",
              "      <td>ggg</td>\n",
              "      <td>56</td>\n",
              "      <td>2023-11-02T00:16:20.825Z</td>\n",
              "      <td>2023-11-02T00:16:20.825Z</td>\n",
              "    </tr>\n",
              "    <tr>\n",
              "      <th>10</th>\n",
              "      <td>15</td>\n",
              "      <td>modified bruuhhh</td>\n",
              "      <td>modified testinggg</td>\n",
              "      <td>56</td>\n",
              "      <td>2023-11-07T17:11:23.205Z</td>\n",
              "      <td>2023-11-08T12:01:22.303Z</td>\n",
              "    </tr>\n",
              "    <tr>\n",
              "      <th>11</th>\n",
              "      <td>17</td>\n",
              "      <td>s</td>\n",
              "      <td>s</td>\n",
              "      <td>56</td>\n",
              "      <td>2023-11-07T17:30:10.962Z</td>\n",
              "      <td>2023-11-08T23:36:30.931Z</td>\n",
              "    </tr>\n",
              "    <tr>\n",
              "      <th>12</th>\n",
              "      <td>20</td>\n",
              "      <td>proyecto pepe</td>\n",
              "      <td>que tal soy sech</td>\n",
              "      <td>56</td>\n",
              "      <td>2023-11-08T21:27:01.009Z</td>\n",
              "      <td>2023-11-08T21:27:01.009Z</td>\n",
              "    </tr>\n",
              "    <tr>\n",
              "      <th>13</th>\n",
              "      <td>21</td>\n",
              "      <td>allprojects test</td>\n",
              "      <td>sape</td>\n",
              "      <td>56</td>\n",
              "      <td>2023-11-08T23:06:27.831Z</td>\n",
              "      <td>2023-11-08T23:06:27.831Z</td>\n",
              "    </tr>\n",
              "    <tr>\n",
              "      <th>14</th>\n",
              "      <td>24</td>\n",
              "      <td>getallprojects test</td>\n",
              "      <td>sest</td>\n",
              "      <td>56</td>\n",
              "      <td>2023-11-08T23:07:54.004Z</td>\n",
              "      <td>2023-11-08T23:07:54.004Z</td>\n",
              "    </tr>\n",
              "  </tbody>\n",
              "</table>\n",
              "</div>"
            ],
            "text/plain": [
              "    id                 name         description  creatorId  \\\n",
              "0    1                  cat                blue          2   \n",
              "1    2                  dog                 red          2   \n",
              "2    3                doggf                 red         56   \n",
              "3    4                catff                blue         56   \n",
              "4    5                lemur                grey         56   \n",
              "5    6                  ppo                 ppo         56   \n",
              "6    7                  ddd                 ddd         56   \n",
              "7    8                sssss                 sss         56   \n",
              "8    9                  sss                 sss         56   \n",
              "9   10                  ggg                 ggg         56   \n",
              "10  15     modified bruuhhh  modified testinggg         56   \n",
              "11  17                    s                   s         56   \n",
              "12  20        proyecto pepe    que tal soy sech         56   \n",
              "13  21     allprojects test                sape         56   \n",
              "14  24  getallprojects test                sest         56   \n",
              "\n",
              "                   createdAt                 updatedAt  \n",
              "0   2023-10-30T13:39:26.619Z  2023-10-30T13:39:26.619Z  \n",
              "1   2023-10-30T13:39:46.698Z  2023-10-30T13:39:46.698Z  \n",
              "2   2023-11-01T21:16:53.796Z  2023-11-03T01:05:23.711Z  \n",
              "3   2023-11-01T21:17:02.209Z  2023-11-03T01:06:51.653Z  \n",
              "4   2023-11-01T21:17:15.554Z  2023-11-01T21:17:15.554Z  \n",
              "5   2023-11-01T22:23:22.617Z  2023-11-01T22:23:22.617Z  \n",
              "6   2023-11-02T00:15:59.937Z  2023-11-02T00:15:59.937Z  \n",
              "7   2023-11-02T00:16:07.463Z  2023-11-03T01:05:23.711Z  \n",
              "8   2023-11-02T00:16:12.692Z  2023-11-02T00:16:12.692Z  \n",
              "9   2023-11-02T00:16:20.825Z  2023-11-02T00:16:20.825Z  \n",
              "10  2023-11-07T17:11:23.205Z  2023-11-08T12:01:22.303Z  \n",
              "11  2023-11-07T17:30:10.962Z  2023-11-08T23:36:30.931Z  \n",
              "12  2023-11-08T21:27:01.009Z  2023-11-08T21:27:01.009Z  \n",
              "13  2023-11-08T23:06:27.831Z  2023-11-08T23:06:27.831Z  \n",
              "14  2023-11-08T23:07:54.004Z  2023-11-08T23:07:54.004Z  "
            ]
          },
          "execution_count": 7,
          "metadata": {},
          "output_type": "execute_result"
        }
      ],
      "source": [
        "df3.head(15)"
      ]
    },
    {
      "cell_type": "code",
      "execution_count": null,
      "metadata": {},
      "outputs": [
        {
          "name": "stdout",
          "output_type": "stream",
          "text": [
            "(578, 1)\n",
            "(24, 1)\n",
            "(53, 6)\n"
          ]
        }
      ],
      "source": [
        "print(df1.shape)\n",
        "print(df2.shape)\n",
        "print(df3.shape)"
      ]
    },
    {
      "cell_type": "code",
      "execution_count": null,
      "metadata": {},
      "outputs": [
        {
          "name": "stdout",
          "output_type": "stream",
          "text": [
            "(53, 6)\n"
          ]
        }
      ],
      "source": [
        "df_concatenated = pd.concat([df1, df2], axis=1)\n",
        "\n",
        "df_final = pd.merge(df_concatenated, df3, left_index=True, right_index=True)\n",
        "\n",
        "df_final = df_final.drop(['createdAt'], axis=1)\n",
        "df_final = df_final.drop(['updatedAt'], axis=1)\n",
        "\n",
        "print(df_final.shape)"
      ]
    },
    {
      "cell_type": "code",
      "execution_count": null,
      "metadata": {},
      "outputs": [
        {
          "data": {
            "text/html": [
              "<div>\n",
              "<style scoped>\n",
              "    .dataframe tbody tr th:only-of-type {\n",
              "        vertical-align: middle;\n",
              "    }\n",
              "\n",
              "    .dataframe tbody tr th {\n",
              "        vertical-align: top;\n",
              "    }\n",
              "\n",
              "    .dataframe thead th {\n",
              "        text-align: right;\n",
              "    }\n",
              "</style>\n",
              "<table border=\"1\" class=\"dataframe\">\n",
              "  <thead>\n",
              "    <tr style=\"text-align: right;\">\n",
              "      <th></th>\n",
              "      <th>Palabra</th>\n",
              "      <th>Palabra</th>\n",
              "      <th>id</th>\n",
              "      <th>name</th>\n",
              "      <th>description</th>\n",
              "      <th>creatorId</th>\n",
              "    </tr>\n",
              "  </thead>\n",
              "  <tbody>\n",
              "    <tr>\n",
              "      <th>0</th>\n",
              "      <td>dog</td>\n",
              "      <td>dog</td>\n",
              "      <td>1</td>\n",
              "      <td>cat</td>\n",
              "      <td>blue</td>\n",
              "      <td>2</td>\n",
              "    </tr>\n",
              "    <tr>\n",
              "      <th>1</th>\n",
              "      <td>aaaa</td>\n",
              "      <td>cat</td>\n",
              "      <td>2</td>\n",
              "      <td>dog</td>\n",
              "      <td>red</td>\n",
              "      <td>2</td>\n",
              "    </tr>\n",
              "    <tr>\n",
              "      <th>2</th>\n",
              "      <td>holaaa</td>\n",
              "      <td>dog</td>\n",
              "      <td>3</td>\n",
              "      <td>doggf</td>\n",
              "      <td>red</td>\n",
              "      <td>56</td>\n",
              "    </tr>\n",
              "    <tr>\n",
              "      <th>3</th>\n",
              "      <td>siii</td>\n",
              "      <td>cat</td>\n",
              "      <td>4</td>\n",
              "      <td>catff</td>\n",
              "      <td>blue</td>\n",
              "      <td>56</td>\n",
              "    </tr>\n",
              "    <tr>\n",
              "      <th>4</th>\n",
              "      <td>siii</td>\n",
              "      <td>cat</td>\n",
              "      <td>5</td>\n",
              "      <td>lemur</td>\n",
              "      <td>grey</td>\n",
              "      <td>56</td>\n",
              "    </tr>\n",
              "    <tr>\n",
              "      <th>5</th>\n",
              "      <td>dog</td>\n",
              "      <td>doggf</td>\n",
              "      <td>6</td>\n",
              "      <td>ppo</td>\n",
              "      <td>ppo</td>\n",
              "      <td>56</td>\n",
              "    </tr>\n",
              "    <tr>\n",
              "      <th>6</th>\n",
              "      <td>dog</td>\n",
              "      <td>cat</td>\n",
              "      <td>7</td>\n",
              "      <td>ddd</td>\n",
              "      <td>ddd</td>\n",
              "      <td>56</td>\n",
              "    </tr>\n",
              "    <tr>\n",
              "      <th>7</th>\n",
              "      <td>dog</td>\n",
              "      <td>cat</td>\n",
              "      <td>8</td>\n",
              "      <td>sssss</td>\n",
              "      <td>sss</td>\n",
              "      <td>56</td>\n",
              "    </tr>\n",
              "    <tr>\n",
              "      <th>8</th>\n",
              "      <td>cat</td>\n",
              "      <td>cat</td>\n",
              "      <td>9</td>\n",
              "      <td>sss</td>\n",
              "      <td>sss</td>\n",
              "      <td>56</td>\n",
              "    </tr>\n",
              "    <tr>\n",
              "      <th>9</th>\n",
              "      <td>wow</td>\n",
              "      <td>cat</td>\n",
              "      <td>10</td>\n",
              "      <td>ggg</td>\n",
              "      <td>ggg</td>\n",
              "      <td>56</td>\n",
              "    </tr>\n",
              "  </tbody>\n",
              "</table>\n",
              "</div>"
            ],
            "text/plain": [
              "  Palabra Palabra  id   name description  creatorId\n",
              "0     dog     dog   1    cat        blue          2\n",
              "1    aaaa     cat   2    dog         red          2\n",
              "2  holaaa     dog   3  doggf         red         56\n",
              "3    siii     cat   4  catff        blue         56\n",
              "4    siii     cat   5  lemur        grey         56\n",
              "5     dog   doggf   6    ppo         ppo         56\n",
              "6     dog     cat   7    ddd         ddd         56\n",
              "7     dog     cat   8  sssss         sss         56\n",
              "8     cat     cat   9    sss         sss         56\n",
              "9     wow     cat  10    ggg         ggg         56"
            ]
          },
          "execution_count": 10,
          "metadata": {},
          "output_type": "execute_result"
        }
      ],
      "source": [
        "df_final.head(10)"
      ]
    },
    {
      "cell_type": "markdown",
      "metadata": {},
      "source": [
        "ACA TENES QUE CONVERTIR TODOS LOS DATOS A VECTORES, CON EL CODIGO QUE TENES EN COLAB, PARA DESPUES PODER HACER FACTORIZACION DE MATRICES"
      ]
    },
    {
      "cell_type": "code",
      "execution_count": null,
      "metadata": {},
      "outputs": [
        {
          "name": "stdout",
          "output_type": "stream",
          "text": [
            "Requirement already satisfied: scikit-learn in c:\\users\\47295973\\appdata\\local\\programs\\python\\python311\\lib\\site-packages (1.3.2)\n",
            "Requirement already satisfied: numpy<2.0,>=1.17.3 in c:\\users\\47295973\\appdata\\local\\programs\\python\\python311\\lib\\site-packages (from scikit-learn) (1.24.3)\n",
            "Requirement already satisfied: scipy>=1.5.0 in c:\\users\\47295973\\appdata\\local\\programs\\python\\python311\\lib\\site-packages (from scikit-learn) (1.11.4)\n",
            "Requirement already satisfied: joblib>=1.1.1 in c:\\users\\47295973\\appdata\\local\\programs\\python\\python311\\lib\\site-packages (from scikit-learn) (1.3.2)\n",
            "Requirement already satisfied: threadpoolctl>=2.0.0 in c:\\users\\47295973\\appdata\\local\\programs\\python\\python311\\lib\\site-packages (from scikit-learn) (3.2.0)\n",
            "Note: you may need to restart the kernel to use updated packages.\n"
          ]
        },
        {
          "name": "stderr",
          "output_type": "stream",
          "text": [
            "\n",
            "[notice] A new release of pip available: 22.3.1 -> 23.3.1\n",
            "[notice] To update, run: python.exe -m pip install --upgrade pip\n"
          ]
        }
      ],
      "source": [
        "%pip install scikit-learn"
      ]
    },
    {
      "cell_type": "code",
      "execution_count": null,
      "metadata": {},
      "outputs": [],
      "source": [
        "from sklearn.feature_extraction.text import TfidfVectorizer"
      ]
    },
    {
      "cell_type": "code",
      "execution_count": null,
      "metadata": {},
      "outputs": [],
      "source": [
        "tfidf = TfidfVectorizer(max_features=5000)"
      ]
    },
    {
      "cell_type": "code",
      "execution_count": null,
      "metadata": {},
      "outputs": [],
      "source": [
        "vectorized_data = tfidf.fit_transform(df_final[\"description\"])"
      ]
    },
    {
      "cell_type": "code",
      "execution_count": null,
      "metadata": {},
      "outputs": [
        {
          "name": "stdout",
          "output_type": "stream",
          "text": [
            "<class 'scipy.sparse._csr.csr_matrix'>\n"
          ]
        }
      ],
      "source": [
        "print(type(vectorized_data))"
      ]
    },
    {
      "cell_type": "code",
      "execution_count": null,
      "metadata": {},
      "outputs": [],
      "source": [
        "vectorized_dataframe = pd.DataFrame(vectorized_data.toarray(), index=df_final[\"description\"].index.tolist())"
      ]
    },
    {
      "cell_type": "code",
      "execution_count": null,
      "metadata": {},
      "outputs": [
        {
          "data": {
            "text/html": [
              "<div>\n",
              "<style scoped>\n",
              "    .dataframe tbody tr th:only-of-type {\n",
              "        vertical-align: middle;\n",
              "    }\n",
              "\n",
              "    .dataframe tbody tr th {\n",
              "        vertical-align: top;\n",
              "    }\n",
              "\n",
              "    .dataframe thead th {\n",
              "        text-align: right;\n",
              "    }\n",
              "</style>\n",
              "<table border=\"1\" class=\"dataframe\">\n",
              "  <thead>\n",
              "    <tr style=\"text-align: right;\">\n",
              "      <th></th>\n",
              "      <th>0</th>\n",
              "      <th>1</th>\n",
              "      <th>2</th>\n",
              "      <th>3</th>\n",
              "      <th>4</th>\n",
              "      <th>5</th>\n",
              "      <th>6</th>\n",
              "      <th>7</th>\n",
              "      <th>8</th>\n",
              "      <th>9</th>\n",
              "      <th>...</th>\n",
              "      <th>36</th>\n",
              "      <th>37</th>\n",
              "      <th>38</th>\n",
              "      <th>39</th>\n",
              "      <th>40</th>\n",
              "      <th>41</th>\n",
              "      <th>42</th>\n",
              "      <th>43</th>\n",
              "      <th>44</th>\n",
              "      <th>45</th>\n",
              "    </tr>\n",
              "  </thead>\n",
              "  <tbody>\n",
              "    <tr>\n",
              "      <th>0</th>\n",
              "      <td>0.0</td>\n",
              "      <td>0.0</td>\n",
              "      <td>0.0</td>\n",
              "      <td>0.0</td>\n",
              "      <td>1.0</td>\n",
              "      <td>0.0</td>\n",
              "      <td>0.0</td>\n",
              "      <td>0.0</td>\n",
              "      <td>0.0</td>\n",
              "      <td>0.0</td>\n",
              "      <td>...</td>\n",
              "      <td>0.0</td>\n",
              "      <td>0.0</td>\n",
              "      <td>0.0</td>\n",
              "      <td>0.0</td>\n",
              "      <td>0.0</td>\n",
              "      <td>0.0</td>\n",
              "      <td>0.0</td>\n",
              "      <td>0.0</td>\n",
              "      <td>0.0</td>\n",
              "      <td>0.0</td>\n",
              "    </tr>\n",
              "    <tr>\n",
              "      <th>1</th>\n",
              "      <td>0.0</td>\n",
              "      <td>0.0</td>\n",
              "      <td>0.0</td>\n",
              "      <td>0.0</td>\n",
              "      <td>0.0</td>\n",
              "      <td>0.0</td>\n",
              "      <td>0.0</td>\n",
              "      <td>0.0</td>\n",
              "      <td>0.0</td>\n",
              "      <td>0.0</td>\n",
              "      <td>...</td>\n",
              "      <td>0.0</td>\n",
              "      <td>0.0</td>\n",
              "      <td>0.0</td>\n",
              "      <td>0.0</td>\n",
              "      <td>0.0</td>\n",
              "      <td>0.0</td>\n",
              "      <td>0.0</td>\n",
              "      <td>0.0</td>\n",
              "      <td>0.0</td>\n",
              "      <td>0.0</td>\n",
              "    </tr>\n",
              "    <tr>\n",
              "      <th>2</th>\n",
              "      <td>0.0</td>\n",
              "      <td>0.0</td>\n",
              "      <td>0.0</td>\n",
              "      <td>0.0</td>\n",
              "      <td>0.0</td>\n",
              "      <td>0.0</td>\n",
              "      <td>0.0</td>\n",
              "      <td>0.0</td>\n",
              "      <td>0.0</td>\n",
              "      <td>0.0</td>\n",
              "      <td>...</td>\n",
              "      <td>0.0</td>\n",
              "      <td>0.0</td>\n",
              "      <td>0.0</td>\n",
              "      <td>0.0</td>\n",
              "      <td>0.0</td>\n",
              "      <td>0.0</td>\n",
              "      <td>0.0</td>\n",
              "      <td>0.0</td>\n",
              "      <td>0.0</td>\n",
              "      <td>0.0</td>\n",
              "    </tr>\n",
              "    <tr>\n",
              "      <th>3</th>\n",
              "      <td>0.0</td>\n",
              "      <td>0.0</td>\n",
              "      <td>0.0</td>\n",
              "      <td>0.0</td>\n",
              "      <td>1.0</td>\n",
              "      <td>0.0</td>\n",
              "      <td>0.0</td>\n",
              "      <td>0.0</td>\n",
              "      <td>0.0</td>\n",
              "      <td>0.0</td>\n",
              "      <td>...</td>\n",
              "      <td>0.0</td>\n",
              "      <td>0.0</td>\n",
              "      <td>0.0</td>\n",
              "      <td>0.0</td>\n",
              "      <td>0.0</td>\n",
              "      <td>0.0</td>\n",
              "      <td>0.0</td>\n",
              "      <td>0.0</td>\n",
              "      <td>0.0</td>\n",
              "      <td>0.0</td>\n",
              "    </tr>\n",
              "    <tr>\n",
              "      <th>4</th>\n",
              "      <td>0.0</td>\n",
              "      <td>0.0</td>\n",
              "      <td>0.0</td>\n",
              "      <td>0.0</td>\n",
              "      <td>0.0</td>\n",
              "      <td>0.0</td>\n",
              "      <td>0.0</td>\n",
              "      <td>0.0</td>\n",
              "      <td>0.0</td>\n",
              "      <td>0.0</td>\n",
              "      <td>...</td>\n",
              "      <td>0.0</td>\n",
              "      <td>0.0</td>\n",
              "      <td>0.0</td>\n",
              "      <td>0.0</td>\n",
              "      <td>0.0</td>\n",
              "      <td>0.0</td>\n",
              "      <td>0.0</td>\n",
              "      <td>0.0</td>\n",
              "      <td>0.0</td>\n",
              "      <td>0.0</td>\n",
              "    </tr>\n",
              "  </tbody>\n",
              "</table>\n",
              "<p>5 rows × 46 columns</p>\n",
              "</div>"
            ],
            "text/plain": [
              "    0    1    2    3    4    5    6    7    8    9   ...   36   37   38   39  \\\n",
              "0  0.0  0.0  0.0  0.0  1.0  0.0  0.0  0.0  0.0  0.0  ...  0.0  0.0  0.0  0.0   \n",
              "1  0.0  0.0  0.0  0.0  0.0  0.0  0.0  0.0  0.0  0.0  ...  0.0  0.0  0.0  0.0   \n",
              "2  0.0  0.0  0.0  0.0  0.0  0.0  0.0  0.0  0.0  0.0  ...  0.0  0.0  0.0  0.0   \n",
              "3  0.0  0.0  0.0  0.0  1.0  0.0  0.0  0.0  0.0  0.0  ...  0.0  0.0  0.0  0.0   \n",
              "4  0.0  0.0  0.0  0.0  0.0  0.0  0.0  0.0  0.0  0.0  ...  0.0  0.0  0.0  0.0   \n",
              "\n",
              "    40   41   42   43   44   45  \n",
              "0  0.0  0.0  0.0  0.0  0.0  0.0  \n",
              "1  0.0  0.0  0.0  0.0  0.0  0.0  \n",
              "2  0.0  0.0  0.0  0.0  0.0  0.0  \n",
              "3  0.0  0.0  0.0  0.0  0.0  0.0  \n",
              "4  0.0  0.0  0.0  0.0  0.0  0.0  \n",
              "\n",
              "[5 rows x 46 columns]"
            ]
          },
          "execution_count": 17,
          "metadata": {},
          "output_type": "execute_result"
        }
      ],
      "source": [
        "vectorized_dataframe.head()"
      ]
    },
    {
      "cell_type": "code",
      "execution_count": null,
      "metadata": {},
      "outputs": [
        {
          "data": {
            "text/plain": [
              "(53, 46)"
            ]
          },
          "execution_count": 18,
          "metadata": {},
          "output_type": "execute_result"
        }
      ],
      "source": [
        "vectorized_dataframe.shape"
      ]
    },
    {
      "cell_type": "code",
      "execution_count": null,
      "metadata": {},
      "outputs": [],
      "source": [
        "from sklearn.decomposition import TruncatedSVD"
      ]
    },
    {
      "cell_type": "code",
      "execution_count": null,
      "metadata": {},
      "outputs": [],
      "source": [
        "svd = TruncatedSVD(n_components=14)\n",
        "\n",
        "reduced_data = svd.fit_transform(vectorized_dataframe)"
      ]
    },
    {
      "cell_type": "code",
      "execution_count": null,
      "metadata": {},
      "outputs": [
        {
          "data": {
            "text/plain": [
              "(53, 14)"
            ]
          },
          "execution_count": 21,
          "metadata": {},
          "output_type": "execute_result"
        }
      ],
      "source": [
        "reduced_data.shape"
      ]
    },
    {
      "cell_type": "code",
      "execution_count": null,
      "metadata": {},
      "outputs": [
        {
          "data": {
            "text/plain": [
              "array([[-1.25741515e-06,  6.85044521e-01, -3.12507622e-01,\n",
              "         5.98283124e-01, -2.73862252e-01, -1.13960968e-03,\n",
              "         4.25483965e-16, -1.79357304e-16, -2.09683300e-16,\n",
              "         1.16319184e-16, -2.44712127e-16, -1.24102498e-16,\n",
              "        -2.12762091e-16, -2.23332780e-16],\n",
              "       [ 5.29741973e-07,  4.68739346e-01, -3.13549372e-01,\n",
              "        -3.60280396e-01,  7.42946384e-01,  2.33778646e-03,\n",
              "         3.91423883e-16,  5.90126253e-17, -2.31264614e-16,\n",
              "        -2.00922421e-16,  6.73625036e-17,  4.06235939e-16,\n",
              "         3.05439243e-16,  2.16722255e-17],\n",
              "       [ 5.29741973e-07,  4.68739346e-01, -3.13549372e-01,\n",
              "        -3.60280396e-01,  7.42946384e-01,  2.33778646e-03,\n",
              "         3.91423883e-16,  5.90126253e-17, -2.31264614e-16,\n",
              "        -2.00922421e-16,  6.73625036e-17,  4.06235939e-16,\n",
              "         3.05439243e-16,  2.16722255e-17],\n",
              "       [-1.25741515e-06,  6.85044521e-01, -3.12507622e-01,\n",
              "         5.98283124e-01, -2.73862252e-01, -1.13960968e-03,\n",
              "         4.25483965e-16, -1.79357304e-16, -2.09683300e-16,\n",
              "         1.16319184e-16, -2.44712127e-16, -1.24102498e-16,\n",
              "        -2.12762091e-16, -2.23332780e-16],\n",
              "       [ 2.58932405e-05,  1.89311150e-04,  2.80372865e-03,\n",
              "         1.70683033e-03, -2.23794629e-03, -7.33887911e-03,\n",
              "        -2.73291472e-01,  5.33275252e-02, -2.30543820e-01,\n",
              "         9.55728751e-02,  1.90648483e-01,  4.49988858e-02,\n",
              "        -2.00038300e-01, -5.90985805e-02],\n",
              "       [-1.86144342e-06, -7.81067280e-05, -2.61466222e-03,\n",
              "         4.25965854e-03, -3.35293985e-03, -1.82354866e-02,\n",
              "         2.01507544e-01, -3.56596915e-01, -7.79597699e-02,\n",
              "         4.33782950e-01, -3.85940017e-02,  3.93873122e-01,\n",
              "         7.94150241e-03, -6.52208190e-02],\n",
              "       [ 1.54873039e-05,  1.37076057e-03,  5.25153669e-04,\n",
              "         3.21025687e-03,  1.59726336e-03, -1.86618917e-04,\n",
              "         9.93863152e-02, -9.15933478e-02,  1.47110084e-01,\n",
              "         8.02020391e-02, -2.91151334e-02, -6.77720042e-02,\n",
              "        -1.66582207e-01, -5.34152369e-02],\n",
              "       [ 7.67017212e-08,  3.10615633e-01,  8.75767801e-01,\n",
              "         2.33010078e-01,  2.86598959e-01,  1.26112357e-04,\n",
              "        -3.27355041e-16,  1.38219949e-16,  2.34484265e-16,\n",
              "        -1.18738224e-16, -1.78749641e-17,  1.21507279e-16,\n",
              "         3.59277270e-17, -2.46299498e-16],\n",
              "       [ 7.67017212e-08,  3.10615633e-01,  8.75767801e-01,\n",
              "         2.33010078e-01,  2.86598959e-01,  1.26112357e-04,\n",
              "        -3.27355041e-16,  1.38219949e-16,  2.34484265e-16,\n",
              "        -1.18738224e-16, -1.78749641e-17,  1.21507279e-16,\n",
              "         3.59277270e-17, -2.46299498e-16],\n",
              "       [ 3.09186504e-05,  5.80646992e-04, -2.92071844e-04,\n",
              "        -4.03899217e-04, -7.42948368e-03, -6.41559882e-03,\n",
              "         3.30385712e-01, -1.81946706e-01,  1.88315295e-02,\n",
              "        -3.80750014e-01, -5.55601078e-02, -2.19627818e-01,\n",
              "         2.74826113e-01, -1.66309888e-01],\n",
              "       [ 5.13478607e-01, -4.78129092e-04,  2.09537310e-03,\n",
              "        -1.00778818e-03, -1.76653003e-03,  2.49253490e-01,\n",
              "         6.69180555e-16,  3.94283320e-15,  4.20335495e-15,\n",
              "        -2.21450188e-16,  9.93797650e-16,  2.80861927e-15,\n",
              "        -4.32340911e-16,  3.42044968e-16],\n",
              "       [ 0.00000000e+00,  0.00000000e+00,  0.00000000e+00,\n",
              "         0.00000000e+00,  0.00000000e+00,  0.00000000e+00,\n",
              "         0.00000000e+00,  0.00000000e+00,  0.00000000e+00,\n",
              "         0.00000000e+00,  0.00000000e+00,  0.00000000e+00,\n",
              "         0.00000000e+00,  0.00000000e+00],\n",
              "       [-2.30990416e-05,  9.22252978e-04, -1.19625113e-03,\n",
              "        -3.64931336e-03,  1.74038560e-03,  3.67196456e-04,\n",
              "         5.56005698e-02,  1.29799188e-02,  3.48206822e-01,\n",
              "         7.67280105e-02,  9.99820385e-02,  9.03476017e-02,\n",
              "         5.64239622e-02,  2.29190261e-01],\n",
              "       [ 1.76497755e-05, -3.27378829e-01, -1.36718851e-01,\n",
              "         4.75627750e-01,  3.82852310e-01,  1.50071947e-02,\n",
              "         1.00392447e-02, -1.49335393e-01,  7.29514135e-02,\n",
              "         2.55368312e-01,  1.52193119e-01, -6.32831374e-02,\n",
              "        -2.20986911e-01, -1.55076484e-01],\n",
              "       [-1.69430368e-06, -3.88935951e-04, -3.08151014e-03,\n",
              "        -1.97978450e-03, -1.01928146e-04,  1.00260706e-02,\n",
              "         2.09682889e-01,  1.37751472e-01, -1.39329623e-01,\n",
              "        -3.88481942e-02,  3.96381404e-01,  1.69134558e-01,\n",
              "        -3.87751886e-02,  1.30237700e-01],\n",
              "       [-1.00045563e-05,  8.11126287e-04,  5.60935059e-04,\n",
              "        -2.23774089e-03, -2.01585714e-03, -5.28846765e-03,\n",
              "         1.99874727e-02, -2.78864800e-02, -5.18546519e-02,\n",
              "         5.84699803e-02, -2.21769958e-01, -1.84382541e-01,\n",
              "        -3.54683293e-01,  3.57713415e-01],\n",
              "       [-1.90278961e-05, -6.28530516e-04, -1.95105910e-03,\n",
              "        -9.53147129e-06,  6.50368686e-04,  1.96830739e-02,\n",
              "         1.13702709e-01,  1.24281616e-01,  3.74033378e-02,\n",
              "         8.71453462e-02,  1.57188192e-02, -1.22373804e-01,\n",
              "        -1.36433951e-01,  3.74997793e-02],\n",
              "       [ 0.00000000e+00,  0.00000000e+00,  0.00000000e+00,\n",
              "         0.00000000e+00,  0.00000000e+00,  0.00000000e+00,\n",
              "         0.00000000e+00,  0.00000000e+00,  0.00000000e+00,\n",
              "         0.00000000e+00,  0.00000000e+00,  0.00000000e+00,\n",
              "         0.00000000e+00,  0.00000000e+00],\n",
              "       [ 4.25730859e-05, -5.69634330e-04, -3.18510529e-04,\n",
              "         4.22904407e-03, -5.02413635e-04,  2.91676644e-03,\n",
              "         1.90804661e-01,  7.49235122e-02,  3.68167923e-01,\n",
              "         4.04182041e-02, -1.26621520e-01,  1.99178266e-01,\n",
              "        -1.42014994e-01,  1.66726506e-01],\n",
              "       [ 0.00000000e+00,  0.00000000e+00,  0.00000000e+00,\n",
              "         0.00000000e+00,  0.00000000e+00,  0.00000000e+00,\n",
              "         0.00000000e+00,  0.00000000e+00,  0.00000000e+00,\n",
              "         0.00000000e+00,  0.00000000e+00,  0.00000000e+00,\n",
              "         0.00000000e+00,  0.00000000e+00],\n",
              "       [ 8.49796617e-06, -3.01872222e-04, -1.98058563e-03,\n",
              "         1.86143642e-03, -4.82374826e-03, -4.83644054e-03,\n",
              "        -2.70411134e-02,  5.04492940e-01, -1.63588297e-01,\n",
              "         1.44860777e-01, -4.38161777e-02, -6.28158865e-04,\n",
              "         1.25778066e-01,  1.19801800e-01],\n",
              "       [-3.52015742e-06,  1.45018836e-03,  3.45670591e-04,\n",
              "        -1.91092265e-04, -1.40505725e-03,  2.70508977e-05,\n",
              "        -1.43694291e-01, -2.04400960e-01,  2.33621088e-02,\n",
              "        -4.19232821e-02, -3.19500252e-01,  3.14342318e-01,\n",
              "         1.42400324e-01, -1.14168478e-01],\n",
              "       [ 9.37625657e-07,  4.29695390e-04, -1.19045921e-03,\n",
              "         3.16807491e-04,  2.21834839e-03,  6.48812517e-03,\n",
              "        -1.81899923e-01, -8.09275933e-02,  1.64758099e-01,\n",
              "        -1.07552035e-01,  3.44719694e-01, -8.65561570e-02,\n",
              "         3.01398997e-01,  2.39361912e-02],\n",
              "       [ 0.00000000e+00,  0.00000000e+00,  0.00000000e+00,\n",
              "         0.00000000e+00,  0.00000000e+00,  0.00000000e+00,\n",
              "         0.00000000e+00,  0.00000000e+00,  0.00000000e+00,\n",
              "         0.00000000e+00,  0.00000000e+00,  0.00000000e+00,\n",
              "         0.00000000e+00,  0.00000000e+00],\n",
              "       [ 2.76340894e-05,  1.40735527e-03, -1.29377342e-03,\n",
              "        -8.54711194e-05, -2.67566717e-03,  4.57448578e-04,\n",
              "        -2.02335397e-01, -1.04177355e-01,  3.38349177e-01,\n",
              "         5.68300903e-04, -2.27042381e-02,  1.10133194e-01,\n",
              "         4.56806178e-02,  3.72284368e-01],\n",
              "       [ 6.16057164e-06,  1.71574017e-03,  1.79130773e-03,\n",
              "         1.25209102e-03,  4.92276224e-03, -6.93151137e-04,\n",
              "         3.11837201e-02,  1.63712832e-01,  2.79157461e-01,\n",
              "        -6.63328450e-02,  3.86644298e-02,  5.71992282e-03,\n",
              "         6.53147039e-03, -3.09192093e-01],\n",
              "       [ 0.00000000e+00,  0.00000000e+00,  0.00000000e+00,\n",
              "         0.00000000e+00,  0.00000000e+00,  0.00000000e+00,\n",
              "         0.00000000e+00,  0.00000000e+00,  0.00000000e+00,\n",
              "         0.00000000e+00,  0.00000000e+00,  0.00000000e+00,\n",
              "         0.00000000e+00,  0.00000000e+00],\n",
              "       [ 0.00000000e+00,  0.00000000e+00,  0.00000000e+00,\n",
              "         0.00000000e+00,  0.00000000e+00,  0.00000000e+00,\n",
              "         0.00000000e+00,  0.00000000e+00,  0.00000000e+00,\n",
              "         0.00000000e+00,  0.00000000e+00,  0.00000000e+00,\n",
              "         0.00000000e+00,  0.00000000e+00],\n",
              "       [ 0.00000000e+00,  0.00000000e+00,  0.00000000e+00,\n",
              "         0.00000000e+00,  0.00000000e+00,  0.00000000e+00,\n",
              "         0.00000000e+00,  0.00000000e+00,  0.00000000e+00,\n",
              "         0.00000000e+00,  0.00000000e+00,  0.00000000e+00,\n",
              "         0.00000000e+00,  0.00000000e+00],\n",
              "       [ 0.00000000e+00,  0.00000000e+00,  0.00000000e+00,\n",
              "         0.00000000e+00,  0.00000000e+00,  0.00000000e+00,\n",
              "         0.00000000e+00,  0.00000000e+00,  0.00000000e+00,\n",
              "         0.00000000e+00,  0.00000000e+00,  0.00000000e+00,\n",
              "         0.00000000e+00,  0.00000000e+00],\n",
              "       [ 0.00000000e+00,  0.00000000e+00,  0.00000000e+00,\n",
              "         0.00000000e+00,  0.00000000e+00,  0.00000000e+00,\n",
              "         0.00000000e+00,  0.00000000e+00,  0.00000000e+00,\n",
              "         0.00000000e+00,  0.00000000e+00,  0.00000000e+00,\n",
              "         0.00000000e+00,  0.00000000e+00],\n",
              "       [ 0.00000000e+00,  0.00000000e+00,  0.00000000e+00,\n",
              "         0.00000000e+00,  0.00000000e+00,  0.00000000e+00,\n",
              "         0.00000000e+00,  0.00000000e+00,  0.00000000e+00,\n",
              "         0.00000000e+00,  0.00000000e+00,  0.00000000e+00,\n",
              "         0.00000000e+00,  0.00000000e+00],\n",
              "       [ 9.29951650e-01, -1.26948138e-04, -1.47208922e-04,\n",
              "        -3.32400123e-04,  9.75239791e-04, -3.14720902e-01,\n",
              "         1.19277145e-15,  1.69665064e-15, -2.28474237e-15,\n",
              "        -1.22323466e-15,  1.61310863e-15, -1.79891776e-15,\n",
              "        -1.53015389e-15, -6.32075155e-16],\n",
              "       [ 9.29951650e-01, -1.26948138e-04, -1.47208922e-04,\n",
              "        -3.32400123e-04,  9.75239791e-04, -3.14720902e-01,\n",
              "         1.19277145e-15,  1.69665064e-15, -2.28474237e-15,\n",
              "        -1.22323466e-15,  1.61310863e-15, -1.79891776e-15,\n",
              "        -1.53015389e-15, -6.32075155e-16],\n",
              "       [-2.28233852e-05, -9.49403760e-04, -4.26626169e-04,\n",
              "        -2.53900719e-03, -3.93010409e-03, -5.09616576e-03,\n",
              "         1.09884389e-01, -3.16096784e-01,  1.75512273e-01,\n",
              "         9.54513543e-02,  1.70075171e-01, -1.93385775e-01,\n",
              "        -5.91222028e-02, -2.63094190e-01],\n",
              "       [ 5.86894411e-06,  1.44458061e-03,  5.91012658e-04,\n",
              "         3.13493452e-03, -1.80044808e-03, -8.12724408e-03,\n",
              "         3.93964464e-02,  1.19161350e-01,  1.84919323e-01,\n",
              "        -3.85851759e-02,  1.66082927e-01, -2.33487252e-01,\n",
              "        -1.94373515e-01,  1.44233311e-01],\n",
              "       [ 5.13478348e-01,  6.46723939e-04,  1.66785960e-03,\n",
              "        -9.58691592e-04, -2.39397714e-03,  2.45840535e-01,\n",
              "        -3.54409161e-15, -2.58618389e-15, -2.00117522e-15,\n",
              "        -1.39646930e-15, -2.01225286e-15, -1.36845400e-15,\n",
              "        -1.00275345e-17, -3.26795360e-16],\n",
              "       [ 6.61881178e-01,  2.06963393e-04, -7.18088823e-04,\n",
              "         1.35339725e-03, -1.36803249e-03,  6.65953423e-01,\n",
              "        -1.91661466e-16, -2.04363836e-15,  1.44778726e-15,\n",
              "         1.49070257e-15, -1.51205416e-15,  1.30407701e-15,\n",
              "         1.70683116e-15,  7.63390138e-16],\n",
              "       [ 6.61881178e-01,  2.06963393e-04, -7.18088823e-04,\n",
              "         1.35339725e-03, -1.36803249e-03,  6.65953423e-01,\n",
              "        -1.91661466e-16, -2.04363836e-15,  1.44778726e-15,\n",
              "         1.49070257e-15, -1.51205416e-15,  1.30407701e-15,\n",
              "         1.70683116e-15,  7.63390138e-16],\n",
              "       [ 2.59421150e-05,  1.35148081e-03, -5.20617271e-03,\n",
              "         1.56857978e-05,  2.67666936e-03, -5.62883100e-03,\n",
              "         1.24202154e-01, -1.31073462e-01, -2.44036911e-01,\n",
              "        -1.97752488e-01, -9.46992835e-02, -2.78555739e-01,\n",
              "        -3.05096954e-02,  1.08838953e-01],\n",
              "       [ 2.06823690e-05,  2.08476907e-03,  4.17529885e-04,\n",
              "        -5.71991395e-03, -4.41390400e-03, -5.95999266e-03,\n",
              "         2.70871264e-02,  1.22038574e-01, -1.47692332e-01,\n",
              "         1.42926772e-01, -1.79375561e-01,  1.03553854e-01,\n",
              "        -1.09797048e-01, -7.48611391e-02],\n",
              "       [ 1.10328000e-05,  1.48703970e-03,  2.20472656e-03,\n",
              "         2.86142322e-03,  3.58567200e-03,  1.11118943e-02,\n",
              "         3.36992062e-01, -4.30585892e-02, -2.51860480e-01,\n",
              "         3.76972182e-01, -2.28577445e-02, -2.72047904e-01,\n",
              "         3.20260968e-01,  2.79330577e-02],\n",
              "       [-1.61491077e-06,  8.04669145e-04, -1.45832200e-03,\n",
              "        -9.76903866e-04,  5.02186859e-03,  1.97388260e-02,\n",
              "         1.81043971e-01,  1.43966220e-01, -1.67448754e-01,\n",
              "        -2.83187162e-01, -1.10156232e-01,  3.76652879e-01,\n",
              "        -2.27015777e-01, -2.53560532e-01],\n",
              "       [ 4.12620292e-01, -1.14657955e-05, -1.38602375e-03,\n",
              "         3.58778132e-04,  2.96741339e-03, -6.24686912e-01,\n",
              "        -3.78058917e-15, -6.71013738e-15,  7.59345476e-15,\n",
              "         5.06377012e-15, -5.29829719e-15,  5.73945343e-15,\n",
              "         5.09526975e-15,  1.70656761e-15],\n",
              "       [ 9.29951650e-01, -1.26948138e-04, -1.47208922e-04,\n",
              "        -3.32400123e-04,  9.75239791e-04, -3.14720902e-01,\n",
              "         1.19277145e-15,  1.69665064e-15, -2.28474237e-15,\n",
              "        -1.22323466e-15,  1.61310863e-15, -1.79891776e-15,\n",
              "        -1.53015389e-15, -6.32075155e-16],\n",
              "       [-1.76187067e-05, -3.27581228e-01, -1.35135748e-01,\n",
              "         4.81223254e-01,  3.79521384e-01, -1.32619750e-02,\n",
              "        -1.00392447e-02,  1.49335393e-01, -7.29514135e-02,\n",
              "        -2.55368312e-01, -1.52193119e-01,  6.32831374e-02,\n",
              "         2.20986911e-01,  1.55076484e-01],\n",
              "       [ 0.00000000e+00,  0.00000000e+00,  0.00000000e+00,\n",
              "         0.00000000e+00,  0.00000000e+00,  0.00000000e+00,\n",
              "         0.00000000e+00,  0.00000000e+00,  0.00000000e+00,\n",
              "         0.00000000e+00,  0.00000000e+00,  0.00000000e+00,\n",
              "         0.00000000e+00,  0.00000000e+00],\n",
              "       [ 2.19689380e-08, -4.63126698e-01, -1.92230231e-01,\n",
              "         6.76595833e-01,  5.39079609e-01,  1.23405669e-03,\n",
              "        -2.46125503e-16, -7.50894717e-17,  5.95006107e-17,\n",
              "        -1.93314015e-16,  3.31733606e-18, -4.86438188e-17,\n",
              "        -4.22311775e-16, -2.50670031e-16],\n",
              "       [ 1.21449408e-05,  3.50298177e-04, -1.29583797e-03,\n",
              "        -3.10503392e-03,  2.53072520e-03,  1.19401019e-02,\n",
              "        -2.68743270e-01,  6.07108873e-02, -2.87159058e-02,\n",
              "         2.92546512e-01, -4.75415270e-02,  4.86180778e-02,\n",
              "         4.54546811e-01,  4.02336873e-02],\n",
              "       [ 5.70298461e-06,  1.32386975e-03,  1.30688626e-03,\n",
              "         1.25662436e-03, -1.21058340e-04, -5.23143202e-03,\n",
              "        -9.30223182e-02, -1.91565148e-01, -3.48667712e-01,\n",
              "        -5.04930287e-02,  4.16035996e-01,  1.02843058e-01,\n",
              "        -1.17721110e-01,  2.33171277e-01],\n",
              "       [-1.16292891e-05, -2.86794159e-04,  1.65004781e-03,\n",
              "        -2.78044890e-03,  7.77001025e-04, -8.80856307e-03,\n",
              "         4.46606533e-01,  2.71226578e-01,  9.95274191e-02,\n",
              "         2.06160964e-01, -1.76659237e-02, -1.17103874e-02,\n",
              "         5.95316603e-02,  9.34244754e-02],\n",
              "       [-8.14556453e-06, -1.11228708e-03,  2.95660550e-03,\n",
              "        -1.93033232e-03,  4.21041495e-03,  1.59629426e-02,\n",
              "         2.32572490e-01, -3.25586516e-01, -8.73181932e-02,\n",
              "        -1.66347535e-01, -8.90711084e-02,  1.65807014e-01,\n",
              "         7.71857716e-02,  4.31844196e-01],\n",
              "       [ 9.93243931e-06,  8.91653474e-04,  1.32000751e-03,\n",
              "        -5.87666570e-04, -3.20112563e-03, -1.10853748e-02,\n",
              "         2.48496533e-01,  1.17032859e-01,  5.66660130e-02,\n",
              "        -1.06641871e-01,  4.00728275e-01,  3.18501457e-01,\n",
              "         1.49314578e-01, -3.29487963e-02]])"
            ]
          },
          "execution_count": 22,
          "metadata": {},
          "output_type": "execute_result"
        }
      ],
      "source": [
        "reduced_data"
      ]
    },
    {
      "cell_type": "code",
      "execution_count": null,
      "metadata": {},
      "outputs": [
        {
          "data": {
            "text/plain": [
              "array([0.08832576, 0.1360343 , 0.18528861, 0.23146393, 0.27706151,\n",
              "       0.31888824, 0.34199705, 0.36661534, 0.39120135, 0.41563162,\n",
              "       0.43994783, 0.46429869, 0.48889951, 0.51293983])"
            ]
          },
          "execution_count": 23,
          "metadata": {},
          "output_type": "execute_result"
        }
      ],
      "source": [
        "svd.explained_variance_ratio_.cumsum()"
      ]
    },
    {
      "cell_type": "code",
      "execution_count": null,
      "metadata": {},
      "outputs": [],
      "source": [
        "from sklearn.metrics.pairwise import cosine_similarity"
      ]
    },
    {
      "cell_type": "code",
      "execution_count": null,
      "metadata": {},
      "outputs": [],
      "source": [
        "similarity = cosine_similarity(reduced_data)"
      ]
    },
    {
      "cell_type": "code",
      "execution_count": null,
      "metadata": {},
      "outputs": [
        {
          "data": {
            "text/plain": [
              "array([[ 1.00000000e+00,  7.65866526e-05,  7.65866526e-05, ...,\n",
              "        -4.43359820e-03, -6.16509657e-03,  1.20106167e-03],\n",
              "       [ 7.65866526e-05,  1.00000000e+00,  1.00000000e+00, ...,\n",
              "         1.55902513e-03,  3.70725187e-03, -3.57124105e-03],\n",
              "       [ 7.65866526e-05,  1.00000000e+00,  1.00000000e+00, ...,\n",
              "         1.55902513e-03,  3.70725187e-03, -3.57124105e-03],\n",
              "       ...,\n",
              "       [-4.43359820e-03,  1.55902513e-03,  1.55902513e-03, ...,\n",
              "         1.00000000e+00,  4.49687760e-02,  3.40828638e-01],\n",
              "       [-6.16509657e-03,  3.70725187e-03,  3.70725187e-03, ...,\n",
              "         4.49687760e-02,  1.00000000e+00,  1.17106769e-01],\n",
              "       [ 1.20106167e-03, -3.57124105e-03, -3.57124105e-03, ...,\n",
              "         3.40828638e-01,  1.17106769e-01,  1.00000000e+00]])"
            ]
          },
          "execution_count": 26,
          "metadata": {},
          "output_type": "execute_result"
        }
      ],
      "source": [
        "similarity"
      ]
    },
    {
      "cell_type": "code",
      "execution_count": null,
      "metadata": {},
      "outputs": [
        {
          "data": {
            "text/plain": [
              "array([[ 9.99891537e-01,  7.65750909e-05,  7.65750909e-05, ...,\n",
              "        -2.57836785e-03, -4.01207841e-03,  7.36019388e-04],\n",
              "       [ 7.65750909e-05,  9.99806542e-01,  9.99806542e-01, ...,\n",
              "         9.06615626e-04,  2.41247689e-03, -2.18838966e-03],\n",
              "       [ 7.65750909e-05,  9.99806542e-01,  9.99806542e-01, ...,\n",
              "         9.06615626e-04,  2.41247689e-03, -2.18838966e-03],\n",
              "       ...,\n",
              "       [-2.57836785e-03,  9.06615626e-04,  9.06615626e-04, ...,\n",
              "         3.38239401e-01,  1.70206541e-02,  1.21477453e-01],\n",
              "       [-4.01207841e-03,  2.41247689e-03,  2.41247689e-03, ...,\n",
              "         1.70206541e-02,  4.23551441e-01,  4.67070653e-02],\n",
              "       [ 7.36019388e-04, -2.18838966e-03, -2.18838966e-03, ...,\n",
              "         1.21477453e-01,  4.67070653e-02,  3.75573552e-01]])"
            ]
          },
          "execution_count": 27,
          "metadata": {},
          "output_type": "execute_result"
        }
      ],
      "source": [
        "from sklearn.metrics.pairwise import linear_kernel\n",
        "\n",
        "cosine_sim = linear_kernel(reduced_data, reduced_data)\n",
        "\n",
        "cosine_sim"
      ]
    },
    {
      "cell_type": "code",
      "execution_count": null,
      "metadata": {},
      "outputs": [],
      "source": [
        "indices = pd.Series(df_final.index, index=df_final['name']).drop_duplicates()"
      ]
    },
    {
      "cell_type": "code",
      "execution_count": null,
      "metadata": {},
      "outputs": [],
      "source": [
        "def get_recommendations(name, cosine_sim=cosine_sim):\n",
        "    idx = indices[name]\n",
        "\n",
        "    sim_scores = list(enumerate(cosine_sim[idx]))\n",
        "\n",
        "    sim_scores = sorted(sim_scores, key=lambda x: x[1], reverse=True)\n",
        "\n",
        "    sim_scores = sim_scores[1:20]\n",
        "\n",
        "    project_indices = [i[0] for i in sim_scores]\n",
        "\n",
        "    recommended_project_ids = df_final['id'].iloc[project_indices].tolist()\n",
        "    result_dict = {}\n",
        "    for i, project_id in enumerate(recommended_project_ids):\n",
        "        result_dict[i + 1] = project_id\n",
        "\n",
        "    return result_dict"
      ]
    },
    {
      "cell_type": "code",
      "execution_count": null,
      "metadata": {},
      "outputs": [
        {
          "data": {
            "text/plain": [
              "{1: 3,\n",
              " 2: 55,\n",
              " 3: 52,\n",
              " 4: 65,\n",
              " 5: 36,\n",
              " 6: 20,\n",
              " 7: 21,\n",
              " 8: 68,\n",
              " 9: 33,\n",
              " 10: 54,\n",
              " 11: 24,\n",
              " 12: 56,\n",
              " 13: 67,\n",
              " 14: 27,\n",
              " 15: 7,\n",
              " 16: 50,\n",
              " 17: 51,\n",
              " 18: 43,\n",
              " 19: 44}"
            ]
          },
          "execution_count": 30,
          "metadata": {},
          "output_type": "execute_result"
        }
      ],
      "source": [
        "get_recommendations(\"dog\")"
      ]
    },
    {
      "cell_type": "markdown",
      "metadata": {},
      "source": [
        "Hora de enviar los resultados de la similitud de cosenos entre vectores a la base de datos"
      ]
    },
    {
      "cell_type": "code",
      "execution_count": null,
      "metadata": {},
      "outputs": [
        {
          "name": "stdout",
          "output_type": "stream",
          "text": [
            "Requirement already satisfied: flask in c:\\users\\47295973\\appdata\\local\\programs\\python\\python311\\lib\\site-packages (3.0.0)\n",
            "Requirement already satisfied: Werkzeug>=3.0.0 in c:\\users\\47295973\\appdata\\local\\programs\\python\\python311\\lib\\site-packages (from flask) (3.0.1)\n",
            "Requirement already satisfied: Jinja2>=3.1.2 in c:\\users\\47295973\\appdata\\local\\programs\\python\\python311\\lib\\site-packages (from flask) (3.1.2)\n",
            "Requirement already satisfied: itsdangerous>=2.1.2 in c:\\users\\47295973\\appdata\\local\\programs\\python\\python311\\lib\\site-packages (from flask) (2.1.2)\n",
            "Requirement already satisfied: click>=8.1.3 in c:\\users\\47295973\\appdata\\local\\programs\\python\\python311\\lib\\site-packages (from flask) (8.1.7)\n",
            "Requirement already satisfied: blinker>=1.6.2 in c:\\users\\47295973\\appdata\\local\\programs\\python\\python311\\lib\\site-packages (from flask) (1.7.0)\n",
            "Requirement already satisfied: colorama in c:\\users\\47295973\\appdata\\local\\programs\\python\\python311\\lib\\site-packages (from click>=8.1.3->flask) (0.4.6)\n",
            "Requirement already satisfied: MarkupSafe>=2.0 in c:\\users\\47295973\\appdata\\local\\programs\\python\\python311\\lib\\site-packages (from Jinja2>=3.1.2->flask) (2.1.3)\n",
            "Note: you may need to restart the kernel to use updated packages.\n"
          ]
        },
        {
          "name": "stderr",
          "output_type": "stream",
          "text": [
            "\n",
            "[notice] A new release of pip available: 22.3.1 -> 23.3.1\n",
            "[notice] To update, run: python.exe -m pip install --upgrade pip\n"
          ]
        }
      ],
      "source": [
        "%pip install flask"
      ]
    },
    {
      "cell_type": "code",
      "execution_count": null,
      "metadata": {},
      "outputs": [
        {
          "name": "stdout",
          "output_type": "stream",
          "text": [
            "Requirement already satisfied: python-dotenv in c:\\users\\47295973\\appdata\\local\\programs\\python\\python311\\lib\\site-packages (1.0.0)\n",
            "Note: you may need to restart the kernel to use updated packages.\n"
          ]
        },
        {
          "name": "stderr",
          "output_type": "stream",
          "text": [
            "\n",
            "[notice] A new release of pip available: 22.3.1 -> 23.3.1\n",
            "[notice] To update, run: python.exe -m pip install --upgrade pip\n"
          ]
        }
      ],
      "source": [
        "%pip install python-dotenv"
      ]
    },
    {
      "cell_type": "code",
      "execution_count": null,
      "metadata": {},
      "outputs": [
        {
          "name": "stderr",
          "output_type": "stream",
          "text": [
            "Python-dotenv could not parse statement starting at line 1\n",
            "Python-dotenv could not parse statement starting at line 2\n",
            "Python-dotenv could not parse statement starting at line 4\n",
            "Python-dotenv could not parse statement starting at line 6\n"
          ]
        },
        {
          "name": "stdout",
          "output_type": "stream",
          "text": [
            " * Serving Flask app '__main__'\n",
            " * Debug mode: on\n"
          ]
        },
        {
          "name": "stderr",
          "output_type": "stream",
          "text": [
            "WARNING: This is a development server. Do not use it in a production deployment. Use a production WSGI server instead.\n",
            " * Running on http://127.0.0.1:5000\n",
            "Press CTRL+C to quit\n",
            " * Restarting with stat\n"
          ]
        },
        {
          "ename": "SystemExit",
          "evalue": "1",
          "output_type": "error",
          "traceback": [
            "An exception has occurred, use %tb to see the full traceback.\n",
            "\u001b[1;31mSystemExit\u001b[0m\u001b[1;31m:\u001b[0m 1\n"
          ]
        },
        {
          "name": "stderr",
          "output_type": "stream",
          "text": [
            "C:\\Users\\47295973\\AppData\\Roaming\\Python\\Python311\\site-packages\\IPython\\core\\interactiveshell.py:3556: UserWarning: To exit: use 'exit', 'quit', or Ctrl-D.\n",
            "  warn(\"To exit: use 'exit', 'quit', or Ctrl-D.\", stacklevel=1)\n"
          ]
        }
      ],
      "source": [
        "from flask import Flask, jsonify\n",
        "\n",
        "app = Flask(__name__)\n",
        "\n",
        "@app.route('/http://localhost:3000/recommendations/recommend', methods=['POST'])\n",
        "def obtener_resultados():\n",
        "    resultados = get_recommendations(\"dog\")\n",
        "\n",
        "    resultados_json = jsonify(resultados)\n",
        "\n",
        "    return resultados_json\n",
        "\n",
        "if __name__ == '__main__':\n",
        "    app.run(debug=True)"
      ]
    },
    {
      "cell_type": "code",
      "execution_count": null,
      "metadata": {},
      "outputs": [],
      "source": []
    }
  ],
  "metadata": {
    "colab": {
      "provenance": []
    },
    "kernelspec": {
      "display_name": "Python 3.6.5 64-bit",
      "language": "python",
      "name": "python3"
    },
    "language_info": {
      "codemirror_mode": {
        "name": "ipython",
        "version": 3
      },
      "file_extension": ".py",
      "mimetype": "text/x-python",
      "name": "python",
      "nbconvert_exporter": "python",
      "pygments_lexer": "ipython3",
      "version": "3.11.3"
    },
    "vscode": {
      "interpreter": {
        "hash": "f4e9cda46bb2d9d7fe6ecdff0f8336a934348bf06cb492f2f42f60739b3403b4"
      }
    }
  },
  "nbformat": 4,
  "nbformat_minor": 0
}
