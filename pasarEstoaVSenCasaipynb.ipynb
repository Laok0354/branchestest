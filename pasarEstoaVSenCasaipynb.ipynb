{
  "cells": [
    {
      "cell_type": "code",
      "execution_count": 36,
      "metadata": {},
      "outputs": [
        {
          "name": "stdout",
          "output_type": "stream",
          "text": [
            "Requirement already satisfied: pandas in c:\\users\\47295973\\appdata\\local\\programs\\python\\python311\\lib\\site-packages (2.1.3)\n",
            "Requirement already satisfied: numpy<2,>=1.23.2 in c:\\users\\47295973\\appdata\\local\\programs\\python\\python311\\lib\\site-packages (from pandas) (1.24.3)\n",
            "Requirement already satisfied: python-dateutil>=2.8.2 in c:\\users\\47295973\\appdata\\roaming\\python\\python311\\site-packages (from pandas) (2.8.2)\n",
            "Requirement already satisfied: pytz>=2020.1 in c:\\users\\47295973\\appdata\\local\\programs\\python\\python311\\lib\\site-packages (from pandas) (2023.3.post1)\n",
            "Requirement already satisfied: tzdata>=2022.1 in c:\\users\\47295973\\appdata\\local\\programs\\python\\python311\\lib\\site-packages (from pandas) (2023.3)\n",
            "Requirement already satisfied: six>=1.5 in c:\\users\\47295973\\appdata\\roaming\\python\\python311\\site-packages (from python-dateutil>=2.8.2->pandas) (1.16.0)\n",
            "Note: you may need to restart the kernel to use updated packages.\n"
          ]
        },
        {
          "name": "stderr",
          "output_type": "stream",
          "text": [
            "\n",
            "[notice] A new release of pip available: 22.3.1 -> 23.3.1\n",
            "[notice] To update, run: python.exe -m pip install --upgrade pip\n"
          ]
        },
        {
          "name": "stdout",
          "output_type": "stream",
          "text": [
            "Requirement already satisfied: requests in c:\\users\\47295973\\appdata\\local\\programs\\python\\python311\\lib\\site-packages (2.31.0)\n",
            "Requirement already satisfied: charset-normalizer<4,>=2 in c:\\users\\47295973\\appdata\\local\\programs\\python\\python311\\lib\\site-packages (from requests) (3.1.0)\n",
            "Requirement already satisfied: idna<4,>=2.5 in c:\\users\\47295973\\appdata\\local\\programs\\python\\python311\\lib\\site-packages (from requests) (3.4)\n",
            "Requirement already satisfied: urllib3<3,>=1.21.1 in c:\\users\\47295973\\appdata\\local\\programs\\python\\python311\\lib\\site-packages (from requests) (2.0.3)\n",
            "Requirement already satisfied: certifi>=2017.4.17 in c:\\users\\47295973\\appdata\\local\\programs\\python\\python311\\lib\\site-packages (from requests) (2023.5.7)\n",
            "Note: you may need to restart the kernel to use updated packages.\n"
          ]
        },
        {
          "name": "stderr",
          "output_type": "stream",
          "text": [
            "\n",
            "[notice] A new release of pip available: 22.3.1 -> 23.3.1\n",
            "[notice] To update, run: python.exe -m pip install --upgrade pip\n"
          ]
        },
        {
          "name": "stdout",
          "output_type": "stream",
          "text": [
            "Requirement already satisfied: numpy in c:\\users\\47295973\\appdata\\local\\programs\\python\\python311\\lib\\site-packages (1.24.3)\n",
            "Note: you may need to restart the kernel to use updated packages.\n"
          ]
        },
        {
          "name": "stderr",
          "output_type": "stream",
          "text": [
            "\n",
            "[notice] A new release of pip available: 22.3.1 -> 23.3.1\n",
            "[notice] To update, run: python.exe -m pip install --upgrade pip\n"
          ]
        },
        {
          "name": "stdout",
          "output_type": "stream",
          "text": [
            "Requirement already satisfied: tensorflow in c:\\users\\47295973\\appdata\\local\\programs\\python\\python311\\lib\\site-packages (2.15.0)\n",
            "Requirement already satisfied: tensorflow-intel==2.15.0 in c:\\users\\47295973\\appdata\\local\\programs\\python\\python311\\lib\\site-packages (from tensorflow) (2.15.0)\n",
            "Requirement already satisfied: absl-py>=1.0.0 in c:\\users\\47295973\\appdata\\local\\programs\\python\\python311\\lib\\site-packages (from tensorflow-intel==2.15.0->tensorflow) (2.0.0)\n",
            "Requirement already satisfied: astunparse>=1.6.0 in c:\\users\\47295973\\appdata\\local\\programs\\python\\python311\\lib\\site-packages (from tensorflow-intel==2.15.0->tensorflow) (1.6.3)\n",
            "Requirement already satisfied: flatbuffers>=23.5.26 in c:\\users\\47295973\\appdata\\local\\programs\\python\\python311\\lib\\site-packages (from tensorflow-intel==2.15.0->tensorflow) (23.5.26)\n",
            "Requirement already satisfied: gast!=0.5.0,!=0.5.1,!=0.5.2,>=0.2.1 in c:\\users\\47295973\\appdata\\local\\programs\\python\\python311\\lib\\site-packages (from tensorflow-intel==2.15.0->tensorflow) (0.5.4)\n",
            "Requirement already satisfied: google-pasta>=0.1.1 in c:\\users\\47295973\\appdata\\local\\programs\\python\\python311\\lib\\site-packages (from tensorflow-intel==2.15.0->tensorflow) (0.2.0)\n",
            "Requirement already satisfied: h5py>=2.9.0 in c:\\users\\47295973\\appdata\\local\\programs\\python\\python311\\lib\\site-packages (from tensorflow-intel==2.15.0->tensorflow) (3.10.0)\n",
            "Requirement already satisfied: libclang>=13.0.0 in c:\\users\\47295973\\appdata\\local\\programs\\python\\python311\\lib\\site-packages (from tensorflow-intel==2.15.0->tensorflow) (16.0.6)\n",
            "Requirement already satisfied: ml-dtypes~=0.2.0 in c:\\users\\47295973\\appdata\\local\\programs\\python\\python311\\lib\\site-packages (from tensorflow-intel==2.15.0->tensorflow) (0.2.0)\n",
            "Requirement already satisfied: numpy<2.0.0,>=1.23.5 in c:\\users\\47295973\\appdata\\local\\programs\\python\\python311\\lib\\site-packages (from tensorflow-intel==2.15.0->tensorflow) (1.24.3)\n",
            "Requirement already satisfied: opt-einsum>=2.3.2 in c:\\users\\47295973\\appdata\\local\\programs\\python\\python311\\lib\\site-packages (from tensorflow-intel==2.15.0->tensorflow) (3.3.0)\n",
            "Requirement already satisfied: packaging in c:\\users\\47295973\\appdata\\roaming\\python\\python311\\site-packages (from tensorflow-intel==2.15.0->tensorflow) (23.2)\n",
            "Requirement already satisfied: protobuf!=4.21.0,!=4.21.1,!=4.21.2,!=4.21.3,!=4.21.4,!=4.21.5,<5.0.0dev,>=3.20.3 in c:\\users\\47295973\\appdata\\local\\programs\\python\\python311\\lib\\site-packages (from tensorflow-intel==2.15.0->tensorflow) (4.23.4)\n",
            "Requirement already satisfied: setuptools in c:\\users\\47295973\\appdata\\local\\programs\\python\\python311\\lib\\site-packages (from tensorflow-intel==2.15.0->tensorflow) (65.5.0)\n",
            "Requirement already satisfied: six>=1.12.0 in c:\\users\\47295973\\appdata\\roaming\\python\\python311\\site-packages (from tensorflow-intel==2.15.0->tensorflow) (1.16.0)\n",
            "Requirement already satisfied: termcolor>=1.1.0 in c:\\users\\47295973\\appdata\\local\\programs\\python\\python311\\lib\\site-packages (from tensorflow-intel==2.15.0->tensorflow) (2.3.0)\n",
            "Requirement already satisfied: typing-extensions>=3.6.6 in c:\\users\\47295973\\appdata\\local\\programs\\python\\python311\\lib\\site-packages (from tensorflow-intel==2.15.0->tensorflow) (4.6.3)\n",
            "Requirement already satisfied: wrapt<1.15,>=1.11.0 in c:\\users\\47295973\\appdata\\local\\programs\\python\\python311\\lib\\site-packages (from tensorflow-intel==2.15.0->tensorflow) (1.14.1)\n",
            "Requirement already satisfied: tensorflow-io-gcs-filesystem>=0.23.1 in c:\\users\\47295973\\appdata\\local\\programs\\python\\python311\\lib\\site-packages (from tensorflow-intel==2.15.0->tensorflow) (0.31.0)\n",
            "Requirement already satisfied: grpcio<2.0,>=1.24.3 in c:\\users\\47295973\\appdata\\local\\programs\\python\\python311\\lib\\site-packages (from tensorflow-intel==2.15.0->tensorflow) (1.59.3)\n",
            "Requirement already satisfied: tensorboard<2.16,>=2.15 in c:\\users\\47295973\\appdata\\local\\programs\\python\\python311\\lib\\site-packages (from tensorflow-intel==2.15.0->tensorflow) (2.15.1)\n",
            "Requirement already satisfied: tensorflow-estimator<2.16,>=2.15.0 in c:\\users\\47295973\\appdata\\local\\programs\\python\\python311\\lib\\site-packages (from tensorflow-intel==2.15.0->tensorflow) (2.15.0)\n",
            "Requirement already satisfied: keras<2.16,>=2.15.0 in c:\\users\\47295973\\appdata\\local\\programs\\python\\python311\\lib\\site-packages (from tensorflow-intel==2.15.0->tensorflow) (2.15.0)\n",
            "Requirement already satisfied: wheel<1.0,>=0.23.0 in c:\\users\\47295973\\appdata\\local\\programs\\python\\python311\\lib\\site-packages (from astunparse>=1.6.0->tensorflow-intel==2.15.0->tensorflow) (0.41.3)\n",
            "Requirement already satisfied: google-auth<3,>=1.6.3 in c:\\users\\47295973\\appdata\\local\\programs\\python\\python311\\lib\\site-packages (from tensorboard<2.16,>=2.15->tensorflow-intel==2.15.0->tensorflow) (2.23.4)\n",
            "Requirement already satisfied: google-auth-oauthlib<2,>=0.5 in c:\\users\\47295973\\appdata\\local\\programs\\python\\python311\\lib\\site-packages (from tensorboard<2.16,>=2.15->tensorflow-intel==2.15.0->tensorflow) (1.1.0)\n",
            "Requirement already satisfied: markdown>=2.6.8 in c:\\users\\47295973\\appdata\\local\\programs\\python\\python311\\lib\\site-packages (from tensorboard<2.16,>=2.15->tensorflow-intel==2.15.0->tensorflow) (3.5.1)\n",
            "Requirement already satisfied: requests<3,>=2.21.0 in c:\\users\\47295973\\appdata\\local\\programs\\python\\python311\\lib\\site-packages (from tensorboard<2.16,>=2.15->tensorflow-intel==2.15.0->tensorflow) (2.31.0)\n",
            "Requirement already satisfied: tensorboard-data-server<0.8.0,>=0.7.0 in c:\\users\\47295973\\appdata\\local\\programs\\python\\python311\\lib\\site-packages (from tensorboard<2.16,>=2.15->tensorflow-intel==2.15.0->tensorflow) (0.7.2)\n",
            "Requirement already satisfied: werkzeug>=1.0.1 in c:\\users\\47295973\\appdata\\local\\programs\\python\\python311\\lib\\site-packages (from tensorboard<2.16,>=2.15->tensorflow-intel==2.15.0->tensorflow) (3.0.1)\n",
            "Requirement already satisfied: cachetools<6.0,>=2.0.0 in c:\\users\\47295973\\appdata\\local\\programs\\python\\python311\\lib\\site-packages (from google-auth<3,>=1.6.3->tensorboard<2.16,>=2.15->tensorflow-intel==2.15.0->tensorflow) (5.3.2)\n",
            "Requirement already satisfied: pyasn1-modules>=0.2.1 in c:\\users\\47295973\\appdata\\local\\programs\\python\\python311\\lib\\site-packages (from google-auth<3,>=1.6.3->tensorboard<2.16,>=2.15->tensorflow-intel==2.15.0->tensorflow) (0.3.0)\n",
            "Requirement already satisfied: rsa<5,>=3.1.4 in c:\\users\\47295973\\appdata\\local\\programs\\python\\python311\\lib\\site-packages (from google-auth<3,>=1.6.3->tensorboard<2.16,>=2.15->tensorflow-intel==2.15.0->tensorflow) (4.9)\n",
            "Requirement already satisfied: requests-oauthlib>=0.7.0 in c:\\users\\47295973\\appdata\\local\\programs\\python\\python311\\lib\\site-packages (from google-auth-oauthlib<2,>=0.5->tensorboard<2.16,>=2.15->tensorflow-intel==2.15.0->tensorflow) (1.3.1)\n",
            "Requirement already satisfied: charset-normalizer<4,>=2 in c:\\users\\47295973\\appdata\\local\\programs\\python\\python311\\lib\\site-packages (from requests<3,>=2.21.0->tensorboard<2.16,>=2.15->tensorflow-intel==2.15.0->tensorflow) (3.1.0)\n",
            "Requirement already satisfied: idna<4,>=2.5 in c:\\users\\47295973\\appdata\\local\\programs\\python\\python311\\lib\\site-packages (from requests<3,>=2.21.0->tensorboard<2.16,>=2.15->tensorflow-intel==2.15.0->tensorflow) (3.4)\n",
            "Requirement already satisfied: urllib3<3,>=1.21.1 in c:\\users\\47295973\\appdata\\local\\programs\\python\\python311\\lib\\site-packages (from requests<3,>=2.21.0->tensorboard<2.16,>=2.15->tensorflow-intel==2.15.0->tensorflow) (2.0.3)\n",
            "Requirement already satisfied: certifi>=2017.4.17 in c:\\users\\47295973\\appdata\\local\\programs\\python\\python311\\lib\\site-packages (from requests<3,>=2.21.0->tensorboard<2.16,>=2.15->tensorflow-intel==2.15.0->tensorflow) (2023.5.7)\n",
            "Requirement already satisfied: MarkupSafe>=2.1.1 in c:\\users\\47295973\\appdata\\local\\programs\\python\\python311\\lib\\site-packages (from werkzeug>=1.0.1->tensorboard<2.16,>=2.15->tensorflow-intel==2.15.0->tensorflow) (2.1.3)\n",
            "Requirement already satisfied: pyasn1<0.6.0,>=0.4.6 in c:\\users\\47295973\\appdata\\local\\programs\\python\\python311\\lib\\site-packages (from pyasn1-modules>=0.2.1->google-auth<3,>=1.6.3->tensorboard<2.16,>=2.15->tensorflow-intel==2.15.0->tensorflow) (0.5.1)\n",
            "Requirement already satisfied: oauthlib>=3.0.0 in c:\\users\\47295973\\appdata\\local\\programs\\python\\python311\\lib\\site-packages (from requests-oauthlib>=0.7.0->google-auth-oauthlib<2,>=0.5->tensorboard<2.16,>=2.15->tensorflow-intel==2.15.0->tensorflow) (3.2.2)\n",
            "Note: you may need to restart the kernel to use updated packages.\n"
          ]
        },
        {
          "name": "stderr",
          "output_type": "stream",
          "text": [
            "\n",
            "[notice] A new release of pip available: 22.3.1 -> 23.3.1\n",
            "[notice] To update, run: python.exe -m pip install --upgrade pip\n"
          ]
        }
      ],
      "source": [
        "%pip install pandas\n",
        "%pip install requests\n",
        "%pip install numpy\n",
        "%pip install tensorflow"
      ]
    },
    {
      "cell_type": "code",
      "execution_count": 37,
      "metadata": {},
      "outputs": [],
      "source": [
        "import pandas as pd\n",
        "import requests\n",
        "import numpy as np\n",
        "import tensorflow as tf\n",
        "from tensorflow import keras"
      ]
    },
    {
      "cell_type": "code",
      "execution_count": 38,
      "metadata": {
        "colab": {
          "base_uri": "https://localhost:8080/",
          "height": 686
        },
        "id": "Z412hWtbIW4z",
        "outputId": "e049673b-0e66-48ac-c328-c6a3691a1caf"
      },
      "outputs": [
        {
          "name": "stdout",
          "output_type": "stream",
          "text": [
            "dog aaaa holaaa siii siii dog dog dog cat wow dog dog a ab a aB ab abc abc poll abc a a a a a a a a a a a a a a a a a a a a a a a a a a a a a a a a a a a a a a a a a a a abc abc abc abc abc abc abc abc abc abc abc abc abc abc abc abc abc abc abc abc a a a a a a a a a a a a abc a abc a abc abc abc abc abc abc abc abc abc abc abc abc abc abc abc abc abc abc abc abc abc abc abc abc abc abc abc a abc abc ab abc abc abc abc abc abc abc abc abc abc abc abc abc abc abc abc abc abc abc abc abc a a a a a a a a a a a a a a a a a a a a a a a a a a a a a a a a a a a a a a a a a a a a a a a a a a a a a a a a a a a a a a a a a a a a a a a a a a a a a a a a a a a a a a a a a a a a a a a a a a a a a a a a a a a a a a a a a a a a a a a a a a a a a a a a a a a a a a a a a a a a a a a a a a a a a a a a a a a a a a a a a a a a a a a a a a a a a a a a a a a a a a a a a a a a a a a a a a a a a a a a a a a a abc abc abc abc abc abc abc abc abc abc abc abc abc abc abc abc abc abc abc abc abc abc abc abc abc abc abc abc abc abc abc abc abc abc abc abc abc abc abc abc abc abc abc abc abc abc abc abc abc abc abc abc abc abc abc abc abc abc abc abc abc abc abc abc abc abc abc abc abc abc abc abc abc abc abc abc abc abc abc abc abc abc abc abc abc abc abc abc abc abc abc abc abc abc abc abc abc abc abc abc abc abc abc abc abc abc abc abc abc abc abc abc abc abc abc abc abc abc abc abc abc abc abc abc abc abc abc abc abc abc abc abc abc abc abc abc abc abc abc abc abc abc abc abc abc abc abc abc abc abc abc abc abc abc abc abc abc abc abc abc abc abc abc abc abc abc abc abc abc abc abc abc abc abc abc abc abc abc abc abc abc abc abc abc abc abc a ab abc ab ab abc abc a a abc ab abc abc ab abc ab abc ab a b red cat abc abc aa ab a ab a wow \n",
            "dog cat dog cat cat doggf cat cat cat cat cat cat cat cat uuuuuu cat cat cat cat cat cat cat ggg ggg\n",
            "[{'id': 1, 'name': 'cat', 'description': 'blue', 'creatorId': 2, 'createdAt': '2023-10-30T13:39:26.619Z', 'updatedAt': '2023-10-30T13:39:26.619Z'}, {'id': 2, 'name': 'dog', 'description': 'red', 'creatorId': 2, 'createdAt': '2023-10-30T13:39:46.698Z', 'updatedAt': '2023-10-30T13:39:46.698Z'}, {'id': 3, 'name': 'doggf', 'description': 'red', 'creatorId': 56, 'createdAt': '2023-11-01T21:16:53.796Z', 'updatedAt': '2023-11-03T01:05:23.711Z'}, {'id': 4, 'name': 'catff', 'description': 'blue', 'creatorId': 56, 'createdAt': '2023-11-01T21:17:02.209Z', 'updatedAt': '2023-11-03T01:06:51.653Z'}, {'id': 5, 'name': 'lemur', 'description': 'grey', 'creatorId': 56, 'createdAt': '2023-11-01T21:17:15.554Z', 'updatedAt': '2023-11-01T21:17:15.554Z'}, {'id': 6, 'name': 'ppo', 'description': 'ppo', 'creatorId': 56, 'createdAt': '2023-11-01T22:23:22.617Z', 'updatedAt': '2023-11-01T22:23:22.617Z'}, {'id': 7, 'name': 'ddd', 'description': 'ddd', 'creatorId': 56, 'createdAt': '2023-11-02T00:15:59.937Z', 'updatedAt': '2023-11-02T00:15:59.937Z'}, {'id': 8, 'name': 'sssss', 'description': 'sss', 'creatorId': 56, 'createdAt': '2023-11-02T00:16:07.463Z', 'updatedAt': '2023-11-03T01:05:23.711Z'}, {'id': 9, 'name': 'sss', 'description': 'sss', 'creatorId': 56, 'createdAt': '2023-11-02T00:16:12.692Z', 'updatedAt': '2023-11-02T00:16:12.692Z'}, {'id': 10, 'name': 'ggg', 'description': 'ggg', 'creatorId': 56, 'createdAt': '2023-11-02T00:16:20.825Z', 'updatedAt': '2023-11-02T00:16:20.825Z'}, {'id': 15, 'name': 'modified bruuhhh', 'description': 'modified testinggg', 'creatorId': 56, 'createdAt': '2023-11-07T17:11:23.205Z', 'updatedAt': '2023-11-08T12:01:22.303Z'}, {'id': 17, 'name': 's', 'description': 's', 'creatorId': 56, 'createdAt': '2023-11-07T17:30:10.962Z', 'updatedAt': '2023-11-08T23:36:30.931Z'}, {'id': 20, 'name': 'proyecto pepe', 'description': 'que tal soy sech', 'creatorId': 56, 'createdAt': '2023-11-08T21:27:01.009Z', 'updatedAt': '2023-11-08T21:27:01.009Z'}, {'id': 21, 'name': 'allprojects test', 'description': 'sape', 'creatorId': 56, 'createdAt': '2023-11-08T23:06:27.831Z', 'updatedAt': '2023-11-08T23:06:27.831Z'}, {'id': 24, 'name': 'getallprojects test', 'description': 'sest', 'creatorId': 56, 'createdAt': '2023-11-08T23:07:54.004Z', 'updatedAt': '2023-11-08T23:07:54.004Z'}, {'id': 25, 'name': 'otro test', 'description': 'bra', 'creatorId': 56, 'createdAt': '2023-11-08T23:32:51.191Z', 'updatedAt': '2023-11-08T23:32:51.191Z'}, {'id': 27, 'name': 'pollogange', 'description': 'si', 'creatorId': 56, 'createdAt': '2023-11-08T23:35:46.512Z', 'updatedAt': '2023-11-08T23:35:46.512Z'}, {'id': 28, 'name': 'cache de mierda', 'description': \":'v\", 'creatorId': 56, 'createdAt': '2023-11-08T23:55:10.884Z', 'updatedAt': '2023-11-08T23:55:10.884Z'}, {'id': 29, 'name': 'proyecto FUNCA!!!!!!!!!!!!!!!!!!!!!!!!!!', 'description': 'muchas gracias ignarcio vigilante html y mas', 'creatorId': 56, 'createdAt': '2023-11-08T23:59:11.467Z', 'updatedAt': '2023-11-08T23:59:11.467Z'}, {'id': 30, 'name': 'mentira no funca nada', 'description': '', 'creatorId': 56, 'createdAt': '2023-11-09T00:00:20.124Z', 'updatedAt': '2023-11-09T00:00:20.124Z'}, {'id': 31, 'name': 'pp', 'description': 'pp', 'creatorId': 56, 'createdAt': '2023-11-09T00:01:10.881Z', 'updatedAt': '2023-11-09T00:01:10.881Z'}, {'id': 32, 'name': 'papu', 'description': 'papu', 'creatorId': 56, 'createdAt': '2023-11-09T00:06:39.579Z', 'updatedAt': '2023-11-09T00:06:39.579Z'}, {'id': 33, 'name': 'nachao vigiialte', 'description': 'aornowicz.,', 'creatorId': 56, 'createdAt': '2023-11-09T00:11:14.720Z', 'updatedAt': '2023-11-09T00:11:14.720Z'}, {'id': 34, 'name': 'ninjafornte', 'description': '', 'creatorId': 56, 'createdAt': '2023-11-09T00:14:33.717Z', 'updatedAt': '2023-11-09T00:14:33.717Z'}, {'id': 35, 'name': 'lal', 'description': 'lel', 'creatorId': 56, 'createdAt': '2023-11-09T00:15:56.519Z', 'updatedAt': '2023-11-09T00:15:56.519Z'}, {'id': 36, 'name': 'gagner', 'description': 'nedgange', 'creatorId': 56, 'createdAt': '2023-11-09T00:19:06.388Z', 'updatedAt': '2023-11-09T00:19:06.388Z'}, {'id': 37, 'name': 'cache matat', 'description': 'e', 'creatorId': 56, 'createdAt': '2023-11-09T00:28:49.422Z', 'updatedAt': '2023-11-09T00:28:49.422Z'}, {'id': 38, 'name': 'asdfasca', 'description': '', 'creatorId': 56, 'createdAt': '2023-11-09T00:36:33.909Z', 'updatedAt': '2023-11-09T00:36:33.909Z'}, {'id': 39, 'name': 'sasa', 'description': '', 'creatorId': 56, 'createdAt': '2023-11-09T00:41:50.553Z', 'updatedAt': '2023-11-09T00:41:50.553Z'}, {'id': 40, 'name': 'seses', 'description': '', 'creatorId': 56, 'createdAt': '2023-11-09T00:46:57.171Z', 'updatedAt': '2023-11-09T00:46:57.171Z'}, {'id': 41, 'name': 'sisis', 'description': '', 'creatorId': 56, 'createdAt': '2023-11-09T00:47:06.374Z', 'updatedAt': '2023-11-09T00:47:06.374Z'}, {'id': 42, 'name': 'sus', 'description': '', 'creatorId': 56, 'createdAt': '2023-11-09T13:58:25.363Z', 'updatedAt': '2023-11-09T13:58:25.363Z'}, {'id': 43, 'name': 'modified pipi', 'description': 'modified vigi', 'creatorId': 62, 'createdAt': '2023-11-12T23:20:48.995Z', 'updatedAt': '2023-11-14T11:15:38.837Z'}, {'id': 44, 'name': 'modified popo', 'description': 'modified vigi', 'creatorId': 62, 'createdAt': '2023-11-13T12:49:29.609Z', 'updatedAt': '2023-11-13T13:38:07.482Z'}, {'id': 45, 'name': 'pollines', 'description': 'pollones', 'creatorId': 56, 'createdAt': '2023-11-13T13:22:06.322Z', 'updatedAt': '2023-11-13T13:22:06.322Z'}, {'id': 47, 'name': 'pollones', 'description': 'pollines', 'creatorId': 56, 'createdAt': '2023-11-13T13:25:37.078Z', 'updatedAt': '2023-11-13T13:25:37.078Z'}, {'id': 49, 'name': 'modified cosmo', 'description': 'modified cosmo', 'creatorId': 62, 'createdAt': '2023-11-13T13:40:51.109Z', 'updatedAt': '2023-11-13T13:41:33.097Z'}, {'id': 50, 'name': 'modified jero', 'description': 'modified jero', 'creatorId': 62, 'createdAt': '2023-11-13T13:43:37.270Z', 'updatedAt': '2023-11-13T13:56:04.170Z'}, {'id': 51, 'name': 'modified jero2', 'description': 'modified jero', 'creatorId': 62, 'createdAt': '2023-11-13T13:50:21.990Z', 'updatedAt': '2023-11-13T13:57:10.333Z'}, {'id': 52, 'name': 'aaaaaaaa', 'description': 'aaaaaaaa', 'creatorId': 62, 'createdAt': '2023-11-13T14:01:32.695Z', 'updatedAt': '2023-11-13T14:38:59.714Z'}, {'id': 53, 'name': 'llllll', 'description': 'lllllll', 'creatorId': 62, 'createdAt': '2023-11-13T14:24:20.204Z', 'updatedAt': '2023-11-13T14:24:20.204Z'}, {'id': 54, 'name': 'uuuuuu', 'description': 'iiiiii', 'creatorId': 62, 'createdAt': '2023-11-13T14:40:22.117Z', 'updatedAt': '2023-11-13T14:48:40.450Z'}, {'id': 55, 'name': 'ffffff', 'description': 'fffffff', 'creatorId': 62, 'createdAt': '2023-11-13T14:45:23.269Z', 'updatedAt': '2023-11-13T14:45:23.269Z'}, {'id': 56, 'name': 'holaa', 'description': 'nacho vigi', 'creatorId': 62, 'createdAt': '2023-11-14T11:07:05.419Z', 'updatedAt': '2023-11-14T11:07:05.419Z'}, {'id': 60, 'name': 'modified baub', 'description': 'modified vigi', 'creatorId': 62, 'createdAt': '2023-11-14T11:14:45.028Z', 'updatedAt': '2023-11-14T11:16:08.583Z'}, {'id': 62, 'name': 'ae ', 'description': 'pollo', 'creatorId': 62, 'createdAt': '2023-11-14T23:36:19.681Z', 'updatedAt': '2023-11-14T23:36:19.681Z'}, {'id': 63, 'name': 'statustes', 'description': 't', 'creatorId': 56, 'createdAt': '2023-11-15T00:09:29.312Z', 'updatedAt': '2023-11-15T00:09:29.312Z'}, {'id': 64, 'name': 'sapeee', 'description': 'sape pollo', 'creatorId': 56, 'createdAt': '2023-11-15T00:41:04.606Z', 'updatedAt': '2023-11-15T00:41:04.606Z'}, {'id': 65, 'name': 'a', 'description': 'ae', 'creatorId': 56, 'createdAt': '2023-11-18T23:39:42.168Z', 'updatedAt': '2023-11-18T23:39:42.168Z'}, {'id': 66, 'name': 'ujklasd', 'description': 'ajskl', 'creatorId': 56, 'createdAt': '2023-11-19T00:21:07.112Z', 'updatedAt': '2023-11-19T00:21:07.112Z'}, {'id': 67, 'name': 'abc', 'description': 'proyecto real', 'creatorId': 56, 'createdAt': '2023-11-19T17:35:24.889Z', 'updatedAt': '2023-11-19T17:35:24.889Z'}, {'id': 68, 'name': 'abcde', 'description': 'fghij', 'creatorId': 56, 'createdAt': '2023-11-19T19:41:32.864Z', 'updatedAt': '2023-11-19T19:41:32.864Z'}, {'id': 69, 'name': 'kjjjjjjjjjjjjjjjjjjjjjjjjjjjjjj', 'description': 'kjk.jkljkljkjkljjjjkjkjkjkjkjkkjjkjkjkjkjkjkjkjkjk', 'creatorId': 56, 'createdAt': '2023-11-21T11:24:47.801Z', 'updatedAt': '2023-11-21T11:24:47.801Z'}]\n"
          ]
        }
      ],
      "source": [
        "search_history_url = \"http://localhost:3000/userData/searchHistory\"\n",
        "headers = {\n",
        "    \"Authorization\": \"Bearer\",\n",
        "    \"Content-Type\": \"application/json\",\n",
        "    \"x-api-key\": \"REYDEREDES\"\n",
        "}\n",
        "payload = {\n",
        "    \"userId\": \"2\"\n",
        "}\n",
        "response_search_history = requests.get(search_history_url, headers=headers, json=payload)\n",
        "search_history_data = response_search_history.json()\n",
        "\n",
        "\n",
        "visit_history_url = \"http://localhost:3000/userData/visitHistory\"\n",
        "response_visit_history = requests.get(visit_history_url, headers=headers, json=payload)\n",
        "visit_history_data = response_visit_history.json()\n",
        "\n",
        "\n",
        "get_all_projects_url = \"http://localhost:3000/userData/getAllProjects\"\n",
        "headers_projects = {\n",
        "    \"x-api-key\": \"REYDEREDES\"\n",
        "}\n",
        "response_all_projects = requests.get(get_all_projects_url, headers=headers_projects)\n",
        "all_projects_data = response_all_projects.json()\n",
        "\n",
        "\n",
        "print(search_history_data)\n",
        "print(visit_history_data)\n",
        "print(all_projects_data)\n"
      ]
    },
    {
      "cell_type": "code",
      "execution_count": 39,
      "metadata": {},
      "outputs": [
        {
          "name": "stdout",
          "output_type": "stream",
          "text": [
            "<class 'str'>\n",
            "<class 'str'>\n",
            "<class 'list'>\n"
          ]
        },
        {
          "data": {
            "text/plain": [
              "{'id': 2,\n",
              " 'name': 'dog',\n",
              " 'description': 'red',\n",
              " 'creatorId': 2,\n",
              " 'createdAt': '2023-10-30T13:39:46.698Z',\n",
              " 'updatedAt': '2023-10-30T13:39:46.698Z'}"
            ]
          },
          "execution_count": 39,
          "metadata": {},
          "output_type": "execute_result"
        }
      ],
      "source": [
        "print(type(search_history_data))\n",
        "print(type(visit_history_data))\n",
        "print(type(all_projects_data))\n",
        "\n",
        "\n",
        "lista1 = search_history_data.split()\n",
        "lista2 = visit_history_data.split()\n",
        "\n",
        "all_projects_data[1]"
      ]
    },
    {
      "cell_type": "code",
      "execution_count": 40,
      "metadata": {},
      "outputs": [],
      "source": [
        "df1 = pd.DataFrame({\n",
        "    'Palabra': lista1\n",
        "})\n",
        "\n",
        "df2 = pd.DataFrame({\n",
        "    'Palabra': lista2\n",
        "})\n",
        "df3 = pd.DataFrame(all_projects_data)"
      ]
    },
    {
      "cell_type": "code",
      "execution_count": 41,
      "metadata": {},
      "outputs": [
        {
          "name": "stdout",
          "output_type": "stream",
          "text": [
            "    Palabra\n",
            "0       dog\n",
            "1      aaaa\n",
            "2    holaaa\n",
            "3      siii\n",
            "4      siii\n",
            "..      ...\n",
            "567      ab\n",
            "568       a\n",
            "569      ab\n",
            "570       a\n",
            "571     wow\n",
            "\n",
            "[572 rows x 1 columns]\n",
            "--------------------------------------------\n",
            "\n",
            "   Palabra\n",
            "0      dog\n",
            "1      cat\n",
            "2      dog\n",
            "3      cat\n",
            "4      cat\n",
            "5    doggf\n",
            "6      cat\n",
            "7      cat\n",
            "8      cat\n",
            "9      cat\n",
            "10     cat\n",
            "11     cat\n",
            "12     cat\n",
            "13     cat\n",
            "14  uuuuuu\n",
            "15     cat\n",
            "16     cat\n",
            "17     cat\n",
            "18     cat\n",
            "19     cat\n",
            "20     cat\n",
            "21     cat\n",
            "22     ggg\n",
            "23     ggg\n",
            "--------------------------------------------\n",
            "\n",
            "    id                                      name  \\\n",
            "0    1                                       cat   \n",
            "1    2                                       dog   \n",
            "2    3                                     doggf   \n",
            "3    4                                     catff   \n",
            "4    5                                     lemur   \n",
            "5    6                                       ppo   \n",
            "6    7                                       ddd   \n",
            "7    8                                     sssss   \n",
            "8    9                                       sss   \n",
            "9   10                                       ggg   \n",
            "10  15                          modified bruuhhh   \n",
            "11  17                                         s   \n",
            "12  20                             proyecto pepe   \n",
            "13  21                          allprojects test   \n",
            "14  24                       getallprojects test   \n",
            "15  25                                 otro test   \n",
            "16  27                                pollogange   \n",
            "17  28                           cache de mierda   \n",
            "18  29  proyecto FUNCA!!!!!!!!!!!!!!!!!!!!!!!!!!   \n",
            "19  30                     mentira no funca nada   \n",
            "20  31                                        pp   \n",
            "21  32                                      papu   \n",
            "22  33                          nachao vigiialte   \n",
            "23  34                               ninjafornte   \n",
            "24  35                                       lal   \n",
            "25  36                                    gagner   \n",
            "26  37                               cache matat   \n",
            "27  38                                  asdfasca   \n",
            "28  39                                      sasa   \n",
            "29  40                                     seses   \n",
            "30  41                                     sisis   \n",
            "31  42                                       sus   \n",
            "32  43                             modified pipi   \n",
            "33  44                             modified popo   \n",
            "34  45                                  pollines   \n",
            "35  47                                  pollones   \n",
            "36  49                            modified cosmo   \n",
            "37  50                             modified jero   \n",
            "38  51                            modified jero2   \n",
            "39  52                                  aaaaaaaa   \n",
            "40  53                                    llllll   \n",
            "41  54                                    uuuuuu   \n",
            "42  55                                    ffffff   \n",
            "43  56                                     holaa   \n",
            "44  60                             modified baub   \n",
            "45  62                                       ae    \n",
            "46  63                                 statustes   \n",
            "47  64                                    sapeee   \n",
            "48  65                                         a   \n",
            "49  66                                   ujklasd   \n",
            "50  67                                       abc   \n",
            "51  68                                     abcde   \n",
            "52  69           kjjjjjjjjjjjjjjjjjjjjjjjjjjjjjj   \n",
            "\n",
            "                                          description  creatorId  \\\n",
            "0                                                blue          2   \n",
            "1                                                 red          2   \n",
            "2                                                 red         56   \n",
            "3                                                blue         56   \n",
            "4                                                grey         56   \n",
            "5                                                 ppo         56   \n",
            "6                                                 ddd         56   \n",
            "7                                                 sss         56   \n",
            "8                                                 sss         56   \n",
            "9                                                 ggg         56   \n",
            "10                                 modified testinggg         56   \n",
            "11                                                  s         56   \n",
            "12                                   que tal soy sech         56   \n",
            "13                                               sape         56   \n",
            "14                                               sest         56   \n",
            "15                                                bra         56   \n",
            "16                                                 si         56   \n",
            "17                                                :'v         56   \n",
            "18       muchas gracias ignarcio vigilante html y mas         56   \n",
            "19                                                            56   \n",
            "20                                                 pp         56   \n",
            "21                                               papu         56   \n",
            "22                                        aornowicz.,         56   \n",
            "23                                                            56   \n",
            "24                                                lel         56   \n",
            "25                                           nedgange         56   \n",
            "26                                                  e         56   \n",
            "27                                                            56   \n",
            "28                                                            56   \n",
            "29                                                            56   \n",
            "30                                                            56   \n",
            "31                                                            56   \n",
            "32                                      modified vigi         62   \n",
            "33                                      modified vigi         62   \n",
            "34                                           pollones         56   \n",
            "35                                           pollines         56   \n",
            "36                                     modified cosmo         62   \n",
            "37                                      modified jero         62   \n",
            "38                                      modified jero         62   \n",
            "39                                           aaaaaaaa         62   \n",
            "40                                            lllllll         62   \n",
            "41                                             iiiiii         62   \n",
            "42                                            fffffff         62   \n",
            "43                                         nacho vigi         62   \n",
            "44                                      modified vigi         62   \n",
            "45                                              pollo         62   \n",
            "46                                                  t         56   \n",
            "47                                         sape pollo         56   \n",
            "48                                                 ae         56   \n",
            "49                                              ajskl         56   \n",
            "50                                      proyecto real         56   \n",
            "51                                              fghij         56   \n",
            "52  kjk.jkljkljkjkljjjjkjkjkjkjkjkkjjkjkjkjkjkjkjk...         56   \n",
            "\n",
            "                   createdAt                 updatedAt  \n",
            "0   2023-10-30T13:39:26.619Z  2023-10-30T13:39:26.619Z  \n",
            "1   2023-10-30T13:39:46.698Z  2023-10-30T13:39:46.698Z  \n",
            "2   2023-11-01T21:16:53.796Z  2023-11-03T01:05:23.711Z  \n",
            "3   2023-11-01T21:17:02.209Z  2023-11-03T01:06:51.653Z  \n",
            "4   2023-11-01T21:17:15.554Z  2023-11-01T21:17:15.554Z  \n",
            "5   2023-11-01T22:23:22.617Z  2023-11-01T22:23:22.617Z  \n",
            "6   2023-11-02T00:15:59.937Z  2023-11-02T00:15:59.937Z  \n",
            "7   2023-11-02T00:16:07.463Z  2023-11-03T01:05:23.711Z  \n",
            "8   2023-11-02T00:16:12.692Z  2023-11-02T00:16:12.692Z  \n",
            "9   2023-11-02T00:16:20.825Z  2023-11-02T00:16:20.825Z  \n",
            "10  2023-11-07T17:11:23.205Z  2023-11-08T12:01:22.303Z  \n",
            "11  2023-11-07T17:30:10.962Z  2023-11-08T23:36:30.931Z  \n",
            "12  2023-11-08T21:27:01.009Z  2023-11-08T21:27:01.009Z  \n",
            "13  2023-11-08T23:06:27.831Z  2023-11-08T23:06:27.831Z  \n",
            "14  2023-11-08T23:07:54.004Z  2023-11-08T23:07:54.004Z  \n",
            "15  2023-11-08T23:32:51.191Z  2023-11-08T23:32:51.191Z  \n",
            "16  2023-11-08T23:35:46.512Z  2023-11-08T23:35:46.512Z  \n",
            "17  2023-11-08T23:55:10.884Z  2023-11-08T23:55:10.884Z  \n",
            "18  2023-11-08T23:59:11.467Z  2023-11-08T23:59:11.467Z  \n",
            "19  2023-11-09T00:00:20.124Z  2023-11-09T00:00:20.124Z  \n",
            "20  2023-11-09T00:01:10.881Z  2023-11-09T00:01:10.881Z  \n",
            "21  2023-11-09T00:06:39.579Z  2023-11-09T00:06:39.579Z  \n",
            "22  2023-11-09T00:11:14.720Z  2023-11-09T00:11:14.720Z  \n",
            "23  2023-11-09T00:14:33.717Z  2023-11-09T00:14:33.717Z  \n",
            "24  2023-11-09T00:15:56.519Z  2023-11-09T00:15:56.519Z  \n",
            "25  2023-11-09T00:19:06.388Z  2023-11-09T00:19:06.388Z  \n",
            "26  2023-11-09T00:28:49.422Z  2023-11-09T00:28:49.422Z  \n",
            "27  2023-11-09T00:36:33.909Z  2023-11-09T00:36:33.909Z  \n",
            "28  2023-11-09T00:41:50.553Z  2023-11-09T00:41:50.553Z  \n",
            "29  2023-11-09T00:46:57.171Z  2023-11-09T00:46:57.171Z  \n",
            "30  2023-11-09T00:47:06.374Z  2023-11-09T00:47:06.374Z  \n",
            "31  2023-11-09T13:58:25.363Z  2023-11-09T13:58:25.363Z  \n",
            "32  2023-11-12T23:20:48.995Z  2023-11-14T11:15:38.837Z  \n",
            "33  2023-11-13T12:49:29.609Z  2023-11-13T13:38:07.482Z  \n",
            "34  2023-11-13T13:22:06.322Z  2023-11-13T13:22:06.322Z  \n",
            "35  2023-11-13T13:25:37.078Z  2023-11-13T13:25:37.078Z  \n",
            "36  2023-11-13T13:40:51.109Z  2023-11-13T13:41:33.097Z  \n",
            "37  2023-11-13T13:43:37.270Z  2023-11-13T13:56:04.170Z  \n",
            "38  2023-11-13T13:50:21.990Z  2023-11-13T13:57:10.333Z  \n",
            "39  2023-11-13T14:01:32.695Z  2023-11-13T14:38:59.714Z  \n",
            "40  2023-11-13T14:24:20.204Z  2023-11-13T14:24:20.204Z  \n",
            "41  2023-11-13T14:40:22.117Z  2023-11-13T14:48:40.450Z  \n",
            "42  2023-11-13T14:45:23.269Z  2023-11-13T14:45:23.269Z  \n",
            "43  2023-11-14T11:07:05.419Z  2023-11-14T11:07:05.419Z  \n",
            "44  2023-11-14T11:14:45.028Z  2023-11-14T11:16:08.583Z  \n",
            "45  2023-11-14T23:36:19.681Z  2023-11-14T23:36:19.681Z  \n",
            "46  2023-11-15T00:09:29.312Z  2023-11-15T00:09:29.312Z  \n",
            "47  2023-11-15T00:41:04.606Z  2023-11-15T00:41:04.606Z  \n",
            "48  2023-11-18T23:39:42.168Z  2023-11-18T23:39:42.168Z  \n",
            "49  2023-11-19T00:21:07.112Z  2023-11-19T00:21:07.112Z  \n",
            "50  2023-11-19T17:35:24.889Z  2023-11-19T17:35:24.889Z  \n",
            "51  2023-11-19T19:41:32.864Z  2023-11-19T19:41:32.864Z  \n",
            "52  2023-11-21T11:24:47.801Z  2023-11-21T11:24:47.801Z  \n"
          ]
        }
      ],
      "source": [
        "print(df1)\n",
        "print(\"--------------------------------------------\" + \"\\n\")\n",
        "print(df2)\n",
        "print(\"--------------------------------------------\" + \"\\n\")\n",
        "print(df3)"
      ]
    },
    {
      "cell_type": "code",
      "execution_count": 42,
      "metadata": {},
      "outputs": [
        {
          "data": {
            "text/html": [
              "<div>\n",
              "<style scoped>\n",
              "    .dataframe tbody tr th:only-of-type {\n",
              "        vertical-align: middle;\n",
              "    }\n",
              "\n",
              "    .dataframe tbody tr th {\n",
              "        vertical-align: top;\n",
              "    }\n",
              "\n",
              "    .dataframe thead th {\n",
              "        text-align: right;\n",
              "    }\n",
              "</style>\n",
              "<table border=\"1\" class=\"dataframe\">\n",
              "  <thead>\n",
              "    <tr style=\"text-align: right;\">\n",
              "      <th></th>\n",
              "      <th>id</th>\n",
              "      <th>name</th>\n",
              "      <th>description</th>\n",
              "      <th>creatorId</th>\n",
              "      <th>createdAt</th>\n",
              "      <th>updatedAt</th>\n",
              "    </tr>\n",
              "  </thead>\n",
              "  <tbody>\n",
              "    <tr>\n",
              "      <th>0</th>\n",
              "      <td>1</td>\n",
              "      <td>cat</td>\n",
              "      <td>blue</td>\n",
              "      <td>2</td>\n",
              "      <td>2023-10-30T13:39:26.619Z</td>\n",
              "      <td>2023-10-30T13:39:26.619Z</td>\n",
              "    </tr>\n",
              "    <tr>\n",
              "      <th>1</th>\n",
              "      <td>2</td>\n",
              "      <td>dog</td>\n",
              "      <td>red</td>\n",
              "      <td>2</td>\n",
              "      <td>2023-10-30T13:39:46.698Z</td>\n",
              "      <td>2023-10-30T13:39:46.698Z</td>\n",
              "    </tr>\n",
              "    <tr>\n",
              "      <th>2</th>\n",
              "      <td>3</td>\n",
              "      <td>doggf</td>\n",
              "      <td>red</td>\n",
              "      <td>56</td>\n",
              "      <td>2023-11-01T21:16:53.796Z</td>\n",
              "      <td>2023-11-03T01:05:23.711Z</td>\n",
              "    </tr>\n",
              "    <tr>\n",
              "      <th>3</th>\n",
              "      <td>4</td>\n",
              "      <td>catff</td>\n",
              "      <td>blue</td>\n",
              "      <td>56</td>\n",
              "      <td>2023-11-01T21:17:02.209Z</td>\n",
              "      <td>2023-11-03T01:06:51.653Z</td>\n",
              "    </tr>\n",
              "    <tr>\n",
              "      <th>4</th>\n",
              "      <td>5</td>\n",
              "      <td>lemur</td>\n",
              "      <td>grey</td>\n",
              "      <td>56</td>\n",
              "      <td>2023-11-01T21:17:15.554Z</td>\n",
              "      <td>2023-11-01T21:17:15.554Z</td>\n",
              "    </tr>\n",
              "    <tr>\n",
              "      <th>5</th>\n",
              "      <td>6</td>\n",
              "      <td>ppo</td>\n",
              "      <td>ppo</td>\n",
              "      <td>56</td>\n",
              "      <td>2023-11-01T22:23:22.617Z</td>\n",
              "      <td>2023-11-01T22:23:22.617Z</td>\n",
              "    </tr>\n",
              "    <tr>\n",
              "      <th>6</th>\n",
              "      <td>7</td>\n",
              "      <td>ddd</td>\n",
              "      <td>ddd</td>\n",
              "      <td>56</td>\n",
              "      <td>2023-11-02T00:15:59.937Z</td>\n",
              "      <td>2023-11-02T00:15:59.937Z</td>\n",
              "    </tr>\n",
              "    <tr>\n",
              "      <th>7</th>\n",
              "      <td>8</td>\n",
              "      <td>sssss</td>\n",
              "      <td>sss</td>\n",
              "      <td>56</td>\n",
              "      <td>2023-11-02T00:16:07.463Z</td>\n",
              "      <td>2023-11-03T01:05:23.711Z</td>\n",
              "    </tr>\n",
              "    <tr>\n",
              "      <th>8</th>\n",
              "      <td>9</td>\n",
              "      <td>sss</td>\n",
              "      <td>sss</td>\n",
              "      <td>56</td>\n",
              "      <td>2023-11-02T00:16:12.692Z</td>\n",
              "      <td>2023-11-02T00:16:12.692Z</td>\n",
              "    </tr>\n",
              "    <tr>\n",
              "      <th>9</th>\n",
              "      <td>10</td>\n",
              "      <td>ggg</td>\n",
              "      <td>ggg</td>\n",
              "      <td>56</td>\n",
              "      <td>2023-11-02T00:16:20.825Z</td>\n",
              "      <td>2023-11-02T00:16:20.825Z</td>\n",
              "    </tr>\n",
              "    <tr>\n",
              "      <th>10</th>\n",
              "      <td>15</td>\n",
              "      <td>modified bruuhhh</td>\n",
              "      <td>modified testinggg</td>\n",
              "      <td>56</td>\n",
              "      <td>2023-11-07T17:11:23.205Z</td>\n",
              "      <td>2023-11-08T12:01:22.303Z</td>\n",
              "    </tr>\n",
              "    <tr>\n",
              "      <th>11</th>\n",
              "      <td>17</td>\n",
              "      <td>s</td>\n",
              "      <td>s</td>\n",
              "      <td>56</td>\n",
              "      <td>2023-11-07T17:30:10.962Z</td>\n",
              "      <td>2023-11-08T23:36:30.931Z</td>\n",
              "    </tr>\n",
              "    <tr>\n",
              "      <th>12</th>\n",
              "      <td>20</td>\n",
              "      <td>proyecto pepe</td>\n",
              "      <td>que tal soy sech</td>\n",
              "      <td>56</td>\n",
              "      <td>2023-11-08T21:27:01.009Z</td>\n",
              "      <td>2023-11-08T21:27:01.009Z</td>\n",
              "    </tr>\n",
              "    <tr>\n",
              "      <th>13</th>\n",
              "      <td>21</td>\n",
              "      <td>allprojects test</td>\n",
              "      <td>sape</td>\n",
              "      <td>56</td>\n",
              "      <td>2023-11-08T23:06:27.831Z</td>\n",
              "      <td>2023-11-08T23:06:27.831Z</td>\n",
              "    </tr>\n",
              "    <tr>\n",
              "      <th>14</th>\n",
              "      <td>24</td>\n",
              "      <td>getallprojects test</td>\n",
              "      <td>sest</td>\n",
              "      <td>56</td>\n",
              "      <td>2023-11-08T23:07:54.004Z</td>\n",
              "      <td>2023-11-08T23:07:54.004Z</td>\n",
              "    </tr>\n",
              "  </tbody>\n",
              "</table>\n",
              "</div>"
            ],
            "text/plain": [
              "    id                 name         description  creatorId  \\\n",
              "0    1                  cat                blue          2   \n",
              "1    2                  dog                 red          2   \n",
              "2    3                doggf                 red         56   \n",
              "3    4                catff                blue         56   \n",
              "4    5                lemur                grey         56   \n",
              "5    6                  ppo                 ppo         56   \n",
              "6    7                  ddd                 ddd         56   \n",
              "7    8                sssss                 sss         56   \n",
              "8    9                  sss                 sss         56   \n",
              "9   10                  ggg                 ggg         56   \n",
              "10  15     modified bruuhhh  modified testinggg         56   \n",
              "11  17                    s                   s         56   \n",
              "12  20        proyecto pepe    que tal soy sech         56   \n",
              "13  21     allprojects test                sape         56   \n",
              "14  24  getallprojects test                sest         56   \n",
              "\n",
              "                   createdAt                 updatedAt  \n",
              "0   2023-10-30T13:39:26.619Z  2023-10-30T13:39:26.619Z  \n",
              "1   2023-10-30T13:39:46.698Z  2023-10-30T13:39:46.698Z  \n",
              "2   2023-11-01T21:16:53.796Z  2023-11-03T01:05:23.711Z  \n",
              "3   2023-11-01T21:17:02.209Z  2023-11-03T01:06:51.653Z  \n",
              "4   2023-11-01T21:17:15.554Z  2023-11-01T21:17:15.554Z  \n",
              "5   2023-11-01T22:23:22.617Z  2023-11-01T22:23:22.617Z  \n",
              "6   2023-11-02T00:15:59.937Z  2023-11-02T00:15:59.937Z  \n",
              "7   2023-11-02T00:16:07.463Z  2023-11-03T01:05:23.711Z  \n",
              "8   2023-11-02T00:16:12.692Z  2023-11-02T00:16:12.692Z  \n",
              "9   2023-11-02T00:16:20.825Z  2023-11-02T00:16:20.825Z  \n",
              "10  2023-11-07T17:11:23.205Z  2023-11-08T12:01:22.303Z  \n",
              "11  2023-11-07T17:30:10.962Z  2023-11-08T23:36:30.931Z  \n",
              "12  2023-11-08T21:27:01.009Z  2023-11-08T21:27:01.009Z  \n",
              "13  2023-11-08T23:06:27.831Z  2023-11-08T23:06:27.831Z  \n",
              "14  2023-11-08T23:07:54.004Z  2023-11-08T23:07:54.004Z  "
            ]
          },
          "execution_count": 42,
          "metadata": {},
          "output_type": "execute_result"
        }
      ],
      "source": [
        "df3.head(15)"
      ]
    },
    {
      "cell_type": "code",
      "execution_count": 43,
      "metadata": {},
      "outputs": [
        {
          "name": "stdout",
          "output_type": "stream",
          "text": [
            "(572, 1)\n",
            "(24, 1)\n",
            "(53, 6)\n"
          ]
        }
      ],
      "source": [
        "print(df1.shape)\n",
        "print(df2.shape)\n",
        "print(df3.shape)"
      ]
    },
    {
      "cell_type": "code",
      "execution_count": 44,
      "metadata": {},
      "outputs": [
        {
          "name": "stdout",
          "output_type": "stream",
          "text": [
            "(53, 6)\n"
          ]
        }
      ],
      "source": [
        "df_concatenated = pd.concat([df1, df2], axis=1)\n",
        "\n",
        "df_final = pd.merge(df_concatenated, df3, left_index=True, right_index=True)\n",
        "\n",
        "df_final = df_final.drop(['createdAt'], axis=1)\n",
        "df_final = df_final.drop(['updatedAt'], axis=1)\n",
        "\n",
        "print(df_final.shape)"
      ]
    },
    {
      "cell_type": "code",
      "execution_count": 45,
      "metadata": {},
      "outputs": [
        {
          "data": {
            "text/html": [
              "<div>\n",
              "<style scoped>\n",
              "    .dataframe tbody tr th:only-of-type {\n",
              "        vertical-align: middle;\n",
              "    }\n",
              "\n",
              "    .dataframe tbody tr th {\n",
              "        vertical-align: top;\n",
              "    }\n",
              "\n",
              "    .dataframe thead th {\n",
              "        text-align: right;\n",
              "    }\n",
              "</style>\n",
              "<table border=\"1\" class=\"dataframe\">\n",
              "  <thead>\n",
              "    <tr style=\"text-align: right;\">\n",
              "      <th></th>\n",
              "      <th>Palabra</th>\n",
              "      <th>Palabra</th>\n",
              "      <th>id</th>\n",
              "      <th>name</th>\n",
              "      <th>description</th>\n",
              "      <th>creatorId</th>\n",
              "    </tr>\n",
              "  </thead>\n",
              "  <tbody>\n",
              "    <tr>\n",
              "      <th>0</th>\n",
              "      <td>dog</td>\n",
              "      <td>dog</td>\n",
              "      <td>1</td>\n",
              "      <td>cat</td>\n",
              "      <td>blue</td>\n",
              "      <td>2</td>\n",
              "    </tr>\n",
              "    <tr>\n",
              "      <th>1</th>\n",
              "      <td>aaaa</td>\n",
              "      <td>cat</td>\n",
              "      <td>2</td>\n",
              "      <td>dog</td>\n",
              "      <td>red</td>\n",
              "      <td>2</td>\n",
              "    </tr>\n",
              "    <tr>\n",
              "      <th>2</th>\n",
              "      <td>holaaa</td>\n",
              "      <td>dog</td>\n",
              "      <td>3</td>\n",
              "      <td>doggf</td>\n",
              "      <td>red</td>\n",
              "      <td>56</td>\n",
              "    </tr>\n",
              "    <tr>\n",
              "      <th>3</th>\n",
              "      <td>siii</td>\n",
              "      <td>cat</td>\n",
              "      <td>4</td>\n",
              "      <td>catff</td>\n",
              "      <td>blue</td>\n",
              "      <td>56</td>\n",
              "    </tr>\n",
              "    <tr>\n",
              "      <th>4</th>\n",
              "      <td>siii</td>\n",
              "      <td>cat</td>\n",
              "      <td>5</td>\n",
              "      <td>lemur</td>\n",
              "      <td>grey</td>\n",
              "      <td>56</td>\n",
              "    </tr>\n",
              "    <tr>\n",
              "      <th>5</th>\n",
              "      <td>dog</td>\n",
              "      <td>doggf</td>\n",
              "      <td>6</td>\n",
              "      <td>ppo</td>\n",
              "      <td>ppo</td>\n",
              "      <td>56</td>\n",
              "    </tr>\n",
              "    <tr>\n",
              "      <th>6</th>\n",
              "      <td>dog</td>\n",
              "      <td>cat</td>\n",
              "      <td>7</td>\n",
              "      <td>ddd</td>\n",
              "      <td>ddd</td>\n",
              "      <td>56</td>\n",
              "    </tr>\n",
              "    <tr>\n",
              "      <th>7</th>\n",
              "      <td>dog</td>\n",
              "      <td>cat</td>\n",
              "      <td>8</td>\n",
              "      <td>sssss</td>\n",
              "      <td>sss</td>\n",
              "      <td>56</td>\n",
              "    </tr>\n",
              "    <tr>\n",
              "      <th>8</th>\n",
              "      <td>cat</td>\n",
              "      <td>cat</td>\n",
              "      <td>9</td>\n",
              "      <td>sss</td>\n",
              "      <td>sss</td>\n",
              "      <td>56</td>\n",
              "    </tr>\n",
              "    <tr>\n",
              "      <th>9</th>\n",
              "      <td>wow</td>\n",
              "      <td>cat</td>\n",
              "      <td>10</td>\n",
              "      <td>ggg</td>\n",
              "      <td>ggg</td>\n",
              "      <td>56</td>\n",
              "    </tr>\n",
              "  </tbody>\n",
              "</table>\n",
              "</div>"
            ],
            "text/plain": [
              "  Palabra Palabra  id   name description  creatorId\n",
              "0     dog     dog   1    cat        blue          2\n",
              "1    aaaa     cat   2    dog         red          2\n",
              "2  holaaa     dog   3  doggf         red         56\n",
              "3    siii     cat   4  catff        blue         56\n",
              "4    siii     cat   5  lemur        grey         56\n",
              "5     dog   doggf   6    ppo         ppo         56\n",
              "6     dog     cat   7    ddd         ddd         56\n",
              "7     dog     cat   8  sssss         sss         56\n",
              "8     cat     cat   9    sss         sss         56\n",
              "9     wow     cat  10    ggg         ggg         56"
            ]
          },
          "execution_count": 45,
          "metadata": {},
          "output_type": "execute_result"
        }
      ],
      "source": [
        "df_final.head(10)"
      ]
    },
    {
      "cell_type": "markdown",
      "metadata": {},
      "source": [
        "ACA TENES QUE CONVERTIR TODOS LOS DATOS A VECTORES, CON EL CODIGO QUE TENES EN COLAB, PARA DESPUES PODER HACER FACTORIZACION DE MATRICES"
      ]
    },
    {
      "cell_type": "code",
      "execution_count": 46,
      "metadata": {},
      "outputs": [
        {
          "name": "stdout",
          "output_type": "stream",
          "text": [
            "Requirement already satisfied: scikit-learn in c:\\users\\47295973\\appdata\\local\\programs\\python\\python311\\lib\\site-packages (1.3.2)\n",
            "Requirement already satisfied: numpy<2.0,>=1.17.3 in c:\\users\\47295973\\appdata\\local\\programs\\python\\python311\\lib\\site-packages (from scikit-learn) (1.24.3)\n",
            "Requirement already satisfied: scipy>=1.5.0 in c:\\users\\47295973\\appdata\\local\\programs\\python\\python311\\lib\\site-packages (from scikit-learn) (1.11.4)\n",
            "Requirement already satisfied: joblib>=1.1.1 in c:\\users\\47295973\\appdata\\local\\programs\\python\\python311\\lib\\site-packages (from scikit-learn) (1.3.2)\n",
            "Requirement already satisfied: threadpoolctl>=2.0.0 in c:\\users\\47295973\\appdata\\local\\programs\\python\\python311\\lib\\site-packages (from scikit-learn) (3.2.0)\n",
            "Note: you may need to restart the kernel to use updated packages.\n"
          ]
        },
        {
          "name": "stderr",
          "output_type": "stream",
          "text": [
            "\n",
            "[notice] A new release of pip available: 22.3.1 -> 23.3.1\n",
            "[notice] To update, run: python.exe -m pip install --upgrade pip\n"
          ]
        }
      ],
      "source": [
        "%pip install scikit-learn"
      ]
    },
    {
      "cell_type": "code",
      "execution_count": 47,
      "metadata": {},
      "outputs": [],
      "source": [
        "from sklearn.feature_extraction.text import TfidfVectorizer"
      ]
    },
    {
      "cell_type": "code",
      "execution_count": 48,
      "metadata": {},
      "outputs": [],
      "source": [
        "tfidf = TfidfVectorizer(max_features=5000)"
      ]
    },
    {
      "cell_type": "code",
      "execution_count": 49,
      "metadata": {},
      "outputs": [],
      "source": [
        "vectorized_data = tfidf.fit_transform(df_final[\"description\"])"
      ]
    },
    {
      "cell_type": "code",
      "execution_count": 50,
      "metadata": {},
      "outputs": [
        {
          "name": "stdout",
          "output_type": "stream",
          "text": [
            "<class 'scipy.sparse._csr.csr_matrix'>\n"
          ]
        }
      ],
      "source": [
        "print(type(vectorized_data))"
      ]
    },
    {
      "cell_type": "code",
      "execution_count": 51,
      "metadata": {},
      "outputs": [],
      "source": [
        "vectorized_dataframe = pd.DataFrame(vectorized_data.toarray(), index=df_final[\"description\"].index.tolist())"
      ]
    },
    {
      "cell_type": "code",
      "execution_count": 52,
      "metadata": {},
      "outputs": [
        {
          "data": {
            "text/html": [
              "<div>\n",
              "<style scoped>\n",
              "    .dataframe tbody tr th:only-of-type {\n",
              "        vertical-align: middle;\n",
              "    }\n",
              "\n",
              "    .dataframe tbody tr th {\n",
              "        vertical-align: top;\n",
              "    }\n",
              "\n",
              "    .dataframe thead th {\n",
              "        text-align: right;\n",
              "    }\n",
              "</style>\n",
              "<table border=\"1\" class=\"dataframe\">\n",
              "  <thead>\n",
              "    <tr style=\"text-align: right;\">\n",
              "      <th></th>\n",
              "      <th>0</th>\n",
              "      <th>1</th>\n",
              "      <th>2</th>\n",
              "      <th>3</th>\n",
              "      <th>4</th>\n",
              "      <th>5</th>\n",
              "      <th>6</th>\n",
              "      <th>7</th>\n",
              "      <th>8</th>\n",
              "      <th>9</th>\n",
              "      <th>...</th>\n",
              "      <th>36</th>\n",
              "      <th>37</th>\n",
              "      <th>38</th>\n",
              "      <th>39</th>\n",
              "      <th>40</th>\n",
              "      <th>41</th>\n",
              "      <th>42</th>\n",
              "      <th>43</th>\n",
              "      <th>44</th>\n",
              "      <th>45</th>\n",
              "    </tr>\n",
              "  </thead>\n",
              "  <tbody>\n",
              "    <tr>\n",
              "      <th>0</th>\n",
              "      <td>0.0</td>\n",
              "      <td>0.0</td>\n",
              "      <td>0.0</td>\n",
              "      <td>0.0</td>\n",
              "      <td>1.0</td>\n",
              "      <td>0.0</td>\n",
              "      <td>0.0</td>\n",
              "      <td>0.0</td>\n",
              "      <td>0.0</td>\n",
              "      <td>0.0</td>\n",
              "      <td>...</td>\n",
              "      <td>0.0</td>\n",
              "      <td>0.0</td>\n",
              "      <td>0.0</td>\n",
              "      <td>0.0</td>\n",
              "      <td>0.0</td>\n",
              "      <td>0.0</td>\n",
              "      <td>0.0</td>\n",
              "      <td>0.0</td>\n",
              "      <td>0.0</td>\n",
              "      <td>0.0</td>\n",
              "    </tr>\n",
              "    <tr>\n",
              "      <th>1</th>\n",
              "      <td>0.0</td>\n",
              "      <td>0.0</td>\n",
              "      <td>0.0</td>\n",
              "      <td>0.0</td>\n",
              "      <td>0.0</td>\n",
              "      <td>0.0</td>\n",
              "      <td>0.0</td>\n",
              "      <td>0.0</td>\n",
              "      <td>0.0</td>\n",
              "      <td>0.0</td>\n",
              "      <td>...</td>\n",
              "      <td>0.0</td>\n",
              "      <td>0.0</td>\n",
              "      <td>0.0</td>\n",
              "      <td>0.0</td>\n",
              "      <td>0.0</td>\n",
              "      <td>0.0</td>\n",
              "      <td>0.0</td>\n",
              "      <td>0.0</td>\n",
              "      <td>0.0</td>\n",
              "      <td>0.0</td>\n",
              "    </tr>\n",
              "    <tr>\n",
              "      <th>2</th>\n",
              "      <td>0.0</td>\n",
              "      <td>0.0</td>\n",
              "      <td>0.0</td>\n",
              "      <td>0.0</td>\n",
              "      <td>0.0</td>\n",
              "      <td>0.0</td>\n",
              "      <td>0.0</td>\n",
              "      <td>0.0</td>\n",
              "      <td>0.0</td>\n",
              "      <td>0.0</td>\n",
              "      <td>...</td>\n",
              "      <td>0.0</td>\n",
              "      <td>0.0</td>\n",
              "      <td>0.0</td>\n",
              "      <td>0.0</td>\n",
              "      <td>0.0</td>\n",
              "      <td>0.0</td>\n",
              "      <td>0.0</td>\n",
              "      <td>0.0</td>\n",
              "      <td>0.0</td>\n",
              "      <td>0.0</td>\n",
              "    </tr>\n",
              "    <tr>\n",
              "      <th>3</th>\n",
              "      <td>0.0</td>\n",
              "      <td>0.0</td>\n",
              "      <td>0.0</td>\n",
              "      <td>0.0</td>\n",
              "      <td>1.0</td>\n",
              "      <td>0.0</td>\n",
              "      <td>0.0</td>\n",
              "      <td>0.0</td>\n",
              "      <td>0.0</td>\n",
              "      <td>0.0</td>\n",
              "      <td>...</td>\n",
              "      <td>0.0</td>\n",
              "      <td>0.0</td>\n",
              "      <td>0.0</td>\n",
              "      <td>0.0</td>\n",
              "      <td>0.0</td>\n",
              "      <td>0.0</td>\n",
              "      <td>0.0</td>\n",
              "      <td>0.0</td>\n",
              "      <td>0.0</td>\n",
              "      <td>0.0</td>\n",
              "    </tr>\n",
              "    <tr>\n",
              "      <th>4</th>\n",
              "      <td>0.0</td>\n",
              "      <td>0.0</td>\n",
              "      <td>0.0</td>\n",
              "      <td>0.0</td>\n",
              "      <td>0.0</td>\n",
              "      <td>0.0</td>\n",
              "      <td>0.0</td>\n",
              "      <td>0.0</td>\n",
              "      <td>0.0</td>\n",
              "      <td>0.0</td>\n",
              "      <td>...</td>\n",
              "      <td>0.0</td>\n",
              "      <td>0.0</td>\n",
              "      <td>0.0</td>\n",
              "      <td>0.0</td>\n",
              "      <td>0.0</td>\n",
              "      <td>0.0</td>\n",
              "      <td>0.0</td>\n",
              "      <td>0.0</td>\n",
              "      <td>0.0</td>\n",
              "      <td>0.0</td>\n",
              "    </tr>\n",
              "  </tbody>\n",
              "</table>\n",
              "<p>5 rows × 46 columns</p>\n",
              "</div>"
            ],
            "text/plain": [
              "    0    1    2    3    4    5    6    7    8    9   ...   36   37   38   39  \\\n",
              "0  0.0  0.0  0.0  0.0  1.0  0.0  0.0  0.0  0.0  0.0  ...  0.0  0.0  0.0  0.0   \n",
              "1  0.0  0.0  0.0  0.0  0.0  0.0  0.0  0.0  0.0  0.0  ...  0.0  0.0  0.0  0.0   \n",
              "2  0.0  0.0  0.0  0.0  0.0  0.0  0.0  0.0  0.0  0.0  ...  0.0  0.0  0.0  0.0   \n",
              "3  0.0  0.0  0.0  0.0  1.0  0.0  0.0  0.0  0.0  0.0  ...  0.0  0.0  0.0  0.0   \n",
              "4  0.0  0.0  0.0  0.0  0.0  0.0  0.0  0.0  0.0  0.0  ...  0.0  0.0  0.0  0.0   \n",
              "\n",
              "    40   41   42   43   44   45  \n",
              "0  0.0  0.0  0.0  0.0  0.0  0.0  \n",
              "1  0.0  0.0  0.0  0.0  0.0  0.0  \n",
              "2  0.0  0.0  0.0  0.0  0.0  0.0  \n",
              "3  0.0  0.0  0.0  0.0  0.0  0.0  \n",
              "4  0.0  0.0  0.0  0.0  0.0  0.0  \n",
              "\n",
              "[5 rows x 46 columns]"
            ]
          },
          "execution_count": 52,
          "metadata": {},
          "output_type": "execute_result"
        }
      ],
      "source": [
        "vectorized_dataframe.head()"
      ]
    },
    {
      "cell_type": "code",
      "execution_count": 53,
      "metadata": {},
      "outputs": [
        {
          "data": {
            "text/plain": [
              "(53, 46)"
            ]
          },
          "execution_count": 53,
          "metadata": {},
          "output_type": "execute_result"
        }
      ],
      "source": [
        "vectorized_dataframe.shape"
      ]
    },
    {
      "cell_type": "code",
      "execution_count": 54,
      "metadata": {},
      "outputs": [],
      "source": [
        "from sklearn.decomposition import TruncatedSVD"
      ]
    },
    {
      "cell_type": "code",
      "execution_count": 55,
      "metadata": {},
      "outputs": [],
      "source": [
        "svd = TruncatedSVD(n_components=14)\n",
        "\n",
        "reduced_data = svd.fit_transform(vectorized_dataframe)"
      ]
    },
    {
      "cell_type": "code",
      "execution_count": 56,
      "metadata": {},
      "outputs": [
        {
          "data": {
            "text/plain": [
              "(53, 14)"
            ]
          },
          "execution_count": 56,
          "metadata": {},
          "output_type": "execute_result"
        }
      ],
      "source": [
        "reduced_data.shape"
      ]
    },
    {
      "cell_type": "code",
      "execution_count": 57,
      "metadata": {},
      "outputs": [
        {
          "data": {
            "text/plain": [
              "array([[ 1.04597624e-06,  2.56696661e-01,  7.13967733e-01,\n",
              "        -2.36844470e-01,  6.06719065e-01,  1.83552825e-04,\n",
              "        -3.44036412e-17, -1.10128591e-16, -2.67485358e-16,\n",
              "         3.39567335e-17, -7.27582040e-17,  1.00148751e-16,\n",
              "         1.22109636e-16,  1.04846809e-16],\n",
              "       [ 1.13570611e-06, -1.79147197e-03,  3.04065630e-01,\n",
              "         9.52456205e-01,  1.47877418e-02, -8.10685271e-04,\n",
              "         3.87934200e-17, -4.33146417e-17, -1.23354407e-16,\n",
              "        -2.12170933e-16,  2.36661880e-17, -1.65956133e-16,\n",
              "         2.45442836e-16, -2.24411035e-18],\n",
              "       [ 1.13570611e-06, -1.79147197e-03,  3.04065630e-01,\n",
              "         9.52456205e-01,  1.47877418e-02, -8.10685271e-04,\n",
              "         3.87934200e-17, -4.33146417e-17, -1.23354407e-16,\n",
              "        -2.12170933e-16,  2.36661880e-17, -1.65956133e-16,\n",
              "         2.45442836e-16, -2.24411035e-18],\n",
              "       [ 1.04597624e-06,  2.56696661e-01,  7.13967733e-01,\n",
              "        -2.36844470e-01,  6.06719065e-01,  1.83552825e-04,\n",
              "        -3.44036412e-17, -1.10128591e-16, -2.67485358e-16,\n",
              "         3.39567335e-17, -7.27582040e-17,  1.00148751e-16,\n",
              "         1.22109636e-16,  1.04846809e-16],\n",
              "       [ 5.49942512e-05, -1.25361288e-03,  3.09766503e-03,\n",
              "        -2.35022036e-03, -3.37937797e-03,  9.72058727e-05,\n",
              "         2.07590199e-01, -2.88532669e-01, -1.63775337e-01,\n",
              "         6.97904791e-02,  3.15001592e-01, -2.99787299e-01,\n",
              "        -1.26898505e-02,  2.49645422e-01],\n",
              "       [ 1.14494415e-06, -1.06233596e-03, -4.04930187e-04,\n",
              "         4.24604990e-03, -1.22952081e-03, -4.41931500e-04,\n",
              "         1.78707159e-01, -2.78775955e-01, -4.24503451e-02,\n",
              "         1.88697726e-01, -2.47560876e-01, -2.53064304e-01,\n",
              "         8.96300182e-03, -5.76439493e-02],\n",
              "       [-3.06704921e-05, -1.79806880e-03,  1.41241841e-03,\n",
              "         2.71201555e-03, -1.78008084e-03, -7.31537293e-03,\n",
              "        -4.26872598e-02,  2.85943940e-01, -1.48311661e-01,\n",
              "         4.87529305e-01,  9.06262127e-02,  9.65673573e-02,\n",
              "        -2.31421023e-01, -1.61010238e-01],\n",
              "       [-2.10394421e-06,  8.41971511e-01,  1.30681466e-01,\n",
              "        -3.20200595e-02, -5.22370653e-01, -4.68946535e-05,\n",
              "        -8.77663446e-17, -3.58100064e-17,  3.58526433e-17,\n",
              "         8.13291367e-17,  7.64804641e-17, -1.89424300e-16,\n",
              "         5.96516603e-17, -1.00456254e-16],\n",
              "       [-2.10394421e-06,  8.41971511e-01,  1.30681466e-01,\n",
              "        -3.20200595e-02, -5.22370653e-01, -4.68946535e-05,\n",
              "        -8.77663446e-17, -3.58100064e-17,  3.58526433e-17,\n",
              "         8.13291367e-17,  7.64804641e-17, -1.89424300e-16,\n",
              "         5.96516603e-17, -1.00456254e-16],\n",
              "       [ 6.50284789e-06, -3.88739532e-04, -1.08616424e-03,\n",
              "         2.35273969e-03,  3.32914404e-04,  1.34161519e-04,\n",
              "        -1.73533558e-01, -1.84335257e-01,  2.87233255e-01,\n",
              "         1.42188305e-01, -5.48750569e-02,  7.20085928e-02,\n",
              "         9.59067236e-02,  5.03291024e-02],\n",
              "       [ 5.13470053e-01, -5.70162012e-04,  6.66089063e-04,\n",
              "         9.66081042e-05,  1.84404855e-03,  2.54976718e-01,\n",
              "         1.46914790e-15, -3.34922182e-15,  4.49903061e-15,\n",
              "         2.39199108e-15,  2.46095894e-15, -1.10522190e-15,\n",
              "         3.67537046e-15,  1.51316331e-15],\n",
              "       [ 0.00000000e+00,  0.00000000e+00,  0.00000000e+00,\n",
              "         0.00000000e+00,  0.00000000e+00,  0.00000000e+00,\n",
              "         0.00000000e+00,  0.00000000e+00,  0.00000000e+00,\n",
              "         0.00000000e+00,  0.00000000e+00,  0.00000000e+00,\n",
              "         0.00000000e+00,  0.00000000e+00],\n",
              "       [ 1.01329334e-05,  1.29932783e-03,  6.38665139e-04,\n",
              "        -9.63021803e-04, -4.65635437e-03, -3.01127854e-03,\n",
              "         1.06913605e-01, -5.05806279e-02,  4.42291931e-01,\n",
              "         3.34326465e-02, -1.34526539e-01, -1.56461834e-02,\n",
              "        -2.39722802e-01,  1.81811343e-01],\n",
              "       [-6.13239039e-06,  3.35484985e-01, -4.34985164e-01,\n",
              "         1.32419801e-01,  4.27983091e-01,  1.81747729e-03,\n",
              "         7.89195962e-03,  3.21897931e-02,  1.05213675e-01,\n",
              "        -2.46339131e-01, -1.72281590e-01, -1.51483996e-01,\n",
              "        -1.29924364e-01, -7.03251909e-02],\n",
              "       [-2.63879906e-05, -1.61143586e-03, -1.15075920e-03,\n",
              "         5.22941982e-03, -2.84172563e-03, -8.02701957e-04,\n",
              "        -1.69008900e-01, -9.58069378e-02,  8.66647724e-02,\n",
              "        -9.29546627e-02,  6.95424106e-03, -2.15348438e-01,\n",
              "         4.01529784e-02,  1.78343728e-01],\n",
              "       [ 1.59415325e-05, -8.61586477e-04,  1.52546135e-03,\n",
              "        -5.22113619e-04, -6.05183415e-03, -2.42964264e-03,\n",
              "         2.50916205e-01,  1.62303012e-01,  1.05578498e-01,\n",
              "         3.78621629e-02, -2.29331379e-01,  2.23776520e-01,\n",
              "         1.17733281e-01, -6.06882208e-02],\n",
              "       [ 1.00838099e-05, -6.59916109e-05, -6.39602582e-04,\n",
              "        -3.11137667e-03,  4.66847285e-03,  5.50426081e-03,\n",
              "        -1.24049956e-01,  1.03207347e-01,  2.19507448e-01,\n",
              "         4.95833601e-01,  1.88741004e-01, -3.82671912e-01,\n",
              "         1.44496144e-02, -3.14984371e-01],\n",
              "       [ 0.00000000e+00,  0.00000000e+00,  0.00000000e+00,\n",
              "         0.00000000e+00,  0.00000000e+00,  0.00000000e+00,\n",
              "         0.00000000e+00,  0.00000000e+00,  0.00000000e+00,\n",
              "         0.00000000e+00,  0.00000000e+00,  0.00000000e+00,\n",
              "         0.00000000e+00,  0.00000000e+00],\n",
              "       [ 8.58406805e-06, -4.32706700e-04, -2.29010006e-03,\n",
              "        -2.86796691e-03, -1.34673896e-03,  5.77836624e-03,\n",
              "        -1.89804723e-02, -6.27718588e-02, -3.74730098e-01,\n",
              "         5.97900873e-02,  2.13849698e-01,  2.02398117e-01,\n",
              "        -1.54821593e-01,  3.04922144e-01],\n",
              "       [ 0.00000000e+00,  0.00000000e+00,  0.00000000e+00,\n",
              "         0.00000000e+00,  0.00000000e+00,  0.00000000e+00,\n",
              "         0.00000000e+00,  0.00000000e+00,  0.00000000e+00,\n",
              "         0.00000000e+00,  0.00000000e+00,  0.00000000e+00,\n",
              "         0.00000000e+00,  0.00000000e+00],\n",
              "       [ 1.63790455e-06,  3.36606318e-04, -1.73813311e-03,\n",
              "        -2.44508210e-03, -1.54262939e-03,  4.68633444e-03,\n",
              "         7.77010424e-02,  1.53886103e-02, -9.07302346e-02,\n",
              "         7.87555695e-02, -2.81275394e-01, -1.47542008e-01,\n",
              "         2.97378268e-01, -1.90237865e-01],\n",
              "       [-4.38172530e-06,  8.65049289e-04, -9.25351274e-04,\n",
              "        -1.06973312e-03, -1.04078402e-03,  6.19923640e-03,\n",
              "        -5.22214778e-02, -3.23849201e-01,  1.14995451e-01,\n",
              "         6.00831642e-02,  3.69021834e-01,  2.36900566e-01,\n",
              "         5.76207028e-02, -2.37250688e-01],\n",
              "       [-2.16090563e-05, -9.52462101e-04, -2.16797385e-03,\n",
              "        -2.21903546e-03,  1.43777460e-03,  4.70955770e-03,\n",
              "         4.47109557e-01, -7.83017913e-02,  1.56419428e-01,\n",
              "         6.74276188e-02, -3.07057863e-02,  2.62564867e-01,\n",
              "        -7.62829026e-03, -1.82032340e-01],\n",
              "       [ 0.00000000e+00,  0.00000000e+00,  0.00000000e+00,\n",
              "         0.00000000e+00,  0.00000000e+00,  0.00000000e+00,\n",
              "         0.00000000e+00,  0.00000000e+00,  0.00000000e+00,\n",
              "         0.00000000e+00,  0.00000000e+00,  0.00000000e+00,\n",
              "         0.00000000e+00,  0.00000000e+00],\n",
              "       [ 3.82528375e-05,  1.71236914e-03,  2.16783009e-03,\n",
              "         5.72105926e-04, -3.98306652e-03, -8.42208526e-04,\n",
              "        -1.84341035e-01,  1.43172539e-01, -1.77019978e-01,\n",
              "         9.04213758e-02,  5.20912604e-02,  1.53239335e-01,\n",
              "         1.13864784e-01, -2.38701154e-01],\n",
              "       [-4.27920383e-05, -7.89743022e-04,  2.22695249e-04,\n",
              "         4.08024616e-03,  5.74205762e-03, -9.13403254e-03,\n",
              "         2.78981727e-01,  1.15434126e-01, -2.67918818e-02,\n",
              "        -2.51538150e-01,  4.36700871e-01,  5.52888870e-03,\n",
              "         8.00075676e-02, -1.77207038e-01],\n",
              "       [ 0.00000000e+00,  0.00000000e+00,  0.00000000e+00,\n",
              "         0.00000000e+00,  0.00000000e+00,  0.00000000e+00,\n",
              "         0.00000000e+00,  0.00000000e+00,  0.00000000e+00,\n",
              "         0.00000000e+00,  0.00000000e+00,  0.00000000e+00,\n",
              "         0.00000000e+00,  0.00000000e+00],\n",
              "       [ 0.00000000e+00,  0.00000000e+00,  0.00000000e+00,\n",
              "         0.00000000e+00,  0.00000000e+00,  0.00000000e+00,\n",
              "         0.00000000e+00,  0.00000000e+00,  0.00000000e+00,\n",
              "         0.00000000e+00,  0.00000000e+00,  0.00000000e+00,\n",
              "         0.00000000e+00,  0.00000000e+00],\n",
              "       [ 0.00000000e+00,  0.00000000e+00,  0.00000000e+00,\n",
              "         0.00000000e+00,  0.00000000e+00,  0.00000000e+00,\n",
              "         0.00000000e+00,  0.00000000e+00,  0.00000000e+00,\n",
              "         0.00000000e+00,  0.00000000e+00,  0.00000000e+00,\n",
              "         0.00000000e+00,  0.00000000e+00],\n",
              "       [ 0.00000000e+00,  0.00000000e+00,  0.00000000e+00,\n",
              "         0.00000000e+00,  0.00000000e+00,  0.00000000e+00,\n",
              "         0.00000000e+00,  0.00000000e+00,  0.00000000e+00,\n",
              "         0.00000000e+00,  0.00000000e+00,  0.00000000e+00,\n",
              "         0.00000000e+00,  0.00000000e+00],\n",
              "       [ 0.00000000e+00,  0.00000000e+00,  0.00000000e+00,\n",
              "         0.00000000e+00,  0.00000000e+00,  0.00000000e+00,\n",
              "         0.00000000e+00,  0.00000000e+00,  0.00000000e+00,\n",
              "         0.00000000e+00,  0.00000000e+00,  0.00000000e+00,\n",
              "         0.00000000e+00,  0.00000000e+00],\n",
              "       [ 0.00000000e+00,  0.00000000e+00,  0.00000000e+00,\n",
              "         0.00000000e+00,  0.00000000e+00,  0.00000000e+00,\n",
              "         0.00000000e+00,  0.00000000e+00,  0.00000000e+00,\n",
              "         0.00000000e+00,  0.00000000e+00,  0.00000000e+00,\n",
              "         0.00000000e+00,  0.00000000e+00],\n",
              "       [ 9.29951650e-01,  3.87882781e-05, -1.16487544e-04,\n",
              "        -2.98649160e-04,  1.15183774e-04, -3.14660532e-01,\n",
              "         3.19445570e-17, -1.76621112e-17,  2.11147677e-15,\n",
              "        -3.80671681e-16, -1.07379561e-16, -1.46130091e-15,\n",
              "         3.50223870e-16,  1.95459082e-16],\n",
              "       [ 9.29951650e-01,  3.87882781e-05, -1.16487544e-04,\n",
              "        -2.98649160e-04,  1.15183774e-04, -3.14660532e-01,\n",
              "         3.19445570e-17, -1.76621112e-17,  2.11147677e-15,\n",
              "        -3.80671681e-16, -1.07379561e-16, -1.46130091e-15,\n",
              "         3.50223870e-16,  1.95459082e-16],\n",
              "       [ 1.61883357e-06,  8.49502520e-04,  1.33797613e-03,\n",
              "        -6.09637155e-04, -9.60833662e-04,  7.32292976e-04,\n",
              "         2.34346822e-01, -2.25532550e-01,  3.52300354e-01,\n",
              "         1.39431576e-01,  1.92418093e-01, -8.39056092e-03,\n",
              "        -8.16223035e-02,  3.52070643e-02],\n",
              "       [ 6.45557695e-06, -1.60098895e-04,  9.06365223e-04,\n",
              "         1.64410831e-03,  7.06345021e-03, -1.81005089e-03,\n",
              "         4.19404208e-03,  1.19166507e-02,  7.11674092e-02,\n",
              "         3.39868054e-01, -2.14587240e-01,  4.21199123e-01,\n",
              "         8.84470428e-02,  3.57932242e-01],\n",
              "       [ 5.13462111e-01, -1.48826383e-04, -2.98232719e-04,\n",
              "         7.55029536e-04,  1.51799418e-03,  2.56528544e-01,\n",
              "         1.27737542e-15,  4.92970331e-15, -4.17792163e-15,\n",
              "         2.78157420e-15, -4.99099129e-16,  5.54523103e-15,\n",
              "         7.42095160e-16, -2.07553765e-15],\n",
              "       [ 6.61888113e-01,  1.35128512e-04,  1.34861984e-04,\n",
              "         5.14368770e-04, -1.29663075e-03,  6.61394495e-01,\n",
              "        -9.02492922e-16, -3.40164633e-16, -2.10863750e-15,\n",
              "        -1.18697719e-15, -4.27917982e-16,  2.62187237e-17,\n",
              "        -1.79814500e-15,  8.11815345e-17],\n",
              "       [ 6.61888113e-01,  1.35128512e-04,  1.34861984e-04,\n",
              "         5.14368770e-04, -1.29663075e-03,  6.61394495e-01,\n",
              "        -9.02492922e-16, -3.40164633e-16, -2.10863750e-15,\n",
              "        -1.18697719e-15, -4.27917982e-16,  2.62187237e-17,\n",
              "        -1.79814500e-15,  8.11815345e-17],\n",
              "       [-1.24571591e-05,  2.35602453e-03, -5.60561574e-04,\n",
              "         5.58802295e-03, -1.43373849e-03, -9.90136457e-03,\n",
              "         3.97671073e-02, -1.51414438e-02,  8.98690997e-02,\n",
              "         1.23458985e-01,  1.26235251e-01, -9.60564271e-02,\n",
              "         1.01505626e-01,  3.28735756e-02],\n",
              "       [-8.46870517e-06,  1.29576682e-03,  1.81892822e-03,\n",
              "         3.88389750e-04,  3.82180354e-03,  5.26518192e-03,\n",
              "        -9.09819605e-02, -9.80439350e-02,  3.18259830e-02,\n",
              "        -3.33049336e-02,  1.37644221e-01,  1.55867885e-01,\n",
              "         8.00200256e-02,  1.63923020e-01],\n",
              "       [-4.80287487e-05, -7.41681988e-05, -1.02854219e-03,\n",
              "        -1.99432022e-03,  6.43612341e-04, -3.28187301e-04,\n",
              "        -4.06659941e-01,  6.90105085e-02,  1.11612503e-01,\n",
              "         5.40921441e-02,  8.70962156e-02, -1.27763729e-01,\n",
              "         1.25606661e-01,  2.75818962e-01],\n",
              "       [ 2.87421539e-05, -2.46601615e-04, -1.02114822e-03,\n",
              "        -6.17690139e-04, -1.73683572e-03, -8.57532527e-05,\n",
              "        -3.54356256e-03,  3.24174598e-01,  1.92276546e-01,\n",
              "        -6.86800161e-04,  9.62346242e-02, -1.07185369e-01,\n",
              "        -4.42648812e-01,  1.77761961e-01],\n",
              "       [ 4.12628853e-01,  2.00505129e-04, -9.72161290e-05,\n",
              "        -7.00127053e-04, -8.25299432e-04, -6.30884147e-01,\n",
              "        -1.12391009e-15, -8.35328187e-16, -7.62105357e-15,\n",
              "         5.30675074e-17, -5.52647520e-17,  4.22775474e-15,\n",
              "        -2.14217166e-15, -5.42137538e-16],\n",
              "       [ 9.29951650e-01,  3.87882781e-05, -1.16487544e-04,\n",
              "        -2.98649160e-04,  1.15183774e-04, -3.14660532e-01,\n",
              "         3.19445570e-17, -1.76621112e-17,  2.11147677e-15,\n",
              "        -3.80671681e-16, -1.07379561e-16, -1.46130091e-15,\n",
              "         3.50223870e-16,  1.95459082e-16],\n",
              "       [ 9.93193521e-06,  3.35564921e-01, -4.37554358e-01,\n",
              "         1.34218140e-01,  4.18762981e-01, -1.60067793e-03,\n",
              "        -7.89195962e-03, -3.21897931e-02, -1.05213675e-01,\n",
              "         2.46339131e-01,  1.72281590e-01,  1.51483996e-01,\n",
              "         1.29924364e-01,  7.03251909e-02],\n",
              "       [ 0.00000000e+00,  0.00000000e+00,  0.00000000e+00,\n",
              "         0.00000000e+00,  0.00000000e+00,  0.00000000e+00,\n",
              "         0.00000000e+00,  0.00000000e+00,  0.00000000e+00,\n",
              "         0.00000000e+00,  0.00000000e+00,  0.00000000e+00,\n",
              "         0.00000000e+00,  0.00000000e+00],\n",
              "       [ 2.68668390e-06,  4.74503939e-01, -6.16978613e-01,\n",
              "         1.88541496e-01,  5.98739890e-01,  1.53300297e-04,\n",
              "         2.21836142e-16, -4.74206878e-17,  2.30615767e-16,\n",
              "        -4.21822301e-17,  9.54060437e-17,  2.19876719e-16,\n",
              "        -5.31593346e-17,  1.65373640e-16],\n",
              "       [ 3.78857334e-05,  8.83863691e-04,  7.66482812e-05,\n",
              "        -3.35095700e-04, -2.60777333e-03, -3.03856638e-03,\n",
              "         5.21287310e-02,  3.32821892e-02, -1.05804396e-01,\n",
              "        -2.19647240e-02, -1.35719834e-02, -1.50208504e-01,\n",
              "         3.28187519e-01,  7.21107983e-03],\n",
              "       [ 3.27695173e-05, -6.95979381e-05, -1.71500453e-03,\n",
              "         1.48475337e-03, -3.62232609e-03,  2.59817068e-03,\n",
              "         1.95742714e-02,  1.84337667e-01,  1.61745683e-01,\n",
              "        -2.18481922e-01,  1.92442981e-01,  1.37336234e-01,\n",
              "        -1.22293172e-01, -8.66134608e-02],\n",
              "       [-2.05263199e-05,  2.66991510e-03, -9.29817460e-04,\n",
              "         1.26470968e-03,  2.15641841e-03,  8.04045289e-03,\n",
              "         3.47869484e-01,  2.42481540e-01, -2.72844999e-01,\n",
              "         1.53710990e-01, -5.04746609e-02, -1.93978377e-01,\n",
              "        -2.15493224e-01,  1.53250698e-01],\n",
              "       [-3.29158850e-05,  1.41453938e-04, -1.29245545e-03,\n",
              "        -3.37402093e-04,  1.77181585e-03, -6.25036634e-03,\n",
              "         2.47018416e-01, -1.92919854e-01, -9.64150000e-02,\n",
              "         8.79037004e-02, -1.06584229e-02, -9.46729356e-02,\n",
              "         9.15968964e-02,  2.12578664e-01],\n",
              "       [ 5.28071856e-06, -7.03076936e-04,  1.37179920e-04,\n",
              "        -9.90797945e-04, -6.05867508e-04,  5.14103317e-03,\n",
              "         1.95988533e-01,  4.70820345e-01,  2.34691127e-01,\n",
              "        -5.47554311e-03,  1.80195901e-01, -6.64164816e-02,\n",
              "         5.23975188e-01,  2.82952773e-01]])"
            ]
          },
          "execution_count": 57,
          "metadata": {},
          "output_type": "execute_result"
        }
      ],
      "source": [
        "reduced_data"
      ]
    },
    {
      "cell_type": "code",
      "execution_count": 58,
      "metadata": {},
      "outputs": [
        {
          "data": {
            "text/plain": [
              "array([0.08832643, 0.13239554, 0.18135076, 0.22904495, 0.27705555,\n",
              "       0.31892531, 0.34261326, 0.36720882, 0.39121294, 0.41381979,\n",
              "       0.43751449, 0.46212613, 0.48655416, 0.51075616])"
            ]
          },
          "execution_count": 58,
          "metadata": {},
          "output_type": "execute_result"
        }
      ],
      "source": [
        "svd.explained_variance_ratio_.cumsum()"
      ]
    },
    {
      "cell_type": "code",
      "execution_count": 59,
      "metadata": {},
      "outputs": [],
      "source": [
        "from sklearn.metrics.pairwise import cosine_similarity"
      ]
    },
    {
      "cell_type": "code",
      "execution_count": 60,
      "metadata": {},
      "outputs": [],
      "source": [
        "similarity = cosine_similarity(reduced_data)"
      ]
    },
    {
      "cell_type": "code",
      "execution_count": 61,
      "metadata": {},
      "outputs": [
        {
          "data": {
            "text/plain": [
              "array([[ 1.00000000e+00,  2.10578201e-05,  2.10578201e-05, ...,\n",
              "         1.65641587e-03,  6.33678601e-04, -2.55196733e-04],\n",
              "       [ 2.10578201e-05,  1.00000000e+00,  1.00000000e+00, ...,\n",
              "         1.51299685e-03, -1.61997002e-03, -1.08713570e-03],\n",
              "       [ 2.10578201e-05,  1.00000000e+00,  1.00000000e+00, ...,\n",
              "         1.51299685e-03, -1.61997002e-03, -1.08713570e-03],\n",
              "       ...,\n",
              "       [ 1.65641587e-03,  1.51299685e-03,  1.51299685e-03, ...,\n",
              "         1.00000000e+00,  4.21116311e-01,  9.88036584e-02],\n",
              "       [ 6.33678601e-04, -1.61997002e-03, -1.61997002e-03, ...,\n",
              "         4.21116311e-01,  1.00000000e+00,  1.32393345e-01],\n",
              "       [-2.55196733e-04, -1.08713570e-03, -1.08713570e-03, ...,\n",
              "         9.88036584e-02,  1.32393345e-01,  1.00000000e+00]])"
            ]
          },
          "execution_count": 61,
          "metadata": {},
          "output_type": "execute_result"
        }
      ],
      "source": [
        "similarity"
      ]
    },
    {
      "cell_type": "code",
      "execution_count": 62,
      "metadata": {},
      "outputs": [
        {
          "data": {
            "text/plain": [
              "array([[ 9.99846460e-01,  2.10546375e-05,  2.10546375e-05, ...,\n",
              "         1.03177512e-03,  2.67298234e-04, -2.14518163e-04],\n",
              "       [ 2.10546375e-05,  9.99851273e-01,  9.99851273e-01, ...,\n",
              "         9.42442233e-04, -6.83337210e-04, -9.13847575e-04],\n",
              "       [ 2.10546375e-05,  9.99851273e-01,  9.99851273e-01, ...,\n",
              "         9.42442233e-04, -6.83337210e-04, -9.13847575e-04],\n",
              "       ...,\n",
              "       [ 1.03177512e-03,  9.42442233e-04,  9.42442233e-04, ...,\n",
              "         3.88059237e-01,  1.10665300e-01,  5.17421346e-02],\n",
              "       [ 2.67298234e-04, -6.83337210e-04, -6.83337210e-04, ...,\n",
              "         1.10665300e-01,  1.77959339e-01,  4.69514326e-02],\n",
              "       [-2.14518163e-04, -9.13847575e-04, -9.13847575e-04, ...,\n",
              "         5.17421346e-02,  4.69514326e-02,  7.06715482e-01]])"
            ]
          },
          "execution_count": 62,
          "metadata": {},
          "output_type": "execute_result"
        }
      ],
      "source": [
        "from sklearn.metrics.pairwise import linear_kernel\n",
        "\n",
        "cosine_sim = linear_kernel(reduced_data, reduced_data)\n",
        "\n",
        "cosine_sim"
      ]
    },
    {
      "cell_type": "code",
      "execution_count": 63,
      "metadata": {},
      "outputs": [],
      "source": [
        "indices = pd.Series(df_final.index, index=df_final['name']).drop_duplicates()"
      ]
    },
    {
      "cell_type": "code",
      "execution_count": 64,
      "metadata": {},
      "outputs": [],
      "source": [
        "def get_recommendations(name, cosine_sim=cosine_sim):\n",
        "    idx = indices[name]\n",
        "\n",
        "    sim_scores = list(enumerate(cosine_sim[idx]))\n",
        "\n",
        "    sim_scores = sorted(sim_scores, key=lambda x: x[1], reverse=True)\n",
        "\n",
        "    sim_scores = sim_scores[1:20]\n",
        "\n",
        "    project_indices = [i[0] for i in sim_scores]\n",
        "\n",
        "    recommended_project_ids = df_final['id'].iloc[project_indices].tolist()\n",
        "    result_dict = {}\n",
        "    for i, project_id in enumerate(recommended_project_ids):\n",
        "        result_dict[i + 1] = project_id\n",
        "\n",
        "    return result_dict"
      ]
    },
    {
      "cell_type": "code",
      "execution_count": 65,
      "metadata": {},
      "outputs": [
        {
          "data": {
            "text/plain": [
              "{1: 3,\n",
              " 2: 52,\n",
              " 3: 24,\n",
              " 4: 36,\n",
              " 5: 6,\n",
              " 6: 7,\n",
              " 7: 47,\n",
              " 8: 10,\n",
              " 9: 35,\n",
              " 10: 53,\n",
              " 11: 67,\n",
              " 12: 66,\n",
              " 13: 49,\n",
              " 14: 62,\n",
              " 15: 15,\n",
              " 16: 1,\n",
              " 17: 4,\n",
              " 18: 8,\n",
              " 19: 9}"
            ]
          },
          "execution_count": 65,
          "metadata": {},
          "output_type": "execute_result"
        }
      ],
      "source": [
        "get_recommendations(\"dog\")"
      ]
    },
    {
      "cell_type": "markdown",
      "metadata": {},
      "source": [
        "Hora de enviar los resultados de la similitud de cosenos entre vectores a la base de datos"
      ]
    },
    {
      "cell_type": "code",
      "execution_count": 66,
      "metadata": {},
      "outputs": [
        {
          "name": "stdout",
          "output_type": "stream",
          "text": [
            "Requirement already satisfied: flask in c:\\users\\47295973\\appdata\\local\\programs\\python\\python311\\lib\\site-packages (3.0.0)\n",
            "Requirement already satisfied: Werkzeug>=3.0.0 in c:\\users\\47295973\\appdata\\local\\programs\\python\\python311\\lib\\site-packages (from flask) (3.0.1)\n",
            "Requirement already satisfied: Jinja2>=3.1.2 in c:\\users\\47295973\\appdata\\local\\programs\\python\\python311\\lib\\site-packages (from flask) (3.1.2)\n",
            "Requirement already satisfied: itsdangerous>=2.1.2 in c:\\users\\47295973\\appdata\\local\\programs\\python\\python311\\lib\\site-packages (from flask) (2.1.2)\n",
            "Requirement already satisfied: click>=8.1.3 in c:\\users\\47295973\\appdata\\local\\programs\\python\\python311\\lib\\site-packages (from flask) (8.1.7)\n",
            "Requirement already satisfied: blinker>=1.6.2 in c:\\users\\47295973\\appdata\\local\\programs\\python\\python311\\lib\\site-packages (from flask) (1.7.0)\n",
            "Requirement already satisfied: colorama in c:\\users\\47295973\\appdata\\local\\programs\\python\\python311\\lib\\site-packages (from click>=8.1.3->flask) (0.4.6)\n",
            "Requirement already satisfied: MarkupSafe>=2.0 in c:\\users\\47295973\\appdata\\local\\programs\\python\\python311\\lib\\site-packages (from Jinja2>=3.1.2->flask) (2.1.3)\n",
            "Note: you may need to restart the kernel to use updated packages.\n"
          ]
        },
        {
          "name": "stderr",
          "output_type": "stream",
          "text": [
            "\n",
            "[notice] A new release of pip available: 22.3.1 -> 23.3.1\n",
            "[notice] To update, run: python.exe -m pip install --upgrade pip\n"
          ]
        }
      ],
      "source": [
        "%pip install flask"
      ]
    },
    {
      "cell_type": "code",
      "execution_count": 67,
      "metadata": {},
      "outputs": [
        {
          "name": "stdout",
          "output_type": "stream",
          "text": [
            "Requirement already satisfied: python-dotenv in c:\\users\\47295973\\appdata\\local\\programs\\python\\python311\\lib\\site-packages (1.0.0)\n",
            "Note: you may need to restart the kernel to use updated packages.\n"
          ]
        },
        {
          "name": "stderr",
          "output_type": "stream",
          "text": [
            "\n",
            "[notice] A new release of pip available: 22.3.1 -> 23.3.1\n",
            "[notice] To update, run: python.exe -m pip install --upgrade pip\n"
          ]
        }
      ],
      "source": [
        "%pip install python-dotenv"
      ]
    },
    {
      "cell_type": "code",
      "execution_count": 68,
      "metadata": {},
      "outputs": [
        {
          "name": "stderr",
          "output_type": "stream",
          "text": [
            "Python-dotenv could not parse statement starting at line 1\n",
            "Python-dotenv could not parse statement starting at line 2\n",
            "Python-dotenv could not parse statement starting at line 4\n",
            "Python-dotenv could not parse statement starting at line 6\n"
          ]
        },
        {
          "name": "stdout",
          "output_type": "stream",
          "text": [
            " * Serving Flask app '__main__'\n",
            " * Debug mode: on\n"
          ]
        },
        {
          "name": "stderr",
          "output_type": "stream",
          "text": [
            "WARNING: This is a development server. Do not use it in a production deployment. Use a production WSGI server instead.\n",
            " * Running on http://127.0.0.1:5000\n",
            "Press CTRL+C to quit\n",
            " * Restarting with stat\n"
          ]
        },
        {
          "ename": "SystemExit",
          "evalue": "1",
          "output_type": "error",
          "traceback": [
            "An exception has occurred, use %tb to see the full traceback.\n",
            "\u001b[1;31mSystemExit\u001b[0m\u001b[1;31m:\u001b[0m 1\n"
          ]
        },
        {
          "name": "stderr",
          "output_type": "stream",
          "text": [
            "C:\\Users\\47295973\\AppData\\Roaming\\Python\\Python311\\site-packages\\IPython\\core\\interactiveshell.py:3556: UserWarning: To exit: use 'exit', 'quit', or Ctrl-D.\n",
            "  warn(\"To exit: use 'exit', 'quit', or Ctrl-D.\", stacklevel=1)\n"
          ]
        }
      ],
      "source": [
        "from flask import Flask, jsonify\n",
        "\n",
        "app = Flask(__name__)\n",
        "\n",
        "@app.route('/http://localhost:3000/recommendations/recommend', methods=['POST'])\n",
        "def obtener_resultados():\n",
        "    resultados = get_recommendations(\"dog\")\n",
        "\n",
        "    resultados_json = jsonify(resultados)\n",
        "\n",
        "    return resultados_json\n",
        "\n",
        "if __name__ == '__main__':\n",
        "    app.run(debug=True)"
      ]
    },
    {
      "cell_type": "code",
      "execution_count": null,
      "metadata": {},
      "outputs": [],
      "source": []
    }
  ],
  "metadata": {
    "colab": {
      "provenance": []
    },
    "kernelspec": {
      "display_name": "Python 3.6.5 64-bit",
      "language": "python",
      "name": "python3"
    },
    "language_info": {
      "codemirror_mode": {
        "name": "ipython",
        "version": 3
      },
      "file_extension": ".py",
      "mimetype": "text/x-python",
      "name": "python",
      "nbconvert_exporter": "python",
      "pygments_lexer": "ipython3",
      "version": "3.11.3"
    },
    "vscode": {
      "interpreter": {
        "hash": "f4e9cda46bb2d9d7fe6ecdff0f8336a934348bf06cb492f2f42f60739b3403b4"
      }
    }
  },
  "nbformat": 4,
  "nbformat_minor": 0
}
